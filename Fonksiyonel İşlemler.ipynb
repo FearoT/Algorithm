{
 "cells": [
  {
   "cell_type": "markdown",
   "id": "ea2f5316",
   "metadata": {},
   "source": [
    "## Fonkisyon Def"
   ]
  },
  {
   "cell_type": "code",
   "execution_count": 16,
   "id": "fdf788d4",
   "metadata": {},
   "outputs": [
    {
     "name": "stdout",
     "output_type": "stream",
     "text": [
      "Merhaba arkadaşlar :)\n",
      "Ben fonksiyonla ekrana yazılıyorum\n"
     ]
    }
   ],
   "source": [
    "def BeniYaz(str):\n",
    "    print(str)\n",
    "BeniYaz(\"Merhaba arkadaşlar :)\")\n",
    "BeniYaz(\"Ben fonksiyonla ekrana yazılıyorum\")"
   ]
  },
  {
   "cell_type": "code",
   "execution_count": 17,
   "id": "f22506ce",
   "metadata": {},
   "outputs": [
    {
     "name": "stdout",
     "output_type": "stream",
     "text": [
      "Toplam:  30\n"
     ]
    }
   ],
   "source": [
    "#Return\n",
    "def top(p1,p2):\n",
    "    toplam=p1+p2\n",
    "    return toplam\n",
    "toplam=top(10,20)\n",
    "print(\"Toplam: \", toplam)"
   ]
  },
  {
   "cell_type": "code",
   "execution_count": 18,
   "id": "9ec88a03",
   "metadata": {},
   "outputs": [
    {
     "name": "stdout",
     "output_type": "stream",
     "text": [
      "Name:  miki\n",
      "Age:  50\n"
     ]
    }
   ],
   "source": [
    "#Fonksiyon Parametreleri\n",
    "def printinfo(name, age):\n",
    "    print(\"Name: \", name)\n",
    "    print(\"Age: \", age)\n",
    "    return\n",
    "printinfo(age=50, name=\"miki\")"
   ]
  },
  {
   "cell_type": "code",
   "execution_count": 19,
   "id": "3e8d7363",
   "metadata": {},
   "outputs": [
    {
     "name": "stdout",
     "output_type": "stream",
     "text": [
      "Name:  miki\n",
      "Age:  50\n",
      "Name:  miki\n",
      "Age:  35\n"
     ]
    }
   ],
   "source": [
    "#Bağımsız Değişken\n",
    "def printinfo(name, age=35):\n",
    "    print(\"Name: \", name)\n",
    "    print(\"Age: \", age)\n",
    "    return\n",
    "printinfo(age=50, name=\"miki\")\n",
    "printinfo(name=\"miki\")"
   ]
  },
  {
   "cell_type": "code",
   "execution_count": 20,
   "id": "6a1683af",
   "metadata": {},
   "outputs": [
    {
     "name": "stdout",
     "output_type": "stream",
     "text": [
      "Çıktı: \n",
      "10\n",
      "Çıktı: \n",
      "70\n",
      "60\n",
      "50\n"
     ]
    }
   ],
   "source": [
    "#Değişen Uzunlukta Parametreler\n",
    "def printinfo(arg1, *vartuple):\n",
    "    print(\"Çıktı: \")\n",
    "    print(arg1)\n",
    "    for var in vartuple:\n",
    "        print(var)\n",
    "    return\n",
    "printinfo(10)\n",
    "printinfo(70,60,50)"
   ]
  },
  {
   "cell_type": "code",
   "execution_count": 21,
   "id": "7a5ccba4",
   "metadata": {
    "scrolled": true
   },
   "outputs": [
    {
     "name": "stdout",
     "output_type": "stream",
     "text": [
      "Toplam:  30\n",
      "Toplam:  40\n"
     ]
    }
   ],
   "source": [
    "#Lambda İşlevi\n",
    "Top=lambda p1,p2:p1+p2\n",
    "print(\"Toplam: \", Top(10,20))\n",
    "print(\"Toplam: \", Top(20,20))"
   ]
  },
  {
   "cell_type": "code",
   "execution_count": 22,
   "id": "bda0205f",
   "metadata": {},
   "outputs": [
    {
     "name": "stdout",
     "output_type": "stream",
     "text": [
      "Fonksiyon içi(değişmeden önce):  [10, 20, 30]\n",
      "Fonksiyon içi(değiştikten sonra):  [10, 20, 50]\n",
      "Fonksiyon dışı:  [10, 20, 50]\n"
     ]
    }
   ],
   "source": [
    "#Global Değişken\n",
    "def degisBeni(liste):\n",
    "    print(\"Fonksiyon içi(değişmeden önce): \", liste)\n",
    "    liste[2]=50\n",
    "    print(\"Fonksiyon içi(değiştikten sonra): \", liste)\n",
    "    return\n",
    "liste=[10,20,30]\n",
    "degisBeni(liste)\n",
    "print(\"Fonksiyon dışı: \", liste)"
   ]
  },
  {
   "cell_type": "code",
   "execution_count": 23,
   "id": "19b3a643",
   "metadata": {},
   "outputs": [
    {
     "name": "stdout",
     "output_type": "stream",
     "text": [
      "Fonksiyon içi(değiştikten sonra):  [1, 2, 3, 4]\n",
      "Fonksiyon dışı:  [10, 20, 30]\n"
     ]
    }
   ],
   "source": [
    "#Lokal Değişken\n",
    "def degisBeni(mylist):\n",
    "    mylist=[1,2,3,4] #Bu satırda yeni bir liste tanımlanıyor\n",
    "    print(\"Fonksiyon içi(değiştikten sonra): \", mylist)\n",
    "    return\n",
    "mylist=[10,20,30]\n",
    "degisBeni(mylist)\n",
    "print(\"Fonksiyon dışı: \", mylist)"
   ]
  },
  {
   "cell_type": "markdown",
   "id": "5d20f6be",
   "metadata": {},
   "source": [
    "# Problemler"
   ]
  },
  {
   "cell_type": "code",
   "execution_count": 5,
   "id": "f955e5d9",
   "metadata": {
    "scrolled": true
   },
   "outputs": [
    {
     "name": "stdout",
     "output_type": "stream",
     "text": [
      "Sayı:9\n",
      "0 != 1\n",
      "1 != 1\n",
      "2 != 2\n",
      "3 != 6\n",
      "4 != 24\n",
      "5 != 120\n",
      "6 != 720\n",
      "7 != 5040\n",
      "8 != 40320\n",
      "9 != 362880\n"
     ]
    }
   ],
   "source": [
    "#Ağıştaki çıktıyı veren programı yazınız?\n",
    "#0!=1 1!=1 2!=2 3!=6 gibi 9 a kadar alt alta yaz\n",
    "def faktoryelhesapla(a):\n",
    "    f=1\n",
    "    for i in range(1,a+1):\n",
    "        f*=i\n",
    "    return f\n",
    "n=int(input(\"Sayı:\"))\n",
    "for i in range(n+1):\n",
    "    print(i,\"!=\", faktoryelhesapla(i))"
   ]
  },
  {
   "cell_type": "code",
   "execution_count": 4,
   "id": "611b72cc",
   "metadata": {
    "scrolled": true
   },
   "outputs": [
    {
     "name": "stdin",
     "output_type": "stream",
     "text": [
      "n=  9\n"
     ]
    },
    {
     "name": "stdout",
     "output_type": "stream",
     "text": [
      "2\n",
      "3\n",
      "5\n",
      "7\n",
      "11\n",
      "13\n",
      "17\n",
      "19\n",
      "23\n"
     ]
    }
   ],
   "source": [
    "#İlk N asal sayısını listeleyen program?\n",
    "def asalmı(a):\n",
    "    asal=1\n",
    "    for i in range(2,a):\n",
    "        if a%i==0:\n",
    "            asal=0\n",
    "            break\n",
    "    return asal\n",
    "n=int(input(\"n= \"))\n",
    "c=0\n",
    "sayı=2\n",
    "while c<n:\n",
    "    if asalmı(sayı)==1:\n",
    "        c+=1\n",
    "        print(sayı)\n",
    "    sayı+=1"
   ]
  },
  {
   "cell_type": "code",
   "execution_count": 6,
   "id": "76861226",
   "metadata": {},
   "outputs": [
    {
     "name": "stdin",
     "output_type": "stream",
     "text": [
      "Bir Sayı Giriniz:  732\n"
     ]
    },
    {
     "name": "stdout",
     "output_type": "stream",
     "text": [
      "6!-7! = 732\n"
     ]
    }
   ],
   "source": [
    "#Girilen sayının kaç faktöriyel olduğunu bulunuz (720=6!)\n",
    "def faktoriyel(a):\n",
    "    sonuc=1\n",
    "    for i in range(2,a+1):\n",
    "        sonuc*=i\n",
    "    return sonuc\n",
    "N=int(input(\"Bir Sayı Giriniz: \"))\n",
    "c=2\n",
    "while c<N:\n",
    "    if N==faktoriyel(c):\n",
    "        print(str(c)+\"!\",\"=\",N)\n",
    "        break\n",
    "    elif N<faktoriyel(c):\n",
    "        print(str(c-1)+\"!-\"+str(c)+\"!\",\"=\",N)\n",
    "        break\n",
    "    c+=1  "
   ]
  },
  {
   "cell_type": "code",
   "execution_count": 3,
   "id": "da1306e6",
   "metadata": {},
   "outputs": [
    {
     "name": "stdout",
     "output_type": "stream",
     "text": [
      "[0, 0, 1, 1, 2, 3, 4, 4, 5, 5, 5, 12, 12, 35]\n",
      "2\n",
      "1\n",
      "[0, 0, 1, 1, 2, 3, 4, 4, 5, 5, 5, 12, 12, 35]\n",
      "0\n"
     ]
    }
   ],
   "source": [
    "#Listede en fazla tekrar eden elemanı silen program?\n",
    "liste=[1,2,3,5,0,5,5,4,12,12,35,4,1,0]\n",
    "\n",
    "for i in range(len(liste)-1):\n",
    "    for j in range(len(liste)-1):\n",
    "        if liste[j]>liste[j+1]:\n",
    "            a=liste[j+1]\n",
    "            liste[j+1]=liste[j]\n",
    "            liste[j]=a   \n",
    "\n",
    "\n",
    "print(liste)            \n",
    "sayı=liste[0]\n",
    "sayac=0\n",
    "sayac2=0\n",
    "for k in range(len(liste)):\n",
    "    if sayı==liste[k]:\n",
    "        sayac+=1\n",
    "    elif sayı!=liste[k]:\n",
    "        sayı=liste[k]\n",
    "        if sayac>=sayac2:\n",
    "            maks=sayac\n",
    "        sayac2=sayac\n",
    "        \n",
    "        sayac=0\n",
    "print(maks)\n",
    "print(sayac2)\n",
    "print(liste)\n",
    "print(sayac)\n",
    "#Eksik Tekrar Bak\n",
    "            "
   ]
  },
  {
   "cell_type": "code",
   "execution_count": 13,
   "id": "f618e0d3",
   "metadata": {},
   "outputs": [
    {
     "name": "stdout",
     "output_type": "stream",
     "text": [
      "x= 5\n",
      "91.41666666666667\n"
     ]
    }
   ],
   "source": [
    "#e**x=1+x+(x**2/2!)+......+(x**10/10!)\n",
    "def faktoriyel(a):\n",
    "    f=1\n",
    "    for i in range(2,a+1):\n",
    "        f*=i\n",
    "    return f\n",
    "top=0\n",
    "x=int(input(\"x= \"))\n",
    "for i in range(x+1):\n",
    "    pay=x**i\n",
    "    payda=faktoriyel(i)\n",
    "    top+=pay/payda\n",
    "print(top)"
   ]
  },
  {
   "cell_type": "code",
   "execution_count": 14,
   "id": "da527007",
   "metadata": {},
   "outputs": [
    {
     "name": "stdout",
     "output_type": "stream",
     "text": [
      "sayı= 145\n",
      "Güçlü\n"
     ]
    }
   ],
   "source": [
    "#Girilen sayının Güçlü (1! + 4! + 5!  = 1 + 24 + 120 = 145) olup olmadığını bulan program?\n",
    "def faktoriyel(a):\n",
    "    f=1\n",
    "    for i in range(2,a+1):\n",
    "        f*=i\n",
    "    return f\n",
    "top=0\n",
    "sayı=int(input(\"sayı= \"))\n",
    "yedek=sayı\n",
    "while sayı>0:\n",
    "    sonhane=sayı%10\n",
    "    top+=faktoriyel(sonhane)\n",
    "    sayı=sayı//10\n",
    "if top==yedek:\n",
    "    print(\"Güçlü\")\n",
    "else:\n",
    "    print(\"Güçlü Değil\")"
   ]
  },
  {
   "cell_type": "code",
   "execution_count": 16,
   "id": "f491c4ff",
   "metadata": {},
   "outputs": [
    {
     "name": "stdout",
     "output_type": "stream",
     "text": [
      "N=4\n",
      "1.0 \n",
      "2.0 1.0 \n",
      "3.0 3.0 1.0 \n",
      "4.0 6.0 4.0 1.0 \n"
     ]
    }
   ],
   "source": [
    "#PASCAL üçgeninin n'in ci satırını üretiniz\n",
    "def faktoriyel(a):\n",
    "    f=1\n",
    "    for i in range(2,a+1):\n",
    "        f*=i\n",
    "    return f\n",
    "N=int(input(\"N=\"))\n",
    "for n in range(1,N+1):\n",
    "    for r in range(1,n+1):\n",
    "        pay=faktoriyel(n)\n",
    "        payda=faktoriyel(n-r)*faktoriyel(r)\n",
    "        c=pay/payda\n",
    "        print(c,end=\" \")\n",
    "    print()\n",
    "#eksik bak"
   ]
  },
  {
   "cell_type": "code",
   "execution_count": null,
   "id": "e50a27f1",
   "metadata": {},
   "outputs": [],
   "source": [
    "#n satırlı PASCAL üçgenini çıktı veren programı yazınız?"
   ]
  }
 ],
 "metadata": {
  "kernelspec": {
   "display_name": "Python 3",
   "language": "python",
   "name": "python3"
  },
  "language_info": {
   "codemirror_mode": {
    "name": "ipython",
    "version": 3
   },
   "file_extension": ".py",
   "mimetype": "text/x-python",
   "name": "python",
   "nbconvert_exporter": "python",
   "pygments_lexer": "ipython3",
   "version": "3.8.8"
  }
 },
 "nbformat": 4,
 "nbformat_minor": 5
}
