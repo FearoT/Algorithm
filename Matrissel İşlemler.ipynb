{
 "cells": [
  {
   "cell_type": "code",
   "execution_count": 1,
   "id": "6b61c52c",
   "metadata": {},
   "outputs": [
    {
     "name": "stdout",
     "output_type": "stream",
     "text": [
      "[[2, 4, 5, 6, 8], [5, 6, 48, 9], [87, 9, 5, 654]]\n"
     ]
    }
   ],
   "source": [
    "#Çok boyutlu listeler\n",
    "a=[[2,4,5,6,8],[5,6,48,9],[87,9,5,654]]\n",
    "print(a)"
   ]
  },
  {
   "cell_type": "code",
   "execution_count": 2,
   "id": "46fc6e1c",
   "metadata": {},
   "outputs": [
    {
     "name": "stdout",
     "output_type": "stream",
     "text": [
      "[2, 4, 5, 6, 8]\n",
      "[5, 6, 48, 9]\n",
      "[87, 9, 5, 654]\n"
     ]
    }
   ],
   "source": [
    "#Matrissi çıktıya gönder\n",
    "a=[[2,4,5,6,8],[5,6,48,9],[87,9,5,654]]\n",
    "for record in a:\n",
    "    print(record)"
   ]
  },
  {
   "cell_type": "code",
   "execution_count": 1,
   "id": "b1a60241",
   "metadata": {},
   "outputs": [
    {
     "name": "stdout",
     "output_type": "stream",
     "text": [
      "2 4 5 6 8 \n",
      "5 6 48 9 \n",
      "87 9 5 654 \n"
     ]
    }
   ],
   "source": [
    "a=[[2,4,5,6,8],\n",
    "   [5,6,48,9],\n",
    "   [87,9,5,654]]\n",
    "for i in range(len(a)):\n",
    "    for j in range(len(a[i])):\n",
    "        print(a[i][j], end=\" \")\n",
    "    print()"
   ]
  },
  {
   "cell_type": "code",
   "execution_count": 5,
   "id": "9e61effc",
   "metadata": {},
   "outputs": [
    {
     "name": "stdout",
     "output_type": "stream",
     "text": [
      "[[0, 0, 0, 0, 0], [0, 0, 0, 0, 0], [0, 0, 0, 0, 0], [0, 0, 0, 0, 0]]\n"
     ]
    }
   ],
   "source": [
    "m=4\n",
    "n=5\n",
    "a=[[0 for x in range(n)] for x in range(m)]\n",
    "print(a)"
   ]
  },
  {
   "cell_type": "code",
   "execution_count": 3,
   "id": "edfec5d0",
   "metadata": {},
   "outputs": [
    {
     "name": "stdin",
     "output_type": "stream",
     "text": [
      "a 5\n",
      "a 6\n",
      "a 5\n",
      "a 6\n",
      "a 5\n",
      "a 6\n"
     ]
    },
    {
     "name": "stdout",
     "output_type": "stream",
     "text": [
      "[[5, 6, 5, 6, 8], [5, 6, 48, 9], [5, 6, 5, 654]]\n"
     ]
    }
   ],
   "source": [
    "m=3\n",
    "n=2\n",
    "for i in range(m):\n",
    "    for j in range(n):\n",
    "        a[i][j]=int(input(\"a\"))\n",
    "print(a)"
   ]
  },
  {
   "cell_type": "markdown",
   "id": "6f00d589",
   "metadata": {},
   "source": [
    "# Problemler"
   ]
  },
  {
   "cell_type": "code",
   "execution_count": 2,
   "id": "ffed804c",
   "metadata": {},
   "outputs": [
    {
     "name": "stdout",
     "output_type": "stream",
     "text": [
      "Matrislerin satir sayisini giriniz (m)=\n",
      "2\n",
      "Matrislerin sutun sayisini giriniz (n)=\n",
      "2\n",
      "A matrisini giriniz:\n",
      "A[1][1]\n",
      "4\n",
      "A[1][2]\n",
      "6\n",
      "A[2][1]\n",
      "3\n",
      "A[2][2]\n",
      "4\n",
      "B matrisini giriniz:\n",
      "B[1][1]\n",
      "5\n",
      "B[1][2]\n",
      "-1\n",
      "B[2][1]\n",
      "2\n",
      "B[2][2]\n",
      "3\n",
      "[[9, 5], [5, 7]]\n"
     ]
    }
   ],
   "source": [
    "#İki matrisin toplamını bul.\n",
    "# Boyutların girilmesi\n",
    "print(\"Matrislerin satir sayisini giriniz (m)=\")\n",
    "m = int(input())\n",
    "print(\"Matrislerin sutun sayisini giriniz (n)=\")\n",
    "n = int(input())\n",
    "# “A” matrisinin oluşturulması\n",
    "A = [[0 for i in range(n)] for i in range(m)]\n",
    "# “A” matrisinin girilmesi\n",
    "print(\"A matrisini giriniz:\")\n",
    "for i in range(m):\n",
    "    for j in range(n):\n",
    "        print('A[{}][{}]'.format(i+1, j+1))\n",
    "        A[i][j] = int(input())\n",
    "# “B” matrisinin oluşturulması\n",
    "B = [[0 for i in range(n)] for i in range(m)]\n",
    "# “B” matrisinin girilmesi\n",
    "print(\"B matrisini giriniz:\")\n",
    "for i in range(m):\n",
    "    for j in range(n):\n",
    "        print('B[{}][{}]'.format(i+1, j+1))\n",
    "        B[i][j] = int(input())\n",
    "# “C” matrisinin oluşturulması\n",
    "C = [[0 for i in range(n)] for i in range(m)]\n",
    "# İç içe döngü kullanarak karşılıklı elemanların toplanması\n",
    "for i in range(m):\n",
    "    for j in range(n):\n",
    "        C[i][j] = A[i][j] + B[i][j]\n",
    "# Sonucun yazdırılması\n",
    "print(C)\n",
    "\n",
    "# Not: daha verimli işlemler için NumPy kütüphanesini araştır"
   ]
  },
  {
   "cell_type": "code",
   "execution_count": 2,
   "id": "976b9e6c",
   "metadata": {},
   "outputs": [
    {
     "name": "stdout",
     "output_type": "stream",
     "text": [
      "[[3, 9], [3, 9], [9, 2]]\n",
      "[15, 20]\n",
      "[12, 12, 11]\n"
     ]
    }
   ],
   "source": [
    "#Matrisin satır ve sütun toplamlarını hesapla.\n",
    "#Matris Topla\n",
    "import random\n",
    "def RandomMatris(satır,sütun):\n",
    "    M=[[round(random.random()*10)for i in range(sütun)]for j in range(satır)]\n",
    "    return M\n",
    "def Topla(m1,m2,m3):\n",
    "    for i in range(len(m1)):\n",
    "        for j in range(len(m2)):\n",
    "            m3[i][j]=m1[i][j]+m2[i][j]\n",
    "    return m3\n",
    "#Toplama örnek kullanım\n",
    "#m=2 n=2\n",
    "#m1=RandomMatris(m,n) m2=RandomMatris(m,n) m3=SıfırMatris(m,n) m3=Topla(m1,m2,m3) print(m1) print(m2) print(m3)\n",
    "\n",
    "def SıfırMatris(satır,sütun):\n",
    "    M=[[0 for i in range(sütun)] for j in range(satır)]\n",
    "    return M\n",
    "def SıfırListe(sütun):\n",
    "    M=[0 for i in range(sütun)]\n",
    "    return M\n",
    "\n",
    "def SatırTopla(m):\n",
    "    A=SıfırListe(len(m[0])) #Sütun A nın\n",
    "    for i in range(len(m[0])): #Sütun\n",
    "        for j in range(len(m)):  #Satır\n",
    "            A[i]=A[i]+m[j][i]\n",
    "    return A\n",
    "def SütunTopla(m):\n",
    "    A=SıfırListe(len(m)) #Satır A nın\n",
    "    for i in range(len(m)): #Satır\n",
    "        for j in range(len(m[0])):  #Sütun\n",
    "            A[i]=A[i]+m[i][j]\n",
    "    return A\n",
    "\n",
    "m=3 \n",
    "n=2\n",
    "A=RandomMatris(m,n)\n",
    "print(A)\n",
    "print(SatırTopla(A))\n",
    "print(SütunTopla(A))\n",
    "#SatırTopla SütunTopla galiba yer değiştir."
   ]
  },
  {
   "cell_type": "code",
   "execution_count": 4,
   "id": "e9c9e59d",
   "metadata": {},
   "outputs": [
    {
     "name": "stdout",
     "output_type": "stream",
     "text": [
      "[[7, 1, 4, 8], [8, 9, 6, 2]]\n",
      "9\n"
     ]
    }
   ],
   "source": [
    "#Matristeki en büyük sayıyı bul.\n",
    "m=RandomMatris(2,4)\n",
    "enb=m[0][0]\n",
    "for i in range(len(m)):          #Satır\n",
    "    for j in range(len(m[0])):   #Sütun\n",
    "        if m[i][j]>enb:\n",
    "            enb=m[i][j]\n",
    "print(m)            \n",
    "print(enb)"
   ]
  },
  {
   "cell_type": "code",
   "execution_count": null,
   "id": "c381ce1c",
   "metadata": {},
   "outputs": [],
   "source": [
    "#Matris izini (diyagonal toplam) bul.\n"
   ]
  },
  {
   "cell_type": "code",
   "execution_count": null,
   "id": "b3d7e93a",
   "metadata": {},
   "outputs": [],
   "source": [
    "#Verilen sayıyı matrisin k. indeksine yerleştir?\n",
    "matris=[[0,2,3],\n",
    "        [5,6,4],\n",
    "        [8,9,4]]\n",
    "sayı=int(input(\"Sayıyı Giriniz:\"))\n",
    "satır=int(input(\"Matrisin Satırını Giriniz:\"))\n",
    "sütun=int(input(\"Matrisin Sütununu Girniz:\"))\n"
   ]
  },
  {
   "cell_type": "code",
   "execution_count": 7,
   "id": "d41f160f",
   "metadata": {},
   "outputs": [
    {
     "data": {
      "text/plain": [
       "[[1, -1], [2, -2], [3, -3]]"
      ]
     },
     "execution_count": 7,
     "metadata": {},
     "output_type": "execute_result"
    }
   ],
   "source": [
    "#Matrisin transpozunu alın.\n",
    "m1=[[1,2,3],\n",
    "  [-1,-2,-3]]\n",
    "def transpoz(m):\n",
    "    t=[]\n",
    "    for i in range(len(m[0])):\n",
    "        t.append([0]*len(m))\n",
    "    for j in range(len(m)):\n",
    "        for k in range(len(m[0])):\n",
    "            t[k][j]=m[j][k]\n",
    "    return t\n",
    "transpoz(m1)\n",
    "#len(m) satır sayısı len(m[0]) sütun saayısı    \n",
    "    \n",
    "    "
   ]
  },
  {
   "cell_type": "code",
   "execution_count": null,
   "id": "92e508dd",
   "metadata": {},
   "outputs": [],
   "source": [
    "#İki matrisin çarpımını hesaplayan prog?"
   ]
  },
  {
   "cell_type": "code",
   "execution_count": null,
   "id": "d89b5e41",
   "metadata": {},
   "outputs": [],
   "source": [
    "#Girilen N değerine göre NxN boyutlu bir matrisin hücrelerine 1 den NxN'e kadar sayıları yerleştir."
   ]
  },
  {
   "cell_type": "code",
   "execution_count": null,
   "id": "52eab95d",
   "metadata": {},
   "outputs": [],
   "source": [
    "#0-1 değerlerini içeren bir matristeki nesnenin alanını hesapla."
   ]
  },
  {
   "cell_type": "code",
   "execution_count": null,
   "id": "a90cbc30",
   "metadata": {},
   "outputs": [],
   "source": [
    "#0-1 değerlerini içeren bir matristeki nesnenin kenarlarını hesapla."
   ]
  },
  {
   "cell_type": "code",
   "execution_count": null,
   "id": "96be343c",
   "metadata": {},
   "outputs": [],
   "source": [
    "#Matristeki şekli n kat büyüten programı yazınız?"
   ]
  }
 ],
 "metadata": {
  "kernelspec": {
   "display_name": "Python 3",
   "language": "python",
   "name": "python3"
  },
  "language_info": {
   "codemirror_mode": {
    "name": "ipython",
    "version": 3
   },
   "file_extension": ".py",
   "mimetype": "text/x-python",
   "name": "python",
   "nbconvert_exporter": "python",
   "pygments_lexer": "ipython3",
   "version": "3.8.8"
  }
 },
 "nbformat": 4,
 "nbformat_minor": 5
}
