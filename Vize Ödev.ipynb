{
 "cells": [
  {
   "cell_type": "code",
   "execution_count": 1,
   "id": "a8622a11-aba4-42d9-b6bc-79ea06fd1197",
   "metadata": {},
   "outputs": [
    {
     "name": "stdout",
     "output_type": "stream",
     "text": [
      "Minimum number of directories to delete: 4\n"
     ]
    }
   ],
   "source": [
    "#String Restoration\n",
    "t = int(input())\n",
    "\n",
    "while t:\n",
    "    t-=1\n",
    "    count = 0\n",
    "    n = int(input())\n",
    "    arr = list(map(int,input().split()))\n",
    "    for i in range(n-1):\n",
    "        if arr[i]>arr[i+1] or (arr[i+1]-arr[i])>1 or arr[0]>1:\n",
    "            count = 1\n",
    "            break\n",
    "    if count == 1:\n",
    "        print(-1)\n",
    "    else:\n",
    "        print(\"a\",end=\"\")\n",
    "        for i in range(1,n):\n",
    "            if arr[i-1]!=arr[i]:\n",
    "                x = 96+arr[i]\n",
    "                print(chr(x),end=\"\")\n",
    "            else:\n",
    "                print(\"a\",end=\"\")\n",
    "        print()"
   ]
  },
  {
   "cell_type": "code",
   "execution_count": null,
   "id": "f9b751d1-1c55-4255-9162-b66e8e9839ea",
   "metadata": {},
   "outputs": [],
   "source": [
    "#String Restoration\n",
    "t=int(input())\n",
    "while t:\n",
    "    t-=1\n",
    "    sayac=0\n",
    "    n=int(input())\n",
    "    arr=list(map(int,input().split()))\n",
    "    \n",
    "    for i in range(n-1):\n",
    "        if arr[i]>arr[i+1] or (arr[i+1]-arr[i])>1 or arr[0]>1:\n",
    "            sayac=1\n",
    "            break\n",
    "    \n",
    "    if sayac==1:\n",
    "        print(-1)\n",
    "    else:\n",
    "        print(\"a\",end=\"\")\n",
    "        for i in range(1,n):\n",
    "            if arr[i-1]!=arr[i]:\n",
    "                x=96+arr[i]\n",
    "                print(chr(x),end=\"\")\n",
    "            else:\n",
    "                print(\"a\",end=\"\")\n",
    "        print()"
   ]
  },
  {
   "cell_type": "code",
   "execution_count": 3,
   "id": "81cf01fb-8fe4-414b-aebe-c413e5c31184",
   "metadata": {},
   "outputs": [
    {
     "name": "stdin",
     "output_type": "stream",
     "text": [
      " 4\n",
      " 1 2 3 6 \n"
     ]
    },
    {
     "ename": "IndexError",
     "evalue": "list index out of range",
     "output_type": "error",
     "traceback": [
      "\u001b[1;31m---------------------------------------------------------------------------\u001b[0m",
      "\u001b[1;31mIndexError\u001b[0m                                Traceback (most recent call last)",
      "\u001b[1;32m<ipython-input-3-ff04cd003b31>\u001b[0m in \u001b[0;36m<module>\u001b[1;34m\u001b[0m\n\u001b[0;32m     20\u001b[0m \u001b[1;32mfor\u001b[0m \u001b[0mi\u001b[0m \u001b[1;32min\u001b[0m \u001b[0mrange\u001b[0m\u001b[1;33m(\u001b[0m\u001b[1;36m1\u001b[0m\u001b[1;33m,\u001b[0m\u001b[0mn\u001b[0m\u001b[1;33m)\u001b[0m\u001b[1;33m:\u001b[0m\u001b[1;33m\u001b[0m\u001b[1;33m\u001b[0m\u001b[0m\n\u001b[0;32m     21\u001b[0m \u001b[1;33m\u001b[0m\u001b[0m\n\u001b[1;32m---> 22\u001b[1;33m     \u001b[0mtree\u001b[0m\u001b[1;33m[\u001b[0m\u001b[0mpar\u001b[0m\u001b[1;33m[\u001b[0m\u001b[0mi\u001b[0m\u001b[1;33m]\u001b[0m\u001b[1;33m]\u001b[0m\u001b[1;33m.\u001b[0m\u001b[0mappend\u001b[0m\u001b[1;33m(\u001b[0m\u001b[0mi\u001b[0m\u001b[1;33m+\u001b[0m\u001b[1;36m1\u001b[0m\u001b[1;33m)\u001b[0m\u001b[1;33m\u001b[0m\u001b[1;33m\u001b[0m\u001b[0m\n\u001b[0m\u001b[0;32m     23\u001b[0m \u001b[0mm\u001b[0m\u001b[1;33m=\u001b[0m\u001b[0mint\u001b[0m\u001b[1;33m(\u001b[0m\u001b[0minput\u001b[0m\u001b[1;33m(\u001b[0m\u001b[1;33m)\u001b[0m\u001b[1;33m)\u001b[0m\u001b[1;33m\u001b[0m\u001b[1;33m\u001b[0m\u001b[0m\n\u001b[0;32m     24\u001b[0m \u001b[1;33m\u001b[0m\u001b[0m\n",
      "\u001b[1;31mIndexError\u001b[0m: list index out of range"
     ]
    }
   ],
   "source": [
    "#Directory Deletion\n",
    "def solve(node):\n",
    "    if node in d:\n",
    "        return 1\n",
    "    x=0\n",
    "\n",
    "    for child in tree[node]:\n",
    "        x=x+solve(child)\n",
    "    return x      \n",
    "\n",
    "n=int(input())\n",
    "par=[int(x) for x in input().split()]\n",
    "tree=[[] for i in range(n+1)]\n",
    "\n",
    "for i in range(1,n):\n",
    "    tree[par[i]].append(i+1)\n",
    "    \n",
    "m=int(input())\n",
    "arr=[int(x) for x in input().split()]\n",
    "d={}\n",
    "\n",
    "for i in arr:\n",
    "    d[i]=1\n",
    "print(solve(1))"
   ]
  },
  {
   "cell_type": "code",
   "execution_count": null,
   "id": "6333ae1f-5699-46ef-9c1c-8e982e9d3df3",
   "metadata": {},
   "outputs": [],
   "source": [
    "#Directory Deletion\n",
    "def cozum(a):\n",
    "    if a in d:\n",
    "        return 1\n",
    "    b=0\n",
    "\n",
    "    for cocuk in agac[a]:\n",
    "        b+=cozum(cocuk)\n",
    "    return b      \n",
    "\n",
    "n=int(input())\n",
    "eby=[int(b) for b in input().split()]\n",
    "agac=[[] for i in range(n+1)]\n",
    "\n",
    "for i in range(1,n):\n",
    "    agac[eby[i]].append(i+1)\n",
    "    \n",
    "m=int(input())\n",
    "arr=[int(b) for b in input().split()]\n",
    "d={}\n",
    "\n",
    "for i in arr:\n",
    "    d[i]=1\n",
    "print(cozum(1))"
   ]
  },
  {
   "cell_type": "code",
   "execution_count": null,
   "id": "9163f729-6285-4bc7-9e7a-d0147f3c0509",
   "metadata": {},
   "outputs": [],
   "source": [
    "#Finding the Subarrays hatalı\n",
    "n=int(input())    # Take array size as input from user in variable n\n",
    "arr=list(map(int, input().split()))    # Take array elements as input from user\n",
    "\n",
    "for i in range(1, n):    # Iterate the loop from 1 to n\n",
    "    arr[i] += arr[i-1]    # Add the arr[i] and arr[i-1] and store in arr[i]\n",
    "\n",
    "vec_pair = []    # Declare Empty list vec_pair\n",
    "\n",
    "for i in range(n):    # Iterate the loop from 0 to n\n",
    "    for j in range(i, n):    # Iterate the loop from i to n\n",
    "        if i == 0:    # if i=0\n",
    "            windowAvg = arr[j]/(j+1)    # Calculate the average of arr[0:j]\n",
    "            if j == n-1:    # check if j=n-1\n",
    "                remainingAvg = 0    # initialize remainingAvg with 0\n",
    "            else:    # else body\n",
    "                remainingAvg = (arr[n-1]-arr[j])/(n-j-1)    # Calculate the average of arr[j+1:n-1]\n",
    "            if windowAvg > remainingAvg:    # check if windowAvg > remainingAvg\n",
    "                vec_pair.append((i+1, j+1))    # append the (i+1, j+1) to vec_pair list\n",
    "        else:    # else body\n",
    "            windowAvg = (arr[j]-arr[i-1])/(j-i+1)    # Calculate the average of arr[i:j]\n",
    "            remainingAvg = (arr[n-1]-arr[j]+arr[i-1])/(n-j+i-1)    # Calculate the average of arr[0:i-1] and arr[j+1:n-1]\n",
    "            if windowAvg > remainingAvg:    # check if windowAvg > remainingAvg\n",
    "                vec_pair.append((i+1, j+1))    # append the (i+1, j+1) to vec_pair list\n",
    "\n",
    "vec_pair.sort()    # sort the vec_pair list\n",
    "\n",
    "print(len(vec_pair))    # Print the number of elements in vec_pair list\n",
    "\n",
    "for num in vec_pair:    # Iterate the loop for all elements in vec_pair\n",
    "    print(num[0], num[1])    # Print the num[0] and num[1]"
   ]
  },
  {
   "cell_type": "code",
   "execution_count": null,
   "id": "ad1c70ec-227e-498c-94e9-2d7baa6b4490",
   "metadata": {},
   "outputs": [],
   "source": [
    "#Finding the Subarrays\n",
    "n=int(input())\n",
    "arr=list(map(int, input().split()))\n",
    "\n",
    "for i in range(1, n):\n",
    "    arr[i]+=arr[i-1]\n",
    "\n",
    "a=[]\n",
    "for i in range(n):\n",
    "    for j in range(i, n):\n",
    "        if i==0:\n",
    "            ort=arr[j]/(j+1)\n",
    "            if j==n-1:\n",
    "                ortk=0\n",
    "            else:\n",
    "                ortk=(arr[n-1]-arr[j])/(n-j-1)\n",
    "            if ort>ortk:\n",
    "                a.append((i+1,j+1))\n",
    "        else:\n",
    "            ort=(arr[j]-arr[i-1])/(j-i+1)\n",
    "            ortk=(arr[n-1]-arr[j]+arr[i-1])/(n-j+i-1)\n",
    "            if ort>ortk:\n",
    "                a.append((i+1,j+1))\n",
    "\n",
    "a.sort()\n",
    "print(len(a))\n",
    "\n",
    "for j in a:\n",
    "    print(j[0],j[1])"
   ]
  },
  {
   "cell_type": "code",
   "execution_count": null,
   "id": "02aa9300-075f-4dc6-b427-3ab77893d3aa",
   "metadata": {},
   "outputs": [],
   "source": []
  }
 ],
 "metadata": {
  "kernelspec": {
   "display_name": "Python 3",
   "language": "python",
   "name": "python3"
  },
  "language_info": {
   "codemirror_mode": {
    "name": "ipython",
    "version": 3
   },
   "file_extension": ".py",
   "mimetype": "text/x-python",
   "name": "python",
   "nbconvert_exporter": "python",
   "pygments_lexer": "ipython3",
   "version": "3.8.8"
  }
 },
 "nbformat": 4,
 "nbformat_minor": 5
}
