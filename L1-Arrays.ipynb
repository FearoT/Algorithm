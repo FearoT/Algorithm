{
 "cells": [
  {
   "cell_type": "code",
   "execution_count": 1,
   "id": "d6427561-1e12-4746-a0b7-c262e04e2f55",
   "metadata": {},
   "outputs": [
    {
     "name": "stdout",
     "output_type": "stream",
     "text": [
      "['welcome', 'to', 'the', 'jungle']\n"
     ]
    }
   ],
   "source": [
    "txt=\"welcome to the jungle\"\n",
    "x=txt.split()\n",
    "print(x)"
   ]
  },
  {
   "cell_type": "code",
   "execution_count": null,
   "id": "b6dbd692-a6ed-4dc9-ab0e-d58b25a74f97",
   "metadata": {},
   "outputs": [],
   "source": [
    "#map inputun tipini değiştirir str den int ye dönütşütr yada tam tersi\n",
    "#Monk and Rotation\n",
    "#raw_input her seferinde satır satır çalışıyor\n",
    "T=int(raw_input())\n",
    "while T!=0:\n",
    "    N,K=map(int,raw_input().split())\n",
    "    A=map(int,raw_input().split())\n",
    "    index=N-(K%N)\n",
    "    for i in range(index,N):\n",
    "        print A[i],\n",
    "    for i in range(index):\n",
    "        print A[i],\n",
    "    print \"\"\n",
    "    T-=1"
   ]
  },
  {
   "cell_type": "code",
   "execution_count": null,
   "id": "26818f68-5740-4f15-8a09-8d3359f18667",
   "metadata": {},
   "outputs": [],
   "source": [
    "#Monk and Inversions\n",
    "T= int(input()) #Test Sayısı\n",
    "for tekrar in range(T):\n",
    "    N=int(input()) #NxN Matris Oluşturmak\n",
    "    arr=[]\n",
    "    for x in range(N):\n",
    "        arr+=[input().split()]\n",
    "        for x in range(len(arr)):\n",
    "            for y in range(len(arr)):\n",
    "                arr[x][y]=int(arr[x][y])\n",
    "    #Matris Hazır\n",
    "    counter=0\n",
    "    for j in range(len(arr)):\n",
    "        for q in range(len(arr)):\n",
    "            for i in range(len(arr)):\n",
    "                for p in range(len(arr)):\n",
    "                    if p>=i:\n",
    "                        if q>=j:\n",
    "                            if arr[i][j]>arr[p][q]:\n",
    "                                counter+=1\n",
    "    print(counter)                           "
   ]
  },
  {
   "cell_type": "code",
   "execution_count": 2,
   "id": "f112dc4c-b39a-44ab-b6bc-9549ac916b24",
   "metadata": {},
   "outputs": [
    {
     "name": "stdin",
     "output_type": "stream",
     "text": [
      " 5\n",
      " 1\n"
     ]
    },
    {
     "name": "stdout",
     "output_type": "stream",
     "text": [
      "10\n"
     ]
    },
    {
     "name": "stdin",
     "output_type": "stream",
     "text": [
      " 2\n"
     ]
    },
    {
     "name": "stdout",
     "output_type": "stream",
     "text": [
      "99\n"
     ]
    },
    {
     "name": "stdin",
     "output_type": "stream",
     "text": [
      " 5\n"
     ]
    },
    {
     "name": "stdout",
     "output_type": "stream",
     "text": [
      "96030\n"
     ]
    },
    {
     "name": "stdin",
     "output_type": "stream",
     "text": [
      " 4\n"
     ]
    },
    {
     "name": "stdout",
     "output_type": "stream",
     "text": [
      "9701\n"
     ]
    },
    {
     "name": "stdin",
     "output_type": "stream",
     "text": [
      " 3\n"
     ]
    },
    {
     "name": "stdout",
     "output_type": "stream",
     "text": [
      "980\n"
     ]
    }
   ],
   "source": [
    "#The Unlucky 13\n",
    "def kontrol(s):\n",
    "    c=0\n",
    "    for i in range(len(s)-1):\n",
    "        if s[i:i+2]==\"13\":\n",
    "            c=1\n",
    "            break\n",
    "    if c>0:\n",
    "        return True\n",
    "    else:\n",
    "        return False\n",
    "\n",
    "T=int(input())\n",
    "for ti in range(T):\n",
    "    N=int(input())\n",
    "    c=0\n",
    "    for i in range(10,10**N,1):\n",
    "        if not kontrol(str(i)):\n",
    "            c+=1\n",
    "    print(c+10)"
   ]
  },
  {
   "cell_type": "code",
   "execution_count": 4,
   "id": "ceb5581e-ad17-427b-8a11-4fb903b4859a",
   "metadata": {},
   "outputs": [
    {
     "name": "stdin",
     "output_type": "stream",
     "text": [
      "A Sayısı 5\n",
      "B Sayısı 4\n",
      "A Sayısı 6\n",
      "B Sayısı 3\n",
      "A Sayısı 2\n",
      "B Sayısı 9\n"
     ]
    },
    {
     "name": "stdout",
     "output_type": "stream",
     "text": [
      "[5, 6, 2]\n",
      "[4, 3, 9]\n",
      "(2, 1)\n"
     ]
    }
   ],
   "source": [
    "#Compare the Triplets\n",
    "def compareTriplets(a, b):\n",
    "    aaa=0\n",
    "    bbb=0\n",
    "    for i in range(0,3,1):\n",
    "        if a[i]>b[i]:\n",
    "            aaa+=1\n",
    "        if a[i]<b[i]:\n",
    "            bbb+=1  \n",
    "    return (aaa,bbb)       \n",
    "        \n",
    "        \n",
    "listB=[0,0,0]        \n",
    "listA=[0,0,0]\n",
    "for i in range(3):\n",
    "    listA[i]=int(input(\"A Sayısı\"))\n",
    "    listB[i]=int(input(\"B Sayısı\"))\n",
    "    \n",
    "\n",
    "\n",
    "print(listA)\n",
    "print(listB)\n",
    "print(compareTriplets(listA,listB))"
   ]
  },
  {
   "cell_type": "code",
   "execution_count": null,
   "id": "c789c03f-095c-4bd7-a2d8-5ff96ac1eb52",
   "metadata": {},
   "outputs": [],
   "source": [
    "#Matrisi iki kat küçültme\n",
    "import random\n",
    "N= int(input(\"N=\"))\n",
    "My=[[0 for i in range(int(N/2))] for j in range(int(N/2))]\n",
    "if N%2==1:\n",
    "    N=N-1\n",
    "M=[[round(random.random()*100)for i in range(N)]for j in range(N)]\n",
    "for i in range(int(N/2)):\n",
    "    for j in range(int(N/2)):\n",
    "        My[i][j]=(M[2*i][2*j]+M[2*i][2*j+1]+M[2*i+1][2*j]+M[2*i+1][2*j+1])/4\n",
    "print(My)"
   ]
  },
  {
   "cell_type": "code",
   "execution_count": 4,
   "id": "3ad813fb-5123-4014-839e-575bacfa5458",
   "metadata": {},
   "outputs": [
    {
     "name": "stdin",
     "output_type": "stream",
     "text": [
      "NxN Matris Boyutunu Giriniz, N= 100\n",
      "Küçültme Oranını Giriniz, K= 20\n"
     ]
    },
    {
     "name": "stdout",
     "output_type": "stream",
     "text": [
      "[32.5, 41.75, 32.5, 68.5, 32.25]\n",
      "[53.0, 60.0, 74.75, 80.5, 51.0]\n",
      "[33.0, 30.0, 35.0, 96.25, 54.75]\n",
      "[65.75, 40.25, 54.75, 25.25, 50.75]\n",
      "[69.25, 56.0, 48.0, 71.5, 38.25]\n"
     ]
    }
   ],
   "source": [
    "#NxN matrisini K kat küçültme\n",
    "import random\n",
    "N=int(input(\"NxN Matris Boyutunu Giriniz, N=\"))\n",
    "K=int(input(\"Küçültme Oranını Giriniz, K=\"))\n",
    "N=N-N%K\n",
    "M=[[round(random.random()*100)for i in range(N)]for j in range(N)]\n",
    "My=[[0 for i in range(int(N/K))] for j in range(int(N/K))]\n",
    "for i in range(int(N/K)):\n",
    "    for j in range(int(N/K)):\n",
    "        top=0\n",
    "        \n",
    "        for k1 in range(K):\n",
    "            for k2 in range(K):\n",
    "                top=top+M[K*i+k1][K*j+k2]\n",
    "        My[i][j]=round(top/(K*K))\n",
    "        My[i][j]=(M[2*i][2*j]+M[2*i][2*j+1]+M[2*i+1][2*j]+M[2*i+1][2*j+1])/4\n",
    "    print(My[i])"
   ]
  }
 ],
 "metadata": {
  "kernelspec": {
   "display_name": "Python 3",
   "language": "python",
   "name": "python3"
  },
  "language_info": {
   "codemirror_mode": {
    "name": "ipython",
    "version": 3
   },
   "file_extension": ".py",
   "mimetype": "text/x-python",
   "name": "python",
   "nbconvert_exporter": "python",
   "pygments_lexer": "ipython3",
   "version": "3.8.8"
  }
 },
 "nbformat": 4,
 "nbformat_minor": 5
}
