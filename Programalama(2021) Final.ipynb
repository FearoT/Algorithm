{
 "cells": [
  {
   "cell_type": "code",
   "execution_count": 9,
   "id": "5e545c2f",
   "metadata": {},
   "outputs": [
    {
     "name": "stdout",
     "output_type": "stream",
     "text": [
      "Metin Giriniz:mer mer mer mer ab\n",
      "Kelime giriniz:mer\n"
     ]
    },
    {
     "data": {
      "text/plain": [
       "4"
      ]
     },
     "execution_count": 9,
     "metadata": {},
     "output_type": "execute_result"
    }
   ],
   "source": [
    "#A metni içerisinde B kelimesinin kaç defa tekrar ettiğini bulan programı yazınız?\n",
    "A=str(input(\"Metin Giriniz:\"))\n",
    "B=str(input(\"Kelime giriniz:\"))\n",
    "def cevap(A,B):\n",
    "    c=0\n",
    "    for i in range(len(A)):\n",
    "        if B==A[i:i+len(B)]:\n",
    "            c+=1\n",
    "    return c\n",
    "cevap(A,B)"
   ]
  },
  {
   "cell_type": "code",
   "execution_count": 24,
   "id": "bba3aaf0",
   "metadata": {},
   "outputs": [
    {
     "name": "stdout",
     "output_type": "stream",
     "text": [
      "Vize Notunu Giriniz: 20\n",
      "Final Notunu Giriniz: 20\n"
     ]
    },
    {
     "data": {
      "text/plain": [
       "'A'"
      ]
     },
     "execution_count": 24,
     "metadata": {},
     "output_type": "execute_result"
    }
   ],
   "source": [
    "#harfNotunuHesaplama adında bir fonksiyon yazınız. Bu fonksiyon öğrencinin vize ve final notları parametre olarak gönderilsin.\n",
    "#Fonksiyon vizenin%40'ını ve finalin%60'ını toplayarak dönem sonu notunu hesaplasın ve harf notuna çevirsin.\n",
    "vize=int(input(\"Vize Notunu Giriniz: \"))\n",
    "final=int(input(\"Final Notunu Giriniz: \"))\n",
    "def harfNotunuHesaplama(vize,final):\n",
    "    nott=vize*0.4+final*0.6\n",
    "    if (nott<100):\n",
    "        return \"A\"\n",
    "    elif (nott>79):\n",
    "        return \"A\"\n",
    "    elif (nott>49):\n",
    "        return \"B\"     \n",
    "    elif (nott>29):\n",
    "        return \"C\"\n",
    "    else:\n",
    "        return \"D\"\n",
    "harfNotunuHesaplama(vize,final)"
   ]
  }
 ],
 "metadata": {
  "kernelspec": {
   "display_name": "Python 3",
   "language": "python",
   "name": "python3"
  },
  "language_info": {
   "codemirror_mode": {
    "name": "ipython",
    "version": 3
   },
   "file_extension": ".py",
   "mimetype": "text/x-python",
   "name": "python",
   "nbconvert_exporter": "python",
   "pygments_lexer": "ipython3",
   "version": "3.8.8"
  }
 },
 "nbformat": 4,
 "nbformat_minor": 5
}
