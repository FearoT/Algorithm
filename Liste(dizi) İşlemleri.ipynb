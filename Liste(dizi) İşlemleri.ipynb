{
 "cells": [
  {
   "cell_type": "markdown",
   "id": "3667f0a7",
   "metadata": {},
   "source": [
    "# Liste"
   ]
  },
  {
   "cell_type": "code",
   "execution_count": 1,
   "id": "7f389c88",
   "metadata": {},
   "outputs": [
    {
     "name": "stdout",
     "output_type": "stream",
     "text": [
      "['abcd', 786, 2.23, 'john', 70.2]\n",
      "abcd\n",
      "[786, 2.23]\n",
      "[2.23, 'john', 70.2]\n",
      "[123, 'john', 123, 'john']\n",
      "['abcd', 786, 2.23, 'john', 70.2, 123, 'john']\n"
     ]
    }
   ],
   "source": [
    "list=['abcd',786,2.23,'john',70.2 ]\n",
    "tinylist=[123,'john']\n",
    "print(list)\n",
    "print(list[0])\n",
    "print(list[1:3])\n",
    "print(list[2:])\n",
    "print(tinylist*2)\n",
    "print(list+tinylist)\n"
   ]
  },
  {
   "cell_type": "code",
   "execution_count": 2,
   "id": "a30d3eec",
   "metadata": {},
   "outputs": [
    {
     "name": "stdout",
     "output_type": "stream",
     "text": [
      "Silmeden Önce: ['physics', 'chemistry', 1997, 2000]\n",
      "Silmeden Sonra: ['physics', 'chemistry', 2000]\n"
     ]
    }
   ],
   "source": [
    "list=['physics','chemistry',1997,2000]\n",
    "print(\"Silmeden Önce:\",list)\n",
    "del list[2]\n",
    "print(\"Silmeden Sonra:\",list)"
   ]
  },
  {
   "cell_type": "code",
   "execution_count": 3,
   "id": "94e15ae8",
   "metadata": {},
   "outputs": [
    {
     "name": "stdout",
     "output_type": "stream",
     "text": [
      "1\n",
      "2 3 4 "
     ]
    }
   ],
   "source": [
    "list=[1,2,3,4]\n",
    "it=iter(list)\n",
    "print(next(it))\n",
    "for x in it:\n",
    "    print(x, end=\" \")"
   ]
  },
  {
   "cell_type": "markdown",
   "id": "84285b5b",
   "metadata": {},
   "source": [
    "# Problemler"
   ]
  },
  {
   "cell_type": "code",
   "execution_count": 3,
   "id": "8fe0f720",
   "metadata": {},
   "outputs": [
    {
     "name": "stdout",
     "output_type": "stream",
     "text": [
      "4.4\n",
      "35.0\n"
     ]
    }
   ],
   "source": [
    "#Girilen 5 sayının ortalamasını bulan program?\n",
    "list=[5,6,2,3,6]\n",
    "print(sum(list)/5)\n",
    "#Yöntem 2\n",
    "liste=[10,20,30,40,50,60]\n",
    "toplam=0\n",
    "for sayi in liste:\n",
    "    toplam+=sayi\n",
    "adet=len(liste)\n",
    "print(toplam/adet)"
   ]
  },
  {
   "cell_type": "code",
   "execution_count": 10,
   "id": "ec48cedc",
   "metadata": {},
   "outputs": [
    {
     "name": "stdin",
     "output_type": "stream",
     "text": [
      "Sayı Giriniz:  4\n",
      "Sayı Giriniz:  8\n",
      "Sayı Giriniz:  9\n",
      "Sayı Giriniz:  0\n",
      "Sayı Giriniz:  6\n"
     ]
    },
    {
     "name": "stdout",
     "output_type": "stream",
     "text": [
      "27\n",
      "5.4\n",
      "5\n",
      "3.2\n"
     ]
    }
   ],
   "source": [
    "#Girilen 5 sayının standart sapmasını bulan program?\n",
    "liste= [0,0,0,0,0];\n",
    "adet=0\n",
    "top=0\n",
    "ad=0\n",
    "standartsapma=0\n",
    "for x in range(5):\n",
    "    liste[x]=int(input(\"Sayı Giriniz: \"))\n",
    "for i in liste:\n",
    "    top+=i\n",
    "    adet+=1\n",
    "ort=top/adet\n",
    "for j in range(len(liste)):\n",
    "    ad+=(liste[j]-ort)**2\n",
    "    sp=(ad/adet)**0.5\n",
    "print(top)    \n",
    "print(ort)\n",
    "print(adet)\n",
    "print(sp)   \n",
    "\n"
   ]
  },
  {
   "cell_type": "code",
   "execution_count": 4,
   "id": "6a758671",
   "metadata": {},
   "outputs": [
    {
     "name": "stdout",
     "output_type": "stream",
     "text": [
      "Liste oluşturmak için sayı Giriniz: 4\n",
      "Liste oluşturmak için sayı Giriniz: 2\n",
      "Liste oluşturmak için sayı Giriniz: 2\n",
      "Liste oluşturmak için sayı Giriniz: 2\n",
      "Liste oluşturmak için sayı Giriniz: 2\n",
      "Liste oluşturmak için sayı Giriniz: 2\n",
      "Kontrol Edilecek Sayıyı Giriniz: 2\n",
      "Listede Var\n"
     ]
    }
   ],
   "source": [
    "#Girilen sayının listede olup olmadığını bulan program?\n",
    "liste=[0,0,0,0,0,0];\n",
    "for x in range(6):\n",
    "    liste[x]=int(input(\"Liste oluşturmak için sayı Giriniz: \"))\n",
    "a=int(input(\"Kontrol Edilecek Sayıyı Giriniz: \"))\n",
    "if a in liste:\n",
    "    print(\"Listede Var\")\n",
    "else:\n",
    "    print(\"Listede Yok\")"
   ]
  },
  {
   "cell_type": "code",
   "execution_count": 14,
   "id": "334a589f",
   "metadata": {},
   "outputs": [
    {
     "name": "stdout",
     "output_type": "stream",
     "text": [
      "(-2.0159736379151617e-18+0.03292334801052451j)\n"
     ]
    }
   ],
   "source": [
    "#Farklı değerlere sahip iki listenin korelasyon katsayısını hesaplayan program?\n",
    "list1=[5,6,9,10,10]\n",
    "list2=[4,4,7,8,12]\n",
    "a=0\n",
    "b=0\n",
    "c=0\n",
    "f=0\n",
    "g=0\n",
    "w=0\n",
    "for i in range(5):\n",
    "    a+=list1[i]*list2[i]\n",
    "    b+=list1[i]\n",
    "    c+=list2[i]\n",
    "d=b*c\n",
    "e=d-a\n",
    "for j in range(5):\n",
    "    f+=list1[j]*list1[j]\n",
    "\n",
    "l=b*b\n",
    "alt=(f-l)**0.5 \n",
    "for k in range(5):\n",
    "    w+=list2[k]*list2[k]\n",
    "z=c*c\n",
    "alt2=(w-z)\n",
    "alt3=alt*alt2\n",
    "sonuc=e/alt3\n",
    "print(sonuc)"
   ]
  },
  {
   "cell_type": "code",
   "execution_count": 18,
   "id": "e7913be8",
   "metadata": {},
   "outputs": [
    {
     "name": "stdout",
     "output_type": "stream",
     "text": [
      "[1, 4, 5, 9, 10, 10, 16]\n",
      "[1, 4, 5, 9, 10, 10, 16]\n",
      "['a', 'a', 'b', 'g', 's', 's', 'y']\n"
     ]
    }
   ],
   "source": [
    "#Elemanları sıralayan program?\n",
    "#Algoritma\n",
    "numbers = [1, 10, 5, 16, 4, 9, 10]\n",
    "for j in range(0,6):\n",
    "    for i in range(0,6):\n",
    "        if numbers[i]>numbers[i+1]:\n",
    "            a=numbers[i+1]\n",
    "            numbers[i+1]=numbers[i]\n",
    "            numbers[i]=a\n",
    "print(numbers)\n",
    "#metot kısayol\n",
    "letters = ['a', 'g', 's', 'b', 'y', 'a', 's']\n",
    "numbers.sort()  # sayısal büyüklük olarak küçükten büyüğe sıralanır.\n",
    "letters.sort()  # alfabetik olarak a-z' e doğru sıralanır.\n",
    "print(numbers)\n",
    "print(letters)"
   ]
  },
  {
   "cell_type": "code",
   "execution_count": 22,
   "id": "1a463d9f",
   "metadata": {},
   "outputs": [
    {
     "name": "stdout",
     "output_type": "stream",
     "text": [
      "Bir karakter dizisi giriniz: aaaba\n"
     ]
    },
    {
     "ename": "TypeError",
     "evalue": "unsupported operand type(s) for %: 'builtin_function_or_method' and 'tuple'",
     "output_type": "error",
     "traceback": [
      "\u001b[1;31m---------------------------------------------------------------------------\u001b[0m",
      "\u001b[1;31mTypeError\u001b[0m                                 Traceback (most recent call last)",
      "\u001b[1;32m<ipython-input-22-bc9f160886df>\u001b[0m in \u001b[0;36m<module>\u001b[1;34m\u001b[0m\n\u001b[0;32m      3\u001b[0m \u001b[0mortak\u001b[0m \u001b[1;33m=\u001b[0m \u001b[0mlist\u001b[0m\u001b[1;33m(\u001b[0m\u001b[0msoru\u001b[0m\u001b[1;33m)\u001b[0m\u001b[1;33m\u001b[0m\u001b[1;33m\u001b[0m\u001b[0m\n\u001b[0;32m      4\u001b[0m \u001b[1;32mfor\u001b[0m \u001b[0mi\u001b[0m \u001b[1;32min\u001b[0m \u001b[0mortak\u001b[0m\u001b[1;33m:\u001b[0m\u001b[1;33m\u001b[0m\u001b[1;33m\u001b[0m\u001b[0m\n\u001b[1;32m----> 5\u001b[1;33m     \u001b[0mprint\u001b[0m  \u001b[1;33m%\u001b[0m\u001b[1;33m(\u001b[0m\u001b[0mi\u001b[0m\u001b[1;33m,\u001b[0m \u001b[0msoru\u001b[0m\u001b[1;33m.\u001b[0m\u001b[0mcount\u001b[0m\u001b[1;33m(\u001b[0m\u001b[0mi\u001b[0m\u001b[1;33m)\u001b[0m\u001b[1;33m)\u001b[0m\u001b[1;33m\u001b[0m\u001b[1;33m\u001b[0m\u001b[0m\n\u001b[0m",
      "\u001b[1;31mTypeError\u001b[0m: unsupported operand type(s) for %: 'builtin_function_or_method' and 'tuple'"
     ]
    }
   ],
   "source": [
    "#Her elemanın tekrar sayısını bulan program?\n",
    "soru = input(\"Bir karakter dizisi giriniz: \").replace(\" \", \"\")\n",
    "ortak = list(soru)\n",
    "for i in ortak:\n",
    "    print  %(i, soru.count(i))\n",
    "#Tekrar bak"
   ]
  },
  {
   "cell_type": "code",
   "execution_count": 9,
   "id": "71c1f119",
   "metadata": {},
   "outputs": [
    {
     "name": "stdout",
     "output_type": "stream",
     "text": [
      "Yazıyı yazınız: asd asd asd\n",
      "Boşluk karekter sayısı: 2\n"
     ]
    }
   ],
   "source": [
    "#Girilen yazıdaki boşluk karakter sayısını bulan program?\n",
    "bosluk_sayac=0\n",
    "a=str(input(\"Yazıyı yazınız: \"))\n",
    "for i in a:\n",
    "    if i==\" \":\n",
    "        bosluk_sayac+=1\n",
    "print(\"Boşluk karekter sayısı:\", bosluk_sayac)\n",
    "    "
   ]
  },
  {
   "cell_type": "code",
   "execution_count": 24,
   "id": "50b00ee4",
   "metadata": {},
   "outputs": [
    {
     "name": "stdin",
     "output_type": "stream",
     "text": [
      "Birinici Yazıyı Giriniz: asd\n",
      "İkinci Yazıyı Giriniz: asd\n"
     ]
    },
    {
     "name": "stdout",
     "output_type": "stream",
     "text": [
      "Eşit  \n"
     ]
    }
   ],
   "source": [
    "#Girilen iki yazıyı karşılaştıran (eşit olup olmadığını bulan) program?\n",
    "s1=str(input(\"Birinici Yazıyı Giriniz:\"))\n",
    "s2=str(input(\"İkinci Yazıyı Giriniz:\"))\n",
    "c=0\n",
    "if len(s1)==len(s2):\n",
    "    for i in range(len(s1)):\n",
    "        if s1[i]!=s2[i]:\n",
    "            c=1\n",
    "            break\n",
    "else:\n",
    "    c=1   \n",
    "if c==0:\n",
    "    print(\"Eşit  \")\n",
    "else:\n",
    "    print(\"Eşit Değil\")\n",
    "    \n",
    "       "
   ]
  },
  {
   "cell_type": "code",
   "execution_count": 26,
   "id": "dc8a8bf0",
   "metadata": {},
   "outputs": [
    {
     "name": "stdin",
     "output_type": "stream",
     "text": [
      "Yazı Yazınız:  ABCD\n"
     ]
    },
    {
     "name": "stdout",
     "output_type": "stream",
     "text": [
      "Büyük Yazılmış\n",
      "['ABCD']\n",
      "1\n",
      "4\n"
     ]
    }
   ],
   "source": [
    "#Girilen yazının büyük yazılıp yazılmadığını bulan program?\n",
    "büyükharf=[\"A\",\"B\",\"C\",\"D\"]#Kod doğru bütün büyük harfleri yaz\n",
    "sayac=0\n",
    "a=str(input(\"Yazı Yazınız: \"))\n",
    "for i in range (len(a)):\n",
    "    if a[i] in büyükharf:\n",
    "        sayac+=1\n",
    "if sayac==len(a):\n",
    "    print(\"Büyük Yazılmış\")\n",
    "else:\n",
    "    print(\"Büyük Harfle Yazılmamış\")"
   ]
  },
  {
   "cell_type": "code",
   "execution_count": 2,
   "id": "e1bff591",
   "metadata": {},
   "outputs": [
    {
     "name": "stdin",
     "output_type": "stream",
     "text": [
      "Yazıyı Girin asdsaddsa\n",
      "k=  1\n",
      "r=  3\n"
     ]
    },
    {
     "name": "stdout",
     "output_type": "stream",
     "text": [
      "sd\n"
     ]
    }
   ],
   "source": [
    "#Girilen yazının k. karakteriyle r. karakteri arasını kopyalayan programı yazınız?\n",
    "a=str(input(\"Yazıyı Girin\"))\n",
    "k=int(input(\"k= \"))\n",
    "r=int(input(\"r= \"))\n",
    "print(a[k:r+])\n",
    "\n",
    "#Tekrar Bak"
   ]
  },
  {
   "cell_type": "code",
   "execution_count": 40,
   "id": "ab7ba8ca",
   "metadata": {},
   "outputs": [
    {
     "name": "stdin",
     "output_type": "stream",
     "text": [
      "İstediğiniz Yazınız: asd\n"
     ]
    },
    {
     "name": "stdout",
     "output_type": "stream",
     "text": [
      "Kelime:   1 Rakam:    0 Karakter:   3\n"
     ]
    }
   ],
   "source": [
    "#Girilen yazıdaki kelime, rakam ve karakter sayısını bulan prog<<<ram?\n",
    "s=str(input(\"İstediğiniz Yazınız:\"))\n",
    "kelimeliste=[]\n",
    "rakam=[\"0\",\"1\",\"2\",\"3\",\"4\",\"5\",\"6\",\"7\",\"8\",\"9\"]\n",
    "rakamm=[0,1,2,3,4,5,6,7,8,9]\n",
    "rakamSayac=0\n",
    "kelime=1\n",
    "boşlukSayac=0\n",
    "for i in range(len(s)):\n",
    "    if s[i]==' 'and s[i-1]!=' ' and i!=0 :\n",
    "        kelime+=1\n",
    "    if s[i] in rakam:\n",
    "        rakamSayac+=1\n",
    "    if s[i]==\" \":\n",
    "        boşlukSayac+=1\n",
    "\n",
    "print(\"Kelime:  \",kelime,\"Rakam:   \",rakamSayac,\"Karakter:  \",len(s)-boşlukSayac)\n"
   ]
  },
  {
   "cell_type": "code",
   "execution_count": 43,
   "id": "e1f76ae5",
   "metadata": {},
   "outputs": [
    {
     "name": "stdin",
     "output_type": "stream",
     "text": [
      "Yazı Yazınız: Fatih Enes Çok mutlu:D\n",
      "Aranan Kelime: Enes\n"
     ]
    },
    {
     "name": "stdout",
     "output_type": "stream",
     "text": [
      "' Enes '\n",
      "Fatih 'Enes' Çok mutlu:D\n"
     ]
    }
   ],
   "source": [
    "#Girilen yazıdaki aranan kelimenin önüne ve arkasına TIRNAK sembolünü ekleyen program?\n",
    "a=str(input(\"Yazı Yazınız:\"))\n",
    "b=str(input(\"Aranan Kelime:\"))\n",
    "c=\"\"\n",
    "if b in a:\n",
    "    print(\"'\",b,\"'\")\n",
    "#Çözüm2:\n",
    "for i in range(len(a)):\n",
    "    if a[i:i+len(b)]==b:\n",
    "        c+=a[0:i]\n",
    "        c+=\"'\"+b+\"'\"\n",
    "        c+=a[i+len(b):len(a)]\n",
    "print(c)"
   ]
  },
  {
   "cell_type": "code",
   "execution_count": 47,
   "id": "5d66fed7",
   "metadata": {},
   "outputs": [
    {
     "name": "stdin",
     "output_type": "stream",
     "text": [
      "Metin Giriniz: Fatih Enes Altınay\n",
      "Silmek istediğiniz karakteri giriniz: a\n"
     ]
    },
    {
     "name": "stdout",
     "output_type": "stream",
     "text": [
      "Ftih Enes Altıny\n"
     ]
    }
   ],
   "source": [
    "#Girilen yazıdaki bir karakteri sil\n",
    "a=str(input(\"Metin Giriniz:\"))\n",
    "b=str(input(\"Silmek istediğiniz karakteri giriniz:\"))\n",
    "c=\"\"\n",
    "for i in range(len(a)):\n",
    "    if not(a[i] in b):\n",
    "        c+=a[i]\n",
    "print(c)"
   ]
  },
  {
   "cell_type": "code",
   "execution_count": 3,
   "id": "4a19b53b",
   "metadata": {},
   "outputs": [
    {
     "name": "stdin",
     "output_type": "stream",
     "text": [
      "Metin Giriniz: asda asd \n",
      "Silmek istediğiniz kelimeyi giriniz: asd\n"
     ]
    },
    {
     "name": "stdout",
     "output_type": "stream",
     "text": [
      "asda asd \n",
      "['asd']\n"
     ]
    }
   ],
   "source": [
    "#Girilen yazıdaki bir kelimeyi sil\n",
    "a=str(input(\"Metin Giriniz:\"))\n",
    "b=str(input(\"Silmek istediğiniz kelimeyi giriniz:\"))\n",
    "c=\"\"\n",
    "d=[]\n",
    "d.append(b)\n",
    "for i in range(len(a)):\n",
    "    if not(a[i] in b):\n",
    "        c+=a[i]\n",
    "print(c)\n",
    "print(d)   \n",
    "#Tekrar bak"
   ]
  },
  {
   "cell_type": "code",
   "execution_count": 4,
   "id": "0a551917",
   "metadata": {},
   "outputs": [
    {
     "name": "stdin",
     "output_type": "stream",
     "text": [
      "Metin Giriniz:  HEHEH loser!!! Ağla.\n"
     ]
    },
    {
     "name": "stdout",
     "output_type": "stream",
     "text": [
      "HEHEH loser Ağla\n"
     ]
    }
   ],
   "source": [
    "#Girilen yazıdaki noktalama işaretlerini sil\n",
    "a=str(input(\"Metin Giriniz: \"))\n",
    "b=\"\"\n",
    "noktalama=['!','.',',','?',';']\n",
    "for i in range(len(a)):\n",
    "    if not(a[i] in noktalama):\n",
    "        b+=a[i]\n",
    "print(b)"
   ]
  },
  {
   "cell_type": "code",
   "execution_count": 12,
   "id": "0f318c40",
   "metadata": {},
   "outputs": [
    {
     "name": "stdin",
     "output_type": "stream",
     "text": [
      " 126\n"
     ]
    },
    {
     "name": "stdout",
     "output_type": "stream",
     "text": [
      "1111110\n"
     ]
    }
   ],
   "source": [
    "#Girilen onluk sayıyı ikili sayıya dönüştürünüz?\n",
    "s = 0\n",
    "i = 0\n",
    "basamak = 0\n",
    "sayi = int(input())\n",
    "while (sayi > 0):\n",
    "    basamak = int((sayi % 2) *(10**i))\n",
    "    i += 1\n",
    "    sayi = sayi // 2\n",
    "    s = s + basamak\n",
    "print(s)"
   ]
  },
  {
   "cell_type": "code",
   "execution_count": null,
   "id": "faed5f9c",
   "metadata": {},
   "outputs": [],
   "source": [
    "#Girilen onluk sayıyı onaltılık sayıya dönüştürünüz?"
   ]
  },
  {
   "cell_type": "code",
   "execution_count": null,
   "id": "8eb095e6",
   "metadata": {},
   "outputs": [],
   "source": [
    "#Girilen ikilik sayıyı onluk sayıya dönüştürünüz?"
   ]
  }
 ],
 "metadata": {
  "kernelspec": {
   "display_name": "Python 3",
   "language": "python",
   "name": "python3"
  },
  "language_info": {
   "codemirror_mode": {
    "name": "ipython",
    "version": 3
   },
   "file_extension": ".py",
   "mimetype": "text/x-python",
   "name": "python",
   "nbconvert_exporter": "python",
   "pygments_lexer": "ipython3",
   "version": "3.8.8"
  }
 },
 "nbformat": 4,
 "nbformat_minor": 5
}
