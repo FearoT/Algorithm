{
 "cells": [
  {
   "cell_type": "code",
   "execution_count": 1,
   "id": "3cb7a556-b10f-4034-8cf9-34bd98de0e09",
   "metadata": {
    "tags": []
   },
   "outputs": [
    {
     "name": "stdin",
     "output_type": "stream",
     "text": [
      " 15354\n"
     ]
    },
    {
     "name": "stdout",
     "output_type": "stream",
     "text": [
      "Sayı\n"
     ]
    }
   ],
   "source": [
    "#Kullanıcıdan alınan strig değerin sayı alfebe alfanumerik hangi sınıfa ait kodla\n",
    "val=input()\n",
    "if val.isdigit():\n",
    "    print(\"Sayı\")\n",
    "elif val.isalpha():\n",
    "    print(\"alfabe\")\n",
    "elif val.isalnum():\n",
    "    pirnt(\"alfanumerik\")\n",
    "else:\n",
    "    print(\"diğer\")"
   ]
  },
  {
   "cell_type": "code",
   "execution_count": 3,
   "id": "58030431-e432-4034-b9d0-f0879336d831",
   "metadata": {},
   "outputs": [
    {
     "name": "stdin",
     "output_type": "stream",
     "text": [
      " a:12 b:18 c:-9 d:30 e:-24\n"
     ]
    },
    {
     "name": "stdout",
     "output_type": "stream",
     "text": [
      "['a', '12']\n",
      "['b', '18']\n",
      "['c', '-9']\n",
      "['d', '30']\n",
      "['e', '-24']\n",
      "51\n"
     ]
    }
   ],
   "source": [
    "#1havuzu farklı musluklar kullanıcadan alınan verilere göre dolcak veye boşalcaktır kodla a:12 b:18 c:-9 d:30 e:-24\n",
    "val=input()\n",
    "muslukdeger=val.split()\n",
    "sonuc=0.0\n",
    "for md in muslukdeger:\n",
    "    tmp=md.split(\":\")\n",
    "    print(tmp)\n",
    "    sonuc+=1/int(tmp[1])\n",
    "sonuc=1/sonuc\n",
    "print(round(sonuc))"
   ]
  },
  {
   "cell_type": "code",
   "execution_count": 19,
   "id": "5fad922f-f7a2-40de-8c20-1d08ce9d6f7f",
   "metadata": {},
   "outputs": [
    {
     "name": "stdin",
     "output_type": "stream",
     "text": [
      "Sayı Giriniz 153\n"
     ]
    },
    {
     "name": "stdout",
     "output_type": "stream",
     "text": [
      "Amstrong Sayı\n"
     ]
    }
   ],
   "source": [
    "#Amstorg numarası 153=1*1*1+5*5*5+3*3*3\n",
    "def basamakAdet(a):\n",
    "    adettt=0    \n",
    "    while a>0:\n",
    "        sonbas=a%10\n",
    "        adettt+=1\n",
    "        a=(a-sonbas)/10\n",
    "    return adettt    \n",
    "sayi=int(input(\"Sayı Giriniz\"))\n",
    "top=0\n",
    "yedek=sayi\n",
    "adet=basamakAdet(sayi)\n",
    "while sayi>=1:\n",
    "    sonBasamak=sayi%10\n",
    "    top+=sonBasamak**adet\n",
    "    sayi=(sayi-sonBasamak)/10\n",
    "if top==yedek:\n",
    "    print(\"Amstrong Sayı\")\n",
    "else:\n",
    "    print(\"Amstrong Sayı Değil\")"
   ]
  },
  {
   "cell_type": "code",
   "execution_count": 18,
   "id": "692f0571-bd31-4bd2-8e17-604c9a53df3a",
   "metadata": {},
   "outputs": [
    {
     "name": "stdin",
     "output_type": "stream",
     "text": [
      "Çizilcek Yıldız Sayısını Giriniz:  5\n"
     ]
    },
    {
     "name": "stdout",
     "output_type": "stream",
     "text": [
      "* \n",
      "* * \n",
      "* * * \n",
      "* * * * \n",
      "* * * * * \n"
     ]
    }
   ],
   "source": [
    "a=int(input(\"Çizilcek Yıldız Sayısını Giriniz: \"))\n",
    "for i in range(a):\n",
    "    for j in range(i+1):\n",
    "        print(\"*\",end=\" \")\n",
    "    print()"
   ]
  },
  {
   "cell_type": "code",
   "execution_count": 17,
   "id": "369f1ff1-a0c1-4a13-87d4-ee8e4b838255",
   "metadata": {},
   "outputs": [
    {
     "name": "stdin",
     "output_type": "stream",
     "text": [
      "Çizilcek Yıldız Sayısını Giriniz:  5\n"
     ]
    },
    {
     "name": "stdout",
     "output_type": "stream",
     "text": [
      "* * * * * \n",
      "* * * * \n",
      "* * * \n",
      "* * \n",
      "* \n"
     ]
    }
   ],
   "source": [
    "a=int(input(\"Çizilcek Yıldız Sayısını Giriniz: \"))\n",
    "for i in range(a):\n",
    "    for j in range(a,i,-1):\n",
    "        print(\"*\",end=\" \")\n",
    "    print()"
   ]
  },
  {
   "cell_type": "code",
   "execution_count": 21,
   "id": "8641faf8-de18-43f3-9d8a-134c8edfc58a",
   "metadata": {},
   "outputs": [
    {
     "name": "stdin",
     "output_type": "stream",
     "text": [
      "Çizilcek Yıldız Sayısını Giriniz:  5\n"
     ]
    },
    {
     "name": "stdout",
     "output_type": "stream",
     "text": [
      "* \n",
      "* * \n",
      "* * * \n",
      "* * * * \n",
      "* * * * * \n",
      "* * * * \n",
      "* * * \n",
      "* * \n",
      "* \n",
      "\n"
     ]
    }
   ],
   "source": [
    "a=int(input(\"Çizilcek Yıldız Sayısını Giriniz: \"))\n",
    "for i in range(a):\n",
    "    for j in range(i+1):\n",
    "        print(\"*\",end=\" \")\n",
    "    print()\n",
    "for i in range(a):\n",
    "    for j in range(a,i+1,-1):\n",
    "        print(\"*\",end=\" \")\n",
    "    print()"
   ]
  },
  {
   "cell_type": "code",
   "execution_count": null,
   "id": "699f40cc-c068-4e1d-8407-33afcb546f50",
   "metadata": {},
   "outputs": [],
   "source": [
    "a=int(input(\"Çizilcek Yıldız Sayısını Giriniz Elmas!!: \"))\n",
    "k=0\n",
    "for i in range(a):\n",
    "    k+=1\n",
    "      \n",
    "    for j in range(i+1):\n",
    "        \n",
    "        print((\" \"*(a-k)),(\"*\"*k))\n",
    "#Eksik kod"
   ]
  },
  {
   "cell_type": "code",
   "execution_count": 1,
   "id": "6d95dceb-635d-43a3-aea2-ff50ca11ab2a",
   "metadata": {},
   "outputs": [
    {
     "name": "stdout",
     "output_type": "stream",
     "text": [
      "[[3, 2, 4, 3, -1, -2, -3, -4], [1, 1, 2, 2, -2, -2, -2, -2], [2, 2, 3, 3, -3, -3, -3, -3]]\n"
     ]
    }
   ],
   "source": [
    "#iki Matrisi yatayda birleştiren kodu yazınız\n",
    "m1=[[3,2,4,3],\n",
    "   [1,1,2,2],\n",
    "   [2,2,3,3]]\n",
    "m2=[[-1,-2,-3,-4],\n",
    "   [-2,-2,-2,-2],\n",
    "   [-3,-3,-3,-3]]\n",
    "def yataydaBirleştir(m,n):\n",
    "    result=[]\n",
    "    for i in range(len(m)):\n",
    "        result.append(m[i]+n[i])\n",
    "    return result\n",
    "m3=yataydaBirleştir(m1,m2)\n",
    "print(m3)"
   ]
  },
  {
   "cell_type": "code",
   "execution_count": 2,
   "id": "92869b0e-3a43-4203-8147-16a704b94f5d",
   "metadata": {},
   "outputs": [
    {
     "data": {
      "text/plain": [
       "[[3, 2, 4, 3],\n",
       " [1, 1, 2, 2],\n",
       " [2, 2, 3, 3],\n",
       " [-1, -2, -3, -4],\n",
       " [-2, -2, -2, -2],\n",
       " [-3, -3, -3, -3]]"
      ]
     },
     "execution_count": 2,
     "metadata": {},
     "output_type": "execute_result"
    }
   ],
   "source": [
    "#iki Matrisi dikeyde birleştiren kodu yazınız\n",
    "m1=[[3,2,4,3],\n",
    "   [1,1,2,2],\n",
    "   [2,2,3,3]]\n",
    "m2=[[-1,-2,-3,-4],\n",
    "   [-2,-2,-2,-2],\n",
    "   [-3,-3,-3,-3]]\n",
    "def dikeydeBirleştir(m,n):\n",
    "    return m+n\n",
    "dikeydeBirleştir(m1,m2)"
   ]
  },
  {
   "cell_type": "code",
   "execution_count": 4,
   "id": "1707af20-6b90-4ff3-998f-5e7da28246dd",
   "metadata": {},
   "outputs": [
    {
     "data": {
      "text/plain": [
       "{3: 4, 2: 5, 4: 1, 1: 2}"
      ]
     },
     "execution_count": 4,
     "metadata": {},
     "output_type": "execute_result"
    }
   ],
   "source": [
    "#Matriste bulunan değerlerin kaç kere kullanıldığının sayısı ile birlikte dönen bir fonksiyon yaz\n",
    "m1=[[3,2,4,3],\n",
    "   [1,1,2,2],\n",
    "   [2,2,3,3]]\n",
    "def essizDeğerListesi(m):\n",
    "    el={}\n",
    "    for satir in m:\n",
    "        for değer in satir:\n",
    "            if değer not in el:\n",
    "                el[değer]=1\n",
    "            else:\n",
    "                el[değer]+=1\n",
    "    return el\n",
    "essizDeğerListesi(m1)"
   ]
  }
 ],
 "metadata": {
  "kernelspec": {
   "display_name": "Python 3",
   "language": "python",
   "name": "python3"
  },
  "language_info": {
   "codemirror_mode": {
    "name": "ipython",
    "version": 3
   },
   "file_extension": ".py",
   "mimetype": "text/x-python",
   "name": "python",
   "nbconvert_exporter": "python",
   "pygments_lexer": "ipython3",
   "version": "3.8.8"
  }
 },
 "nbformat": 4,
 "nbformat_minor": 5
}
