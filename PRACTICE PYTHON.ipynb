{
 "cells": [
  {
   "cell_type": "code",
   "execution_count": 11,
   "id": "53eb1c5c",
   "metadata": {},
   "outputs": [
    {
     "name": "stdout",
     "output_type": "stream",
     "text": [
      "Whats your name: Fatih\n",
      "How old are you: 20\n",
      "Enter this year: 2022\n",
      "Enter a number for repeat a massage: 4\n",
      "Fatih, you will be 100 years old in the year 2102\n",
      "Fatih, you will be 100 years old in the year 2102\n",
      "Fatih, you will be 100 years old in the year 2102\n",
      "Fatih, you will be 100 years old in the year 2102\n",
      "\n"
     ]
    }
   ],
   "source": [
    "#Create a program that asks the user to enter their name and their age.\n",
    "#Print out a message addressed to them that tells them the year that they will turn 100 years old.\n",
    "#Extras\n",
    "#Add on to the previous program by asking the user for another number and printing out that many copies of the previous message.\n",
    "#Print out that many copies of the previous message on separate lines.\n",
    "name=input(\"Whats your name: \")\n",
    "age=int(input(\"How old are you: \"))\n",
    "date=int(input(\"Enter this year: \"))\n",
    "year=date-age+100\n",
    "repeat=int(input(\"Enter a number for repeat a massage: \"))\n",
    "print(repeat*(name + \", you will be 100 years old in the year \" + str(year) + '\\n'))\n"
   ]
  },
  {
   "cell_type": "code",
   "execution_count": 10,
   "id": "fe96b9b2",
   "metadata": {},
   "outputs": [
    {
     "name": "stdout",
     "output_type": "stream",
     "text": [
      "Enter a number: 10\n",
      "Enter a number: 5\n",
      "You select a even number\n",
      "This number is a not multiple of 4\n",
      "divides evenly by\n"
     ]
    }
   ],
   "source": [
    "#Ask the user for a number. Depending on whether the number is even or odd, print out an appropriate message to the user\n",
    "#Extras\n",
    "#If the number is a multiple of 4, print out a different message.\n",
    "#Ask the user for two numbers: one number to check (call it num) and one number to divide by (check). \n",
    "#If check divides evenly into num, tell that to the user. If not, print a different appropriate message.\n",
    "number=int(input('Enter a number: '))\n",
    "numbert=int(input(\"Enter a number: \"))\n",
    "a=number%2\n",
    "if a>0:\n",
    "    print(\"You select a odd number\")\n",
    "else:\n",
    "    print(\"You select a even number\")\n",
    "b=number%4\n",
    "if b==0:\n",
    "    print(\"This number is a mulitple of 4\")\n",
    "else:\n",
    "    print(\"This number is a not multiple of 4\")\n",
    "c=number%numbert\n",
    "if c==0:\n",
    "    print(\"divides evenly by\")\n",
    "else:\n",
    "    print(\"does not divide evenly by\")"
   ]
  },
  {
   "cell_type": "code",
   "execution_count": 18,
   "id": "bb1630f4",
   "metadata": {
    "scrolled": true
   },
   "outputs": [
    {
     "name": "stdout",
     "output_type": "stream",
     "text": [
      "1\n",
      "1\n",
      "2\n",
      "3\n",
      "[1, 1, 2, 3]\n",
      "Enter a number: 30\n",
      "[1, 1, 2, 3, 5, 8, 13, 21]\n"
     ]
    }
   ],
   "source": [
    "#Take a list,and write a program that prints out all the elements of the list that are less than 5.\n",
    "#Extras\n",
    "#Instead of printing the elements one by one, make a new list that has all the elements less than \n",
    "#5 from this list in it and print out this new list.\n",
    "#Write this in one line of Python.\n",
    "#Ask the user for a number and return a list that contains only elements \n",
    "#from the original list a that are smaller than that number given by the user.\n",
    "lessNnums=[]\n",
    "a = [1, 1, 2, 3, 5, 8, 13, 21, 34, 55, 89]\n",
    "for x in a:\n",
    "    if x<5:\n",
    "        print(x)\n",
    "print( [ x for x in a if x<5 ] )\n",
    "num=int(input(\"Enter a number: \"))\n",
    "for n in a:\n",
    "    if n<num:\n",
    "        lessNnums.append(n)\n",
    "        lessNnums.sort()\n",
    "print(lessNnums)"
   ]
  },
  {
   "cell_type": "code",
   "execution_count": 9,
   "id": "e2b24c77",
   "metadata": {},
   "outputs": [
    {
     "name": "stdout",
     "output_type": "stream",
     "text": [
      "Enter a number: 30\n",
      "[1, 2, 3, 5, 6, 10, 15, 30]\n"
     ]
    }
   ],
   "source": [
    "#Create a program that asks the user for a number and then prints out a list of all the divisors of that number.\n",
    "n=int(input(\"Enter a number: \"))\n",
    "y=[]\n",
    "for x in range(1,n+1):\n",
    "    if n%x==0:\n",
    "        y.append(x)\n",
    "print(y)"
   ]
  },
  {
   "cell_type": "code",
   "execution_count": 169,
   "id": "7c96a01b",
   "metadata": {},
   "outputs": [
    {
     "name": "stdout",
     "output_type": "stream",
     "text": [
      "[1, 1, 2, 3, 5, 8, 13, 21, 34, 55, 89]\n",
      "[1, 2, 3, 4, 5, 6, 7, 8, 9, 10, 11, 12, 13]\n",
      "[1, 2, 3, 5, 8, 13]\n",
      "List1 [10, 19, 9, 25, 23, 14, 21, 2, 11, 28]\n",
      "List2 [22, 14, 36, 3, 10, 28, 38, 1, 12, 9, 4, 1, 13, 16, 27]\n",
      "Elements that common between the lists:  [14, 10, 28, 9]\n",
      "[1, 2, 3, 5, 8, 13]\n"
     ]
    }
   ],
   "source": [
    "#Take two lists, say for example these two:and write a program that returns a list that contains only the elements that \n",
    "#are common between the lists (without duplicates).Make sure your program works on two lists of different sizes.\n",
    "#EXTRAS\n",
    "#Randomly generate two lists to test this\n",
    "#Write this in one line of Python (don’t worry if you can’t figure this out at this point - we’ll get to it soon)\n",
    "a = [1, 1, 2, 3, 5, 8, 13, 21, 34, 55, 89]\n",
    "b = [1, 2, 3, 4, 5, 6, 7, 8, 9, 10, 11, 12, 13]\n",
    "final_list=[]\n",
    "for c in b:\n",
    "    if c in a:\n",
    "        final_list.append(c)\n",
    "print(a)\n",
    "print(b)\n",
    "print(final_list)\n",
    "#EXTRAS\n",
    "import random\n",
    "randomlist1=[]\n",
    "randomlist2=[]\n",
    "final_list2=[]\n",
    "for d in range(0,10):\n",
    "    d=random.randint(1,30)\n",
    "    randomlist1.append(d)\n",
    "for e in range(0,15):\n",
    "    e=random.randint(1,40)\n",
    "    randomlist2.append(e)\n",
    "    for z in randomlist2 :\n",
    "        if z in randomlist1 and z not in final_list2:\n",
    "            final_list2.append(z)\n",
    "print(\"List1\", randomlist1)\n",
    "print(\"List2\", randomlist2)\n",
    "print(\"Elements that common between the lists: \", final_list2)\n",
    "print([num for num in b if num in a])"
   ]
  },
  {
   "cell_type": "code",
   "execution_count": 173,
   "id": "f23a615e",
   "metadata": {},
   "outputs": [
    {
     "name": "stdout",
     "output_type": "stream",
     "text": [
      "Please enter a word: dad\n",
      "Revers:  dad\n",
      "This word is a palindrome\n"
     ]
    }
   ],
   "source": [
    "#Ask the user for a string and print out whether this string is a palindrome or not.\n",
    "wrd=input(\"Please enter a word: \")\n",
    "wrd=str(wrd)\n",
    "rvs=wrd[::-1]\n",
    "print(\"Revers: \", rvs)\n",
    "if wrd == rvs:\n",
    "    print(\"This word is a palindrome\")\n",
    "else:\n",
    "    print(\"This word is not a palindrome\")"
   ]
  },
  {
   "cell_type": "code",
   "execution_count": 2,
   "id": "01422dc5",
   "metadata": {},
   "outputs": [
    {
     "name": "stdout",
     "output_type": "stream",
     "text": [
      "[4, 16, 36, 64, 100]\n"
     ]
    }
   ],
   "source": [
    "#Let’s say I give you a list saved in a variable: a = [1, 4, 9, 16, 25, 36, 49, 64, 81, 100]. \n",
    "#Write one line of Python that takes this list a and makes a new list that has only the even elements of this list in it.\n",
    "a = [1, 4, 9, 16, 25, 36, 49, 64, 81, 100]\n",
    "print([i for i in a if i%2==0])"
   ]
  },
  {
   "cell_type": "code",
   "execution_count": 4,
   "id": "5840ba13",
   "metadata": {},
   "outputs": [
    {
     "name": "stdout",
     "output_type": "stream",
     "text": [
      "Please pick one:\n",
      "            rock\n",
      "            scissors\n",
      "            paper\n",
      "Player a: scissors\n",
      "Player b: paper\n",
      "player a wins.\n",
      "Do you want to play another game, yes or no?\n",
      "tes\n",
      "game over.\n"
     ]
    }
   ],
   "source": [
    "#Make a two-player Rock-Paper-Scissors game. (Hint: Ask for player plays (using input),\n",
    "#compare them, print out a message of congratulations to the winner, and ask if the players want to start a new game)\n",
    "print('''Please pick one:\n",
    "            rock\n",
    "            scissors\n",
    "            paper''')\n",
    "\n",
    "while True:\n",
    "    game_dict = {'rock': 1, 'scissors': 2, 'paper': 3}\n",
    "    player_a = str(input(\"Player a: \"))\n",
    "    player_b = str(input(\"Player b: \"))\n",
    "    a = game_dict.get(player_a)\n",
    "    b = game_dict.get(player_b)\n",
    "    dif = a - b\n",
    "\n",
    "    if dif in [-1, 2]:\n",
    "        print('player a wins.')\n",
    "        if str(input('Do you want to play another game, yes or no?\\n')) == 'yes':\n",
    "            continue\n",
    "        else:\n",
    "            print('game over.')\n",
    "            break\n",
    "    elif dif in [-2, 1]:\n",
    "        print('player b wins.')\n",
    "        if str(input('Do you want to play another game, yes or no?\\n')) == 'yes':\n",
    "            continue\n",
    "        else:\n",
    "            print('game over.')\n",
    "            break\n",
    "    else:\n",
    "        print('Draw.Please continue.')\n",
    "        print('')"
   ]
  },
  {
   "cell_type": "code",
   "execution_count": 1,
   "id": "778996f5",
   "metadata": {
    "scrolled": true
   },
   "outputs": [
    {
     "name": "stdout",
     "output_type": "stream",
     "text": [
      "Enter a guess between 1 to 95\n",
      "Too low\n",
      "Enter a guess between 1 to 94\n",
      "Too low\n",
      "Enter a guess between 1 to 93\n",
      "Too low\n",
      "Enter a guess between 1 to 99\n",
      "Too high\n",
      "Enter a guess between 1 to 98\n",
      "Too high\n",
      "Enter a guess between 1 to 97\n",
      "Too high\n",
      "Enter a guess between 1 to 96\n",
      "Right!\n",
      "You took only 7 tries!\n",
      "8\n"
     ]
    },
    {
     "data": {
      "text/plain": [
       "'8'"
      ]
     },
     "execution_count": 1,
     "metadata": {},
     "output_type": "execute_result"
    }
   ],
   "source": [
    "#Generate a random number between 1 and 9 (including 1 and 9). Ask the user to guess the number,\n",
    "#then tell them whether they guessed too low, too high, or exactly right.\n",
    "#EXTRAS\n",
    "#Keep the game going until the user types “exit”\n",
    "#Keep track of how many guesses the user has taken, and when the game ends, print this out.\n",
    "import random\n",
    "\n",
    "rd = random.randint(1,9)\n",
    "guess = 0\n",
    "c = 0\n",
    "while guess != rd and guess != \"exit\":\n",
    "    guess = input(\"Enter a guess between 1 to 9\")\n",
    "\n",
    "    if guess == \"exit\":\n",
    "        break\n",
    "\n",
    "    guess = int(guess)\n",
    "    c += 1\n",
    "\n",
    "    if guess < rd:\n",
    "        print(\"Too low\")\n",
    "    elif guess > rd:\n",
    "        print(\"Too high\")\n",
    "    else:\n",
    "        print(\"Right!\")\n",
    "        print(\"You took only\", c, \"tries!\")\n",
    "input()"
   ]
  },
  {
   "cell_type": "code",
   "execution_count": null,
   "id": "6e3df5f5",
   "metadata": {},
   "outputs": [],
   "source": []
  }
 ],
 "metadata": {
  "kernelspec": {
   "display_name": "Python 3",
   "language": "python",
   "name": "python3"
  },
  "language_info": {
   "codemirror_mode": {
    "name": "ipython",
    "version": 3
   },
   "file_extension": ".py",
   "mimetype": "text/x-python",
   "name": "python",
   "nbconvert_exporter": "python",
   "pygments_lexer": "ipython3",
   "version": "3.8.8"
  }
 },
 "nbformat": 4,
 "nbformat_minor": 5
}
