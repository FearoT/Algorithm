{
 "cells": [
  {
   "cell_type": "code",
   "execution_count": 4,
   "id": "c1766c7a",
   "metadata": {},
   "outputs": [
    {
     "name": "stdout",
     "output_type": "stream",
     "text": [
      "233168\n"
     ]
    }
   ],
   "source": [
    "#P1//If we list all the natural numbers below 10 that are multiples of 3 or 5, we get 3, 5, 6 and 9.\n",
    "#The sum of these multiples is 23.Find the sum of all the multiples of 3 or 5 below 1000.\n",
    "a=0\n",
    "b=0\n",
    "c=0\n",
    "for i in range(1000):\n",
    "    if i%3==0:\n",
    "        a+=i\n",
    "    if i%5==0:\n",
    "        b+=i\n",
    "    if i%15==0:\n",
    "        c+=i\n",
    "print(a+b-c)"
   ]
  },
  {
   "cell_type": "code",
   "execution_count": 1,
   "id": "f85b8471",
   "metadata": {},
   "outputs": [
    {
     "name": "stdout",
     "output_type": "stream",
     "text": [
      "4613732\n"
     ]
    }
   ],
   "source": [
    "#p2//By considering the terms in the Fibonacci sequence whose values do not exceed four million,\n",
    "#find the sum of the even-valued terms.\n",
    "x=1\n",
    "y=2\n",
    "sum=0\n",
    "while(y<=4000000):\n",
    "    if y%2==0:\n",
    "        sum+=y\n",
    "    x,y=y,x+y\n",
    "print(sum)"
   ]
  },
  {
   "cell_type": "code",
   "execution_count": 6,
   "id": "899a0f21",
   "metadata": {},
   "outputs": [
    {
     "name": "stdin",
     "output_type": "stream",
     "text": [
      "n=  45\n"
     ]
    },
    {
     "name": "stdout",
     "output_type": "stream",
     "text": [
      "En büyük Asal Çarpanı: 5\n"
     ]
    }
   ],
   "source": [
    "#p3//What is the largest prime factor of the number 600851475143 ? Asal Çarpan\n",
    "n= int(input('n= '))\n",
    "maks=0\n",
    "Acarpan=2\n",
    "ct=0\n",
    "while n>1:\n",
    "    if n%Acarpan ==0:\n",
    "        n=n/Acarpan\n",
    "        ct+=1\n",
    "        if Acarpan>maks:\n",
    "            maks=Acarpan\n",
    "    else:\n",
    "        Acarpan= Acarpan+1\n",
    "        ct=0\n",
    "\n",
    "print(\"En büyük Asal Çarpanı:\",maks)"
   ]
  }
 ],
 "metadata": {
  "kernelspec": {
   "display_name": "Python 3",
   "language": "python",
   "name": "python3"
  },
  "language_info": {
   "codemirror_mode": {
    "name": "ipython",
    "version": 3
   },
   "file_extension": ".py",
   "mimetype": "text/x-python",
   "name": "python",
   "nbconvert_exporter": "python",
   "pygments_lexer": "ipython3",
   "version": "3.8.8"
  }
 },
 "nbformat": 4,
 "nbformat_minor": 5
}
