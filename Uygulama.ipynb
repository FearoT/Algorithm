{
 "cells": [
  {
   "cell_type": "code",
   "execution_count": 1,
   "id": "529dea40-f37f-49cf-9c6a-ea1e035cb608",
   "metadata": {},
   "outputs": [],
   "source": [
    "#Quiz 1\n",
    "def numberOfLines(self,widths,S):\n",
    "    lines,width=1,0\n",
    "    for c in s:\n",
    "        w=widths[ord(c)-ord(\"a\")]\n",
    "        width+=w\n",
    "        if width>100:\n",
    "            lines+=1\n",
    "            width=w\n",
    "    return lines,width\n",
    "        "
   ]
  },
  {
   "cell_type": "code",
   "execution_count": null,
   "id": "5533ab2e-aea3-4f97-acd2-8ef581b9722b",
   "metadata": {},
   "outputs": [],
   "source": [
    "#Quiz 2\n",
    "M=5\n",
    "N=4\n",
    "def CheckDiagonal(mat,i,j):\n",
    "    res =mat[i][j]\n",
    "    i+=1\n",
    "    j+=1\n",
    "    while(i<N and j<M):\n",
    "        # farklı değer mevcutsa false return edicek\n",
    "        if (mat[i][j]!=res):\n",
    "            return False\n",
    "        i+=1\n",
    "        j+=1\n",
    "     #Her köşegenler  için değerler sabitse true return edicek\n",
    "    return True\n",
    "#Matrisin toeplitz olup olmadığını kontral eden fonksiyon\n",
    "def isTeoplitz(mat):\n",
    "    #Birinci satırdaki her elaman için yapar\n",
    "    for j in range(m):\n",
    "        #(0,j) konumundan başlayarak satırdaki her değeri kontrol eder\n",
    "        if not(CheckDiagonal(mat,0,j)):\n",
    "            return False\n",
    "    #Birinci sütundaki her elaman için yapar\n",
    "    for i in range(1,N):\n",
    "        #(i,0) konumundan başlayarak sütundaki her elamanı kontrol eder\n",
    "        if not(CheckDiagonal(mat,i,0)):\n",
    "            return False\n",
    "    return True    \n",
    "        "
   ]
  },
  {
   "cell_type": "code",
   "execution_count": 3,
   "id": "452f7226-b54f-4b3c-9da4-4a53774274bb",
   "metadata": {},
   "outputs": [
    {
     "name": "stdout",
     "output_type": "stream",
     "text": [
      "Data dizisi başlangıç durumu:    [3, 2, 0, 8, 3, 3, 1]\n",
      "\n",
      "Output dizisi başlangıç durumu:    [0, 0, 0, 0, 0, 0, 0]\n",
      "\n",
      "Count dizisi başlangıç durumu:     [0, 0, 0, 0, 0, 0, 0, 0, 0]\n",
      "------------------\n",
      "[0, 0, 0, 1, 0, 0, 0, 0, 0]\n",
      "------------------\n",
      "[0, 0, 1, 1, 0, 0, 0, 0, 0]\n",
      "------------------\n",
      "[1, 0, 1, 1, 0, 0, 0, 0, 0]\n",
      "------------------\n",
      "[1, 0, 1, 1, 0, 0, 0, 0, 1]\n",
      "------------------\n",
      "[1, 0, 1, 2, 0, 0, 0, 0, 1]\n",
      "------------------\n",
      "[1, 0, 1, 3, 0, 0, 0, 0, 1]\n",
      "------------------\n",
      "[1, 1, 1, 3, 0, 0, 0, 0, 1]\n",
      "\n",
      "Count dizisi son durumu:    [1, 1, 1, 3, 0, 0, 0, 0, 1]\n",
      "\n",
      "Output dizisi son durumu:     [0, 1, 2, 3, 3, 3, 8]\n"
     ]
    }
   ],
   "source": [
    "#Quiz 3\n",
    "data=[3,2,0,8,3,3,1]\n",
    "def maksimumDeger(arr):\n",
    "    maxNumber=arr[0]\n",
    "    for i in range(1,len(arr)):\n",
    "        if maxNumber<arr[i]:\n",
    "            maxNumber=arr[i]\n",
    "    return maxNumber\n",
    "def countSort(data):\n",
    "    print(\"Data dizisi başlangıç durumu:   \",data[:])\n",
    "    size=len(data)\n",
    "    output=[0]*size\n",
    "    print(\"\\nOutput dizisi başlangıç durumu:   \",output[:])\n",
    "    en_buyuk=maksimumDeger(data)\n",
    "    count=[0]*(en_buyuk+1)\n",
    "    print(\"\\nCount dizisi başlangıç durumu:    \",count[:])\n",
    "    for i in range(0,size):\n",
    "        count[data[i]]+=1\n",
    "        print(\"------------------\")\n",
    "        print(count)\n",
    "    print(\"\\nCount dizisi son durumu:   \",count[:])\n",
    "    k=0\n",
    "    for i in range(len(count)):\n",
    "        for j in range(count[i]):\n",
    "            output[k]=i\n",
    "            k+=1\n",
    "    print(\"\\nOutput dizisi son durumu:    \",output[:])\n",
    "    \n",
    "countSort(data)"
   ]
  },
  {
   "cell_type": "code",
   "execution_count": 1,
   "id": "d025c3b2-48ca-4d5d-bbc7-89dd95db4eae",
   "metadata": {},
   "outputs": [
    {
     "name": "stdout",
     "output_type": "stream",
     "text": [
      "['Kadir Kiraz', 'Kadir Kul', 'Aynur Ay', 'Aysun Sunar', 'Mehmet Soner']\n"
     ]
    },
    {
     "name": "stdin",
     "output_type": "stream",
     "text": [
      " Ali\n"
     ]
    },
    {
     "name": "stdout",
     "output_type": "stream",
     "text": [
      "['Kadir Kiraz', 'Kadir Kul', 'Aynur Ay', 'Aysun Sunar', 'Mehmet Soner', 'Ali']\n",
      "['kadirkiraz', 'kadirkul', 'aynuray', 'aysunsunar', 'mehmetsoner', 'ali']\n",
      "Ali\n",
      "Aynur Ay\n",
      "Aysun Sunar\n",
      "Kadir Kiraz\n",
      "Kadir Kul\n",
      "Mehmet Soner\n"
     ]
    }
   ],
   "source": [
    "#Quiz 4\n",
    "ogrenci=[\"Kadir Kiraz\",\"Kadir Kul\",\"Aynur Ay\",\"Aysun Sunar\",\"Mehmet Soner\"]\n",
    "print(ogrenci)\n",
    "ogrenci.append(input())\n",
    "print(ogrenci)\n",
    "size=len(ogrenci)\n",
    "tempString=[0]*size#0'lardean liste\n",
    "for i in range(size):\n",
    "    tempString[i]=ogrenci[i].lower()\n",
    "    tempString[i]=tempString[i].replace(\" \",\"\")\n",
    "print(tempString)\n",
    "def siralamaIslemi(arr,ogrenci):\n",
    "    n=len(arr)\n",
    "    for i in range(n-1):\n",
    "        for j in range(0,n-i-1):\n",
    "            if arr[j]>arr[j+1]:\n",
    "                arr[j],arr[j+1]=arr[j+1],arr[j]\n",
    "                ogrenci[j],ogrenci[j+1]=ogrenci[j+1],ogrenci[j]\n",
    "\n",
    "                \n",
    "def diziyiYazdir(arr):\n",
    "    n=len(arr)\n",
    "    for i in range(n):\n",
    "        print(arr[i])\n",
    "siralamaIslemi(tempString,ogrenci)\n",
    "diziyiYazdir(ogrenci)\n"
   ]
  },
  {
   "cell_type": "code",
   "execution_count": 5,
   "id": "5243d3a3-6a72-489c-b1be-395ae7bd302c",
   "metadata": {},
   "outputs": [
    {
     "name": "stdout",
     "output_type": "stream",
     "text": [
      "--------1------- [1, 6, 32, 8]\n",
      "--------1------- [2, 0, 18, 45]\n",
      "--------1------- [3, 45, 1]\n",
      "--------1------- [0, 7]\n",
      "--------2------- [5, 51, 6]\n",
      "--------2------- [15, 5]\n"
     ]
    },
    {
     "data": {
      "text/plain": [
       "[[1, 0, 1, 0, 6], [5, 6, 2, 3, 7], [5, 6, 8, 18, 45], [2, 15, 51, 32, 45]]"
      ]
     },
     "execution_count": 5,
     "metadata": {},
     "output_type": "execute_result"
    }
   ],
   "source": [
    "#Quiz 5\n",
    "mat=[[1,2,3,0,6],[5,6,0,45,7],[15,51,32,18,1],[2,5,6,8,45]]\n",
    "def insertionSort(arr):\n",
    "    for i in range(1,len(arr)):\n",
    "        key=arr[i]\n",
    "        j=i-1\n",
    "        while j>=0 and key<arr[j]:\n",
    "            arr[j+1]=arr[j]\n",
    "            j-=1\n",
    "        arr[j+1]=key\n",
    "def diagonalSort(mat):\n",
    "    m=len(mat)\n",
    "    n=len(mat[0])\n",
    "    #Satır bazlı sıralama\n",
    "    for a in range(n-1):\n",
    "        i=0\n",
    "        j=a\n",
    "        lst=[]#Sıralama için geçici liste\n",
    "        #Geçici liste oluşturuluyor\n",
    "        while i<m and j<n:\n",
    "            lst.append(mat[i][j])\n",
    "            i+=1\n",
    "            j+=1\n",
    "        print(\"--------1-------\",lst)\n",
    "        insertionSort(lst)\n",
    "        #lst.sort()\n",
    "        i=0\n",
    "        j=a\n",
    "        for b in range(len(lst)): #sıralanmış liste matrise eklenir\n",
    "            mat[i+b][j+b]=lst[b]\n",
    "    #Sütun bazlı sıralama\n",
    "    for a in range(1,m-1):\n",
    "        i=a\n",
    "        j=0\n",
    "        lst=[]\n",
    "        while i<m and j<n:\n",
    "            lst.append(mat[i][j])\n",
    "            i+=1\n",
    "            j+=1\n",
    "        print(\"--------2-------\",lst)\n",
    "        insertionSort(lst)\n",
    "        i=a\n",
    "        j=0\n",
    "        for b in range(len(lst)):\n",
    "            mat[i+b][j+b]=lst[b]\n",
    "    return mat\n",
    "diagonalSort(mat)"
   ]
  },
  {
   "cell_type": "code",
   "execution_count": null,
   "id": "03ece66c-314d-4f33-8b1f-f15a6e8cc89c",
   "metadata": {},
   "outputs": [],
   "source": [
    "#Counting Frog Paths\n",
    "x,y,s,t=map(int,input().split())\n",
    "count=0\n",
    "for i in range(x,x+s+1):\n",
    "    for j in range(y,y+s+1):\n",
    "        if(i+j<=t):\n",
    "            count+=1\n",
    "print(count)        "
   ]
  },
  {
   "cell_type": "code",
   "execution_count": null,
   "id": "f685a18a-4094-41a8-bc76-9d6c1f3750ae",
   "metadata": {},
   "outputs": [],
   "source": [
    "#Alice's Library\n",
    "S=list(input())\n",
    "stack=[]\n",
    "for i in range(len(s)):\n",
    "    if s[i]==\"/\":\n",
    "        stack+=[i]\n",
    "    elif s[i]==\"\\\\\":\n",
    "        s[stack[-1]:i+1]=reversed(s[stack[-1]:i+1])\n",
    "        stack.pop()\n",
    "print(\"\".join(filter(lambda c:c!=\"\\\\\" and c!=\"/\",s)))"
   ]
  },
  {
   "cell_type": "code",
   "execution_count": null,
   "id": "308d2345-0265-43af-a0dc-5212619acc3b",
   "metadata": {},
   "outputs": [],
   "source": [
    "#A Game of Numbers\n",
    "from sys import stdin\n",
    "n=int(input())\n",
    "s1,a,b=[],[-1]*n,[-1]*n\n",
    "lines=stdin.readlines()\n",
    "num=[int(line.strip()) for line in lines]\n",
    "s1.append(0)\n",
    "for i in range(1,n):\n",
    "    while(s1!=[] and num[s1[-1]]<num[i]):\n",
    "        a[s1.pop()]=i\n",
    "    s1.append(i)\n",
    "s1=[]\n",
    "s1.append(0)\n",
    "for i in range(1,n):\n",
    "    while(s1!=[] and num[s1[-1]]>num[i]):\n",
    "        b[s1.pop()]=i\n",
    "    s1.append(i)\n",
    "    \n",
    "res=[str(num[b[i]]) if(i!=-1 and b[i]!=-1) else \"-1\" for i in a]\n",
    "print(\" \".join(res))"
   ]
  },
  {
   "cell_type": "code",
   "execution_count": null,
   "id": "37fd53a9-5dcd-472e-b195-6e72ea8bfab1",
   "metadata": {},
   "outputs": [],
   "source": [
    "#Empty Arrays\n",
    "n=int(input())\n",
    "a=list(map(int,input().split()))\n",
    "b=list(map(int,input().split()))\n",
    "def rotate(a):\n",
    "    end=a[0]\n",
    "    a[0:len(a)-1]=a[1:]\n",
    "    a[-1]=end\n",
    "count=0\n",
    "while len(a)!=0:\n",
    "    while a[0]!=b[0]:\n",
    "        rotate(a)\n",
    "        count+=1\n",
    "    if a[0]==b[0]:\n",
    "        count+=1\n",
    "        a.pop(0)\n",
    "        b.pop(0)\n",
    "print(count)\n",
    "    "
   ]
  },
  {
   "cell_type": "code",
   "execution_count": null,
   "id": "e339007b-d12e-4572-be25-430736f83a91",
   "metadata": {},
   "outputs": [],
   "source": [
    "#Fun Game <Capillary>\n",
    "def funGame(arr):\n",
    "    B=arr[::-1]\n",
    "    out=[]\n",
    "    while arr and B:\n",
    "        if B[-1]>arr[-1]:\n",
    "            out.append(1)\n",
    "            arr.pop()\n",
    "        elif B[-1]<arr[-1]:\n",
    "            out.append(2)\n",
    "            B.pop()\n",
    "        else:\n",
    "            out.append(0)\n",
    "            arr.pop()\n",
    "            B.pop()\n",
    "    return out\n",
    "    \n",
    "n=int(input())\n",
    "arr=list(map(int,input().split()))\n",
    "\n",
    "cikti=funGame(arr)\n",
    "print(\" \".join(map(str,cikti)))\n"
   ]
  }
 ],
 "metadata": {
  "kernelspec": {
   "display_name": "Python 3",
   "language": "python",
   "name": "python3"
  },
  "language_info": {
   "codemirror_mode": {
    "name": "ipython",
    "version": 3
   },
   "file_extension": ".py",
   "mimetype": "text/x-python",
   "name": "python",
   "nbconvert_exporter": "python",
   "pygments_lexer": "ipython3",
   "version": "3.8.8"
  }
 },
 "nbformat": 4,
 "nbformat_minor": 5
}
