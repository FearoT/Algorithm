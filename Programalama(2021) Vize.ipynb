{
 "cells": [
  {
   "cell_type": "code",
   "execution_count": 13,
   "id": "8d844ab2",
   "metadata": {},
   "outputs": [
    {
     "name": "stdout",
     "output_type": "stream",
     "text": [
      "Saati Giriniz: 22\n",
      "Dakikayı Giriniz: 56\n",
      "Saat 23'ya 4 var\n"
     ]
    }
   ],
   "source": [
    "#Aşağıdaki örneklerdeki gösterildiği gibi saat ve dakikayı yazıya çeviren program.\n",
    "def cevap():\n",
    "    saat=int(input(\"Saati Giriniz: \"))\n",
    "    dakika=int(input(\"Dakikayı Giriniz: \"))\n",
    "    if dakika==0:\n",
    "        print(f\"Saat {saat}\")\n",
    "    elif dakika==15:\n",
    "        print(f\"Saat {saat} çeyrek\")\n",
    "    elif dakika>0 and dakika<30:\n",
    "        print(f\"Saat {saat}'i {dakika} geçiyor\")\n",
    "    elif dakika==30:\n",
    "        print(f\"Saat {saat} buçuk\")\n",
    "    elif dakika==45:\n",
    "        if saat==23:\n",
    "            print(f\"Saat 00'a çeyrek var\")\n",
    "        else:\n",
    "            print(f\"Saat{saat+1} çeyrek var\")\n",
    "    elif dakika>30 and dakika<60:\n",
    "        if saat==23:\n",
    "            print(f\"Saat 00'a {60-dakika} var\")\n",
    "        else:\n",
    "            print(f\"Saat {saat+1}'ya {60-dakika} var\")\n",
    "cevap()"
   ]
  },
  {
   "cell_type": "code",
   "execution_count": 61,
   "id": "ba170f2f",
   "metadata": {
    "scrolled": true
   },
   "outputs": [
    {
     "name": "stdout",
     "output_type": "stream",
     "text": [
      "Sayı Giriniz: 4\n",
      "*        *\n",
      "**      **\n",
      "***    ***\n",
      "****  ****\n",
      "**********\n",
      "****  ****\n",
      "***    ***\n",
      "**      **\n",
      "*        *\n"
     ]
    }
   ],
   "source": [
    "#Aşağıdaki kelebek şekli 4 girildiğinde oluşturulmuştur. Kelebeğin ortasındaki satırda 2*4+1=9 yıldız olduğuna dikkat ediniz.\n",
    "#Buna göre girilen sayıya göre kelebek oluşturan programı yazınız?\n",
    "def cevap():\n",
    "    sayi=int(input(\"Sayı Giriniz: \"))\n",
    "    for i in range(sayi):\n",
    "        for k in range(i+1):\n",
    "            print('*', end='')\n",
    "        for k in range((sayi-i)*2):\n",
    "            print(' ', end='')\n",
    "        for k in range(i+1):\n",
    "            print('*', end='')\n",
    "        print('')\n",
    "    for i in range(sayi,-1,-1):\n",
    "        for k in range(i+1):\n",
    "            print('*', end='')\n",
    "        for k in range((sayi-i)*2):\n",
    "            print(' ', end='')\n",
    "        for k in range(i+1):\n",
    "            print('*', end='')\n",
    "        print('')\n",
    "cevap()\n",
    "#Not ortadaki yıldız sayısı bir fazla"
   ]
  },
  {
   "cell_type": "code",
   "execution_count": 58,
   "id": "9bda4747",
   "metadata": {},
   "outputs": [
    {
     "name": "stdout",
     "output_type": "stream",
     "text": [
      "x= 2\n",
      "K= 2\n",
      "5.0\n"
     ]
    }
   ],
   "source": [
    "# e**x=1+x+x**2/2!+x**3/3!+ ....+x**k/k! kabul edilirse, girilen x ve k değerlerine göre e**x'i hesaplayan programı yazınız?\n",
    "def fak(a):\n",
    "    f=1\n",
    "    for i in range(1,a+1,1):\n",
    "        f*=i\n",
    "    return f\n",
    "x=int(input(\"x= \"))\n",
    "k=int(input(\"K= \"))\n",
    "top=1\n",
    "for i in range(1,k+1,1):\n",
    "    top+=x**i/fak(i)\n",
    "print(top)"
   ]
  },
  {
   "cell_type": "code",
   "execution_count": 62,
   "id": "a7fa0a83",
   "metadata": {},
   "outputs": [
    {
     "name": "stdout",
     "output_type": "stream",
     "text": [
      "k= 2\n",
      "[1, 2, 3, 4, 5, 6, 7, 8, 9, 10]\n",
      "[10, 1, 2, 3, 4, 5, 6, 7, 8, 9]\n",
      "[9, 10, 1, 2, 3, 4, 5, 6, 7, 8]\n"
     ]
    }
   ],
   "source": [
    "#k=5 girildiğibde 1 ile 10 arasındaki değerler olan liste aşağıdaki gibi 5 defa kaydırılıyor.\n",
    "#Bunu gerçekleştiren programı yazınız?\n",
    "[1,2,3,4,5,6,7,8,9,10]\n",
    "[10,1,2,3,4,5,6,7,8,9]\n",
    "[9,10,1,2,3,4,5,6,7,8]\n",
    "[8,9,10,1,2,3,4,5,6,7]\n",
    "[7,8,9,10,1,2,3,4,5,6]\n",
    "[6,7,8,9,10,1,2,3,4,5]\n",
    "def donder(lis):\n",
    "    temp=lis[len(lis)-1]\n",
    "    for i in range(len(lis)-1,0,-1):\n",
    "        lis[i]=lis[i-1]\n",
    "    lis[0]=temp\n",
    "    return lis\n",
    "liste=[1,2,3,4,5,6,7,8,9,10]\n",
    "k=int(input(\"k= \"))\n",
    "for i in range(k+1):\n",
    "    print(liste)\n",
    "    liste=donder(liste)"
   ]
  }
 ],
 "metadata": {
  "kernelspec": {
   "display_name": "Python 3",
   "language": "python",
   "name": "python3"
  },
  "language_info": {
   "codemirror_mode": {
    "name": "ipython",
    "version": 3
   },
   "file_extension": ".py",
   "mimetype": "text/x-python",
   "name": "python",
   "nbconvert_exporter": "python",
   "pygments_lexer": "ipython3",
   "version": "3.8.8"
  },
  "vscode": {
   "interpreter": {
    "hash": "3ad933181bd8a04b432d3370b9dc3b0662ad032c4dfaa4e4f1596c548f763858"
   }
  }
 },
 "nbformat": 4,
 "nbformat_minor": 5
}
