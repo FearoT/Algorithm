{
 "cells": [
  {
   "cell_type": "code",
   "execution_count": 20,
   "id": "394f4d38-29ab-4c11-94dc-be9a61664740",
   "metadata": {},
   "outputs": [
    {
     "name": "stdin",
     "output_type": "stream",
     "text": [
      " 4\n",
      " 1\n",
      " 2\n",
      " 3\n",
      " 4\n"
     ]
    },
    {
     "name": "stdout",
     "output_type": "stream",
     "text": [
      "2 1 4 3 2 "
     ]
    }
   ],
   "source": [
    "N=int(input())\n",
    "A=[]\n",
    "for j in range(N):\n",
    "    sayı=0  \n",
    "    A.append(sayı) \n",
    "for i in range(N):\n",
    "    A[i]+=int(input())\n",
    "for i in range(0,-N,-1):\n",
    "    print(A[i], end=\" \")"
   ]
  },
  {
   "cell_type": "code",
   "execution_count": 21,
   "id": "3122b068-75cd-449a-a4ce-ee26647a57dc",
   "metadata": {},
   "outputs": [
    {
     "name": "stdin",
     "output_type": "stream",
     "text": [
      " 5\n",
      " 4\n",
      " 2\n",
      " 3\n",
      " 5\n",
      " 6\n"
     ]
    },
    {
     "data": {
      "text/plain": [
       "[6, 5, 3, 2, 4]"
      ]
     },
     "execution_count": 21,
     "metadata": {},
     "output_type": "execute_result"
    }
   ],
   "source": [
    "N=int(input())\n",
    "A=[]\n",
    "for j in range(N):\n",
    "    sayı=0  \n",
    "    A.append(sayı) \n",
    "for i in range(N):\n",
    "    A[i]+=int(input())\n",
    "def Ters(lst): \n",
    "    new_lst = lst[::-1] \n",
    "    return new_lst\n",
    "Ters(A)"
   ]
  },
  {
   "cell_type": "code",
   "execution_count": null,
   "id": "b84d03be-6fbf-47fe-bb1b-f7d9809db11d",
   "metadata": {},
   "outputs": [],
   "source": [
    "def Ters(lst): \n",
    "    new_lst = lst[::-1] \n",
    "    return new_lst \n",
    "      \n",
    "lst = [10, 11, 12, 13, 14, 15] \n",
    "print(Ters(lst))"
   ]
  },
  {
   "cell_type": "code",
   "execution_count": 4,
   "id": "b925c133-85b9-4849-b676-7c51f25598c7",
   "metadata": {},
   "outputs": [
    {
     "name": "stdin",
     "output_type": "stream",
     "text": [
      " V\n"
     ]
    }
   ],
   "source": [
    "I =1\n",
    "V = 5\n",
    "\n",
    "n=input()"
   ]
  },
  {
   "cell_type": "code",
   "execution_count": null,
   "id": "2b14cc96-998f-405d-9626-a15871d2310e",
   "metadata": {},
   "outputs": [],
   "source": []
  }
 ],
 "metadata": {
  "kernelspec": {
   "display_name": "Python 3",
   "language": "python",
   "name": "python3"
  },
  "language_info": {
   "codemirror_mode": {
    "name": "ipython",
    "version": 3
   },
   "file_extension": ".py",
   "mimetype": "text/x-python",
   "name": "python",
   "nbconvert_exporter": "python",
   "pygments_lexer": "ipython3",
   "version": "3.8.8"
  }
 },
 "nbformat": 4,
 "nbformat_minor": 5
}
