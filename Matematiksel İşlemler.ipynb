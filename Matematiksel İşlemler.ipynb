{
 "cells": [
  {
   "cell_type": "markdown",
   "id": "b615762c",
   "metadata": {},
   "source": [
    "# Problemler\n"
   ]
  },
  {
   "cell_type": "code",
   "execution_count": 6,
   "id": "359516fc",
   "metadata": {
    "scrolled": true
   },
   "outputs": [
    {
     "name": "stdout",
     "output_type": "stream",
     "text": [
      "Birinci Sayıyı Gir= 2\n",
      "İkinci Sayıyı Gir= 5\n",
      "Sonuç:  7\n"
     ]
    }
   ],
   "source": [
    "# Girilien iki sayıyı toplayıp sonucu ekrana yazdıran program\n",
    "a=int(input('Birinci Sayıyı Gir= '))\n",
    "b=int(input('İkinci Sayıyı Gir= '))\n",
    "c=a+b\n",
    "print(\"Sonuç: \",c)"
   ]
  },
  {
   "cell_type": "code",
   "execution_count": 2,
   "id": "5f66b304",
   "metadata": {
    "scrolled": true
   },
   "outputs": [
    {
     "name": "stdout",
     "output_type": "stream",
     "text": [
      "Akım Değeri Giriniz: 5\n",
      "Direnç Değeri Giriniz: 6\n",
      "Gerilim Değeri:  30\n"
     ]
    }
   ],
   "source": [
    "# V=I*R formülünü kullanarak verilen I ve R değerine göre V yi hesaplayan program\n",
    "I=int(input(\"Akım Değeri Giriniz: \"))\n",
    "R=int(input(\"Direnç Değeri Giriniz: \"))\n",
    "V=I*R\n",
    "print(\"Gerilim Değeri: \", V)\n"
   ]
  },
  {
   "cell_type": "code",
   "execution_count": 7,
   "id": "c25c860a",
   "metadata": {},
   "outputs": [
    {
     "name": "stdout",
     "output_type": "stream",
     "text": [
      "Kısa Kenarı Giriniz= 8\n",
      "Uzun Kenarı Giriniz= 14\n",
      "Alan=  112\n",
      "Çevre=  44\n"
     ]
    }
   ],
   "source": [
    "# Kısa ve uzun kenarı girilen dikdörgenin alanı ve çevresini hesaplayınız\n",
    "a=input('Kısa Kenarı Giriniz= ')\n",
    "b=input('Uzun Kenarı Giriniz= ')\n",
    "print('Alan= ', int(a)*int(b))\n",
    "print('Çevre= ', 2*(int(a)+int(b)))"
   ]
  },
  {
   "cell_type": "code",
   "execution_count": 3,
   "id": "5fb65200",
   "metadata": {},
   "outputs": [
    {
     "name": "stdout",
     "output_type": "stream",
     "text": [
      "Yarı Çapı Giriniz= 5\n",
      "Çemberin Alanı=  78.5\n",
      "Çemberin Çevresi=  31.400000000000002\n"
     ]
    }
   ],
   "source": [
    "# Yarı çapı verilen çemberin alanını hesaplayan program pi=3.14 ve çevre\n",
    "r= input('Yarı Çapı Giriniz= ')\n",
    "pi= 3.14\n",
    "print('Çemberin Alanı= ', pi*int(r)*int(r))\n",
    "print(\"Çemberin Çevresi= \", 2*pi*int(r))\n",
    "\n"
   ]
  },
  {
   "cell_type": "code",
   "execution_count": 8,
   "id": "96417d04",
   "metadata": {},
   "outputs": [
    {
     "name": "stdout",
     "output_type": "stream",
     "text": [
      "Bir Sayı Giriniz= 5436\n",
      "Yıl=  14\n",
      "Ay=  181\n",
      "Gün=  5436\n"
     ]
    }
   ],
   "source": [
    "# Girilen gün sayısını kaç yıl, kaç ay ve kaç gün olduğunu bulan program\n",
    "sayı= int(input('Bir Sayı Giriniz= '))\n",
    "print('Yıl= ', sayı//365)\n",
    "print('Ay= ', sayı//30)\n",
    "print('Gün= ', sayı)"
   ]
  },
  {
   "cell_type": "code",
   "execution_count": 9,
   "id": "42b7cae7",
   "metadata": {},
   "outputs": [
    {
     "name": "stdout",
     "output_type": "stream",
     "text": [
      "Yüzlük Notu Giriniz= 48\n",
      "5'lik karşılığı=  2.4\n"
     ]
    }
   ],
   "source": [
    "# 100'lük sistemde notu girilen öğrencinin notunu 5'lik sisteme çeviriniz\n",
    "ÖgrNot= input('Yüzlük Notu Giriniz= ')\n",
    "print(\"5'lik karşılığı= \", int(ÖgrNot)/20)"
   ]
  },
  {
   "cell_type": "code",
   "execution_count": 4,
   "id": "94363507",
   "metadata": {},
   "outputs": [
    {
     "name": "stdout",
     "output_type": "stream",
     "text": [
      "Fiyat= 5\n",
      "KDV= 2\n",
      "KDV'li Fİyat=  5.1\n"
     ]
    }
   ],
   "source": [
    "# Fiyat ve kdv oranı girilen ürünün toplam fiyatını ekrana yazdıran program\n",
    "F= input('Fiyat= ')\n",
    "K= input('KDV= ')\n",
    "print(\"KDV'li Fİyat= \", int(F) + int(F)*int(K)/100)"
   ]
  },
  {
   "cell_type": "code",
   "execution_count": 9,
   "id": "e22429d4",
   "metadata": {},
   "outputs": [
    {
     "name": "stdout",
     "output_type": "stream",
     "text": [
      "Alış Fiyatını Giriniz: 100\n",
      "Vergiyi Giriniz: 10\n",
      "Kar oranını Giriniz: 20\n",
      "Satış Fiyatı:  132.0\n"
     ]
    }
   ],
   "source": [
    "#Bir ürünün alış fiyatı, vergi ve kar oranlarını kullanılarak satış fiyatını hesaplayan program?\n",
    "alış=int(input(\"Alış Fiyatını Giriniz: \"))\n",
    "vergi=int(input(\"Vergiyi Giriniz: \"))\n",
    "kar=int(input(\"Kar oranını Giriniz: \"))\n",
    "c=alış+alış*vergi/100\n",
    "d=c+c*kar/100\n",
    "print(\"Satış Fiyatı: \", d)"
   ]
  },
  {
   "cell_type": "code",
   "execution_count": 24,
   "id": "1aced812",
   "metadata": {},
   "outputs": [
    {
     "name": "stdout",
     "output_type": "stream",
     "text": [
      "Üç Basamaklı Bir Sayı Giriniz= 256\n",
      "Yüzler=  2 Onlar=  5 Birler=  6\n",
      "652\n"
     ]
    }
   ],
   "source": [
    "# Klavyeden girilen 3 basamaklı sayının basamak değerlerini yazdıran program\n",
    "sayı= int(input('Üç Basamaklı Bir Sayı Giriniz= '))\n",
    "a= int(sayı/100)\n",
    "b= int(int(sayı-a*100)/10)\n",
    "c= sayı%10\n",
    "print('Yüzler= ', a, 'Onlar= ', b, 'Birler= ', c)\n",
    "# Girilen 3 basamaklı bir sayıyı tersine çeviren prog\n",
    "print(str(c)+str(b)+str(a))"
   ]
  },
  {
   "cell_type": "code",
   "execution_count": 14,
   "id": "478c3844",
   "metadata": {},
   "outputs": [
    {
     "name": "stdout",
     "output_type": "stream",
     "text": [
      "Sayı Giriniz: 5\n",
      "Sayı Giriniz: 4\n",
      "Yer değiştirmeden önceki değer:  5 4\n",
      "Yer değiştirdikten sonraki değer:  4 5\n"
     ]
    }
   ],
   "source": [
    "#A ve B değişken değerlerini üçüncü bir değişken kullanmadan yer değiştiriniz?\n",
    "a=int(input(\"Sayı Giriniz: \"))\n",
    "b=int(input(\"Sayı Giriniz: \"))\n",
    "print(\"Yer değiştirmeden önceki değer: \", a, b)\n",
    "a=a+b\n",
    "b=a-b\n",
    "a=a-b\n",
    "print(\"Yer değiştirdikten sonraki değer: \", a, b)"
   ]
  },
  {
   "cell_type": "code",
   "execution_count": 17,
   "id": "c8f5c970",
   "metadata": {},
   "outputs": [
    {
     "name": "stdout",
     "output_type": "stream",
     "text": [
      "Bir n değeri giriniz: 3\n",
      "Bir k değeri giriniz: 2\n",
      "Sonuç:  12\n"
     ]
    }
   ],
   "source": [
    "#Girilen n ve k değerlerine göre k + 2k + 3k + ...+nk yı hesaplayan program?\n",
    "c=0\n",
    "a=0\n",
    "n=int(input(\"Bir n değeri giriniz: \"))\n",
    "k=int(input(\"Bir k değeri giriniz: \"))\n",
    "for i in range(1,n+1):\n",
    "    c=i*k\n",
    "    a=c+a\n",
    "print(\"Sonuç: \", a)"
   ]
  },
  {
   "cell_type": "code",
   "execution_count": 20,
   "id": "17a6acb6",
   "metadata": {},
   "outputs": [
    {
     "name": "stdout",
     "output_type": "stream",
     "text": [
      "Başlangıç X koordinatını giriniz: 1\n",
      "Başlangıç Y koordinatını giriniz: 1\n",
      "Orta Nokta X koordinatını giriniz: 3\n",
      "Orta Nokta Y koordinatını giriniz: 2\n",
      "Uç noktanın koordinatı: 5 3\n"
     ]
    }
   ],
   "source": [
    "#Çizginin başlangıç ve orta nokta koordinatları veriliyor. Diğer uç noktanın koordinatlarını bulunuz?\n",
    "x1=int(input(\"Başlangıç X koordinatını giriniz: \"))\n",
    "y1=int(input(\"Başlangıç Y koordinatını giriniz: \"))\n",
    "x0=int(input(\"Orta Nokta X koordinatını giriniz: \"))\n",
    "y0=int(input(\"Orta Nokta Y koordinatını giriniz: \"))\n",
    "a=x0-x1\n",
    "b=y0-y1\n",
    "x2=x0+a\n",
    "y2=y0+b\n",
    "print(\"Uç noktanın koordinatı:\",x2,y2)"
   ]
  }
 ],
 "metadata": {
  "kernelspec": {
   "display_name": "Python 3",
   "language": "python",
   "name": "python3"
  },
  "language_info": {
   "codemirror_mode": {
    "name": "ipython",
    "version": 3
   },
   "file_extension": ".py",
   "mimetype": "text/x-python",
   "name": "python",
   "nbconvert_exporter": "python",
   "pygments_lexer": "ipython3",
   "version": "3.8.8"
  },
  "vscode": {
   "interpreter": {
    "hash": "3ad933181bd8a04b432d3370b9dc3b0662ad032c4dfaa4e4f1596c548f763858"
   }
  }
 },
 "nbformat": 4,
 "nbformat_minor": 5
}
