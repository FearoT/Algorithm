{
 "cells": [
  {
   "cell_type": "code",
   "execution_count": 11,
   "id": "b044529a-94c1-4455-8aa8-80dbe0e5992b",
   "metadata": {},
   "outputs": [
    {
     "name": "stdout",
     "output_type": "stream",
     "text": [
      "-3\n",
      "-81\n",
      "-16\n",
      "24\n",
      "[18, 87, -3, -81, -16, 24]\n"
     ]
    }
   ],
   "source": [
    "a = [18, 69, -90, -78, 65, 40]\n",
    "x=a[0]+a[1]\n",
    "d=[a[0],x]\n",
    "for i in range(2,len(a)):\n",
    "    x=x+a[i]\n",
    "    d+=[x]\n",
    "    print(x)\n",
    "print(d)"
   ]
  },
  {
   "cell_type": "code",
   "execution_count": null,
   "id": "a2f28bec-f085-480c-9b1d-b1ed991ddaa3",
   "metadata": {},
   "outputs": [],
   "source": []
  }
 ],
 "metadata": {
  "kernelspec": {
   "display_name": "Python 3",
   "language": "python",
   "name": "python3"
  },
  "language_info": {
   "codemirror_mode": {
    "name": "ipython",
    "version": 3
   },
   "file_extension": ".py",
   "mimetype": "text/x-python",
   "name": "python",
   "nbconvert_exporter": "python",
   "pygments_lexer": "ipython3",
   "version": "3.8.8"
  }
 },
 "nbformat": 4,
 "nbformat_minor": 5
}
