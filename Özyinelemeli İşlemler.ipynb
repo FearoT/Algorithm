{
 "cells": [
  {
   "cell_type": "code",
   "execution_count": 1,
   "id": "1bd9321b",
   "metadata": {},
   "outputs": [
    {
     "name": "stdout",
     "output_type": "stream",
     "text": [
      "32\n"
     ]
    }
   ],
   "source": [
    "#Örnek 1\n",
    "def fun1(x,y):\n",
    "    if(x==0):\n",
    "        return y;\n",
    "    else:\n",
    "        return fun1(x-1,x+y);\n",
    "print(fun1(7,4))"
   ]
  },
  {
   "cell_type": "code",
   "execution_count": 5,
   "id": "6bccc907",
   "metadata": {},
   "outputs": [
    {
     "name": "stdout",
     "output_type": "stream",
     "text": [
      "120\n"
     ]
    }
   ],
   "source": [
    "#Faktoriyel\n",
    "def fak(n):\n",
    "    if n==0:\n",
    "        return 1\n",
    "    else:\n",
    "        return n*fak(n-1)\n",
    "print(fak(5))"
   ]
  },
  {
   "cell_type": "code",
   "execution_count": 2,
   "id": "8623ddf7",
   "metadata": {},
   "outputs": [
    {
     "name": "stdout",
     "output_type": "stream",
     "text": [
      "2\n"
     ]
    }
   ],
   "source": [
    "#Örnek 2\n",
    "def fun1(n):\n",
    "    if(n==1):\n",
    "        return 0;\n",
    "    else:\n",
    "        return 1+fun1(int(n/2));\n",
    "print(fun1(7))"
   ]
  },
  {
   "cell_type": "code",
   "execution_count": 8,
   "id": "27be0398",
   "metadata": {},
   "outputs": [
    {
     "name": "stdout",
     "output_type": "stream",
     "text": [
      "1\n",
      "0\n",
      "1\n",
      "1\n"
     ]
    }
   ],
   "source": [
    "#Örenek 3\n",
    "def fun(n):\n",
    "    if(n==0):\n",
    "        return;\n",
    "    fun(int(n/2));\n",
    "    print(n%2)\n",
    "fun(11)"
   ]
  },
  {
   "cell_type": "code",
   "execution_count": 12,
   "id": "5f637941",
   "metadata": {
    "scrolled": true
   },
   "outputs": [
    {
     "name": "stdout",
     "output_type": "stream",
     "text": [
      "*\n",
      "\n",
      "**\n",
      "\n",
      "***\n",
      "\n",
      "****\n",
      "\n",
      "*****\n",
      "\n",
      "******\n",
      "\n",
      "*******\n",
      "\n",
      "********\n",
      "\n",
      "*********\n",
      "\n",
      "**********\n",
      "\n",
      "***********\n",
      "\n"
     ]
    }
   ],
   "source": [
    "#Örnek 4\n",
    "def fun(n):\n",
    "    i=0;\n",
    "    if(n>0):\n",
    "        fun(n-1);\n",
    "        for i in range(n):\n",
    "            print(\"*\",end=\"\")\n",
    "        print(\"\\n\")\n",
    "fun(11)"
   ]
  },
  {
   "cell_type": "code",
   "execution_count": 13,
   "id": "d51e6f37",
   "metadata": {
    "scrolled": true
   },
   "outputs": [
    {
     "data": {
      "text/plain": [
       "5"
      ]
     },
     "execution_count": 13,
     "metadata": {},
     "output_type": "execute_result"
    }
   ],
   "source": [
    "#Örnek 5\n",
    "def f(n):\n",
    "    if(n<=1):\n",
    "        return 1;\n",
    "    if(n%2==0):\n",
    "        return f(int(n/2));\n",
    "    return f(int(n/2))+f(int(n/2)+1)\n",
    "f(11)"
   ]
  },
  {
   "cell_type": "code",
   "execution_count": 14,
   "id": "47a3c466",
   "metadata": {},
   "outputs": [
    {
     "data": {
      "text/plain": [
       "8"
      ]
     },
     "execution_count": 14,
     "metadata": {},
     "output_type": "execute_result"
    }
   ],
   "source": [
    "#EBOB(x,y)\n",
    "def ebob(x,y):\n",
    "    if y==0:\n",
    "        return x\n",
    "    else:\n",
    "        return ebob(y,x%y)\n",
    "ebob(32,24)"
   ]
  },
  {
   "cell_type": "code",
   "execution_count": 15,
   "id": "cb222b33",
   "metadata": {},
   "outputs": [
    {
     "name": "stdout",
     "output_type": "stream",
     "text": [
      "13\n"
     ]
    }
   ],
   "source": [
    "#Fibonacci seri değerlerini özyinelemeli üretiniz\n",
    "def fibo(n):\n",
    "    if(n==0): return 0\n",
    "    if(n==1): return 1\n",
    "    return fibo(n-1)+fibo(n-2)\n",
    "print(fibo(7))"
   ]
  },
  {
   "cell_type": "code",
   "execution_count": 17,
   "id": "24f0a2b2",
   "metadata": {
    "scrolled": true
   },
   "outputs": [
    {
     "ename": "NameError",
     "evalue": "name 'M' is not defined",
     "output_type": "error",
     "traceback": [
      "\u001b[1;31m---------------------------------------------------------------------------\u001b[0m",
      "\u001b[1;31mNameError\u001b[0m                                 Traceback (most recent call last)",
      "\u001b[1;32m<ipython-input-17-26e3a7aa9de2>\u001b[0m in \u001b[0;36m<module>\u001b[1;34m\u001b[0m\n\u001b[0;32m     17\u001b[0m     \u001b[1;32mif\u001b[0m \u001b[0my\u001b[0m\u001b[1;33m<\u001b[0m\u001b[1;36m4\u001b[0m\u001b[1;33m:\u001b[0m\u001b[1;33m\u001b[0m\u001b[1;33m\u001b[0m\u001b[0m\n\u001b[0;32m     18\u001b[0m         \u001b[1;32mif\u001b[0m \u001b[0mA\u001b[0m\u001b[1;33m[\u001b[0m\u001b[0my\u001b[0m\u001b[1;33m+\u001b[0m\u001b[1;36m1\u001b[0m\u001b[1;33m]\u001b[0m\u001b[1;33m[\u001b[0m\u001b[0mx\u001b[0m\u001b[1;33m]\u001b[0m\u001b[1;33m!=\u001b[0m\u001b[1;36m2\u001b[0m \u001b[1;32mand\u001b[0m \u001b[0mA\u001b[0m\u001b[1;33m[\u001b[0m\u001b[0my\u001b[0m\u001b[1;33m+\u001b[0m\u001b[1;36m1\u001b[0m\u001b[1;33m]\u001b[0m\u001b[1;33m[\u001b[0m\u001b[0mx\u001b[0m\u001b[1;33m]\u001b[0m\u001b[1;33m==\u001b[0m\u001b[1;36m1\u001b[0m\u001b[1;33m:\u001b[0m \u001b[0mBoya\u001b[0m\u001b[1;33m(\u001b[0m\u001b[0my\u001b[0m\u001b[1;33m+\u001b[0m\u001b[1;36m1\u001b[0m\u001b[1;33m,\u001b[0m\u001b[0mx\u001b[0m\u001b[1;33m)\u001b[0m\u001b[1;33m;\u001b[0m\u001b[1;33m\u001b[0m\u001b[1;33m\u001b[0m\u001b[0m\n\u001b[1;32m---> 19\u001b[1;33m \u001b[0mMatrisYaz\u001b[0m\u001b[1;33m(\u001b[0m\u001b[0mM\u001b[0m\u001b[1;33m)\u001b[0m\u001b[1;33m\u001b[0m\u001b[1;33m\u001b[0m\u001b[0m\n\u001b[0m\u001b[0;32m     20\u001b[0m \u001b[0mprint\u001b[0m\u001b[1;33m(\u001b[0m\u001b[1;34m\"==========\"\u001b[0m\u001b[1;33m)\u001b[0m\u001b[1;33m\u001b[0m\u001b[1;33m\u001b[0m\u001b[0m\n\u001b[0;32m     21\u001b[0m \u001b[0mBoya\u001b[0m\u001b[1;33m(\u001b[0m\u001b[1;36m0\u001b[0m\u001b[1;33m,\u001b[0m\u001b[1;36m2\u001b[0m\u001b[1;33m)\u001b[0m\u001b[1;33m;\u001b[0m\u001b[1;33m\u001b[0m\u001b[1;33m\u001b[0m\u001b[0m\n",
      "\u001b[1;31mNameError\u001b[0m: name 'M' is not defined"
     ]
    }
   ],
   "source": [
    "#Paint nesne boyama\n",
    "global A\n",
    "a=[[0,1,1,1,1],[0,1,0,0,0],[0,1,0,0,0],[1,0,0,0,0],[1,0,0,0,0]];\n",
    "def MatrisYaz(M):\n",
    "    for i in range(len(M[i])):\n",
    "        for j in range(len(M[i])):\n",
    "            print(M[i][j], end=\" \")\n",
    "        print()\n",
    "def Boya(y,x):\n",
    "    A[y][x]=2\n",
    "    if x>0:\n",
    "        if A[y][x-1]!=2 and A[y][x-1]==1: Boya(y,x-1);\n",
    "    if x<4:\n",
    "        if A[y][x+1]!=2 and A[y][x+1]==1: Boya(y,x+1);\n",
    "    if y>0:\n",
    "        if A[y-1][x]!=2 and A[y-1][x]==1: Boya(y-1,x);\n",
    "    if y<4:\n",
    "        if A[y+1][x]!=2 and A[y+1][x]==1: Boya(y+1,x);\n",
    "MatrisYaz(A)\n",
    "print(\"==========\")\n",
    "Boya(0,2);\n",
    "MatrisYaz(A)"
   ]
  }
 ],
 "metadata": {
  "kernelspec": {
   "display_name": "Python 3",
   "language": "python",
   "name": "python3"
  },
  "language_info": {
   "codemirror_mode": {
    "name": "ipython",
    "version": 3
   },
   "file_extension": ".py",
   "mimetype": "text/x-python",
   "name": "python",
   "nbconvert_exporter": "python",
   "pygments_lexer": "ipython3",
   "version": "3.8.8"
  }
 },
 "nbformat": 4,
 "nbformat_minor": 5
}
