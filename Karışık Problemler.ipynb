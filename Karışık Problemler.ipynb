{
 "cells": [
  {
   "cell_type": "code",
   "execution_count": null,
   "id": "ece8591a-062c-494d-8263-8138e784a33c",
   "metadata": {},
   "outputs": [],
   "source": [
    "#Roman rakamlarını sayı ya dönüştürme\n",
    "\n",
    "def romanToInt(self, s: str) -> int:\n",
    "    roman = {'I': 1, 'V': 5, 'X': 10, 'L': 50, 'C': 100, 'D': 500, 'M': 1000}\n",
    "    res=0 #sonuç= res result\n",
    "    for i in range(len(s)):\n",
    "        if i+1<len(s) and roman[s[i]]<roman[s[i+1]]:\n",
    "            res-=roman[s[i]]\n",
    "        else:\n",
    "            res+=roman[s[i]]\n",
    "    return res       "
   ]
  },
  {
   "cell_type": "code",
   "execution_count": 32,
   "id": "7b78372f-6d4c-4e5c-b166-70c3f873bf3a",
   "metadata": {},
   "outputs": [
    {
     "name": "stdin",
     "output_type": "stream",
     "text": [
      " asd d a  \n"
     ]
    },
    {
     "name": "stdout",
     "output_type": "stream",
     "text": [
      "['asd', 'd', 'a ']\n",
      "['a ', 'd', 'asd']\n",
      "a  d asd \n"
     ]
    }
   ],
   "source": [
    "#You are given a string A of size N.\n",
    "#\"blue is sky the\"       \"the sky is blue\"\n",
    "A+=\" \"\n",
    "A=input()\n",
    "N=len(A)\n",
    "ab=[]\n",
    "info=[-1]\n",
    "for i in range(len(A)-1):\n",
    "    if A[i]==\" \" and A[i+1]!=\" \":\n",
    "        kelime=A[info[-1]+1:i]\n",
    "        ab.append(kelime)\n",
    "        info.append(i)\n",
    "    else:\n",
    "        A[i]!=\" \" and A[i+1]==\" \"\n",
    "        kelime=A[info[-1]+1:-1]\n",
    "        ab.append(kelime)\n",
    "        break\n",
    "abc=ab[::-1]\n",
    "abcd=\"\"\n",
    "for j in abc:\n",
    "    abcd+=j+\" \"\n",
    "print(ab)\n",
    "print(abc)\n",
    "print(abcd)"
   ]
  },
  {
   "cell_type": "code",
   "execution_count": 20,
   "id": "f64e9a53-7a9e-460e-820c-5bc8c34333b0",
   "metadata": {},
   "outputs": [
    {
     "name": "stdout",
     "output_type": "stream",
     "text": [
      "ÇağrıPythonPHPJSBiliyor\n"
     ]
    }
   ],
   "source": [
    "liste=[\"Çağrı\",\"Python\",\"PHP\",\"JS\",\"Biliyor\"]\n",
    "metin=\"\"\n",
    "for kelime in liste:\n",
    "    metin=metin+kelime\n",
    "\n",
    "print(metin)"
   ]
  },
  {
   "cell_type": "code",
   "execution_count": 2,
   "id": "d9e896ca-9424-471c-949c-bedd5eb272d1",
   "metadata": {},
   "outputs": [
    {
     "name": "stdin",
     "output_type": "stream",
     "text": [
      " -1\n",
      " 2\n"
     ]
    },
    {
     "name": "stdout",
     "output_type": "stream",
     "text": [
      "2\n"
     ]
    }
   ],
   "source": [
    "#Given a point in a Euclidean plane (x and y), return the quadrant the point exists in: 1, 2, 3 or 4 (integer). x and y are non-zero integers, \n",
    "#therefore the given point never lies on the axes.\n",
    "\n",
    "#Examples\n",
    "#(1, 2)     => 1\n",
    "#(3, 5)     => 1\n",
    "#(-10, 100) => 2\n",
    "#(-1, -9)   => 3\n",
    "#(19, -56)  => 4\n",
    "x=int(input())\n",
    "y=int(input())\n",
    "if x>0 and y>0:\n",
    "    print(\"1\")\n",
    "if x<0 and y>0:\n",
    "    print(\"2\")\n",
    "if x<0 and y<0:\n",
    "    print(\"3\")\n",
    "if x>0 and y<0:\n",
    "    print(\"4\")\n"
   ]
  }
 ],
 "metadata": {
  "kernelspec": {
   "display_name": "Python 3",
   "language": "python",
   "name": "python3"
  },
  "language_info": {
   "codemirror_mode": {
    "name": "ipython",
    "version": 3
   },
   "file_extension": ".py",
   "mimetype": "text/x-python",
   "name": "python",
   "nbconvert_exporter": "python",
   "pygments_lexer": "ipython3",
   "version": "3.8.8"
  }
 },
 "nbformat": 4,
 "nbformat_minor": 5
}
