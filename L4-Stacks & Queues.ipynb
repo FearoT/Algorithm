{
 "cells": [
  {
   "cell_type": "code",
   "execution_count": null,
   "id": "5ee41fe9-d758-4d16-923d-a206942b88dd",
   "metadata": {},
   "outputs": [],
   "source": [
    "#Monk and Prisoner of Azkaban\n",
    "n=int(input())\n",
    "dist=[]\n",
    "for i in range(n):\n",
    "    xy=list(map(int,input().split()))\n",
    "    d=(xy[0]**2+xy[1]**2)**0.5\n",
    "    dist.append(d)\n",
    "dist.sort()"
   ]
  },
  {
   "cell_type": "code",
   "execution_count": null,
   "id": "4cc8a827-dba2-46fd-8c61-5312da9fa119",
   "metadata": {},
   "outputs": [],
   "source": [
    "n=5\n",
    "A=[5,4,1,3,2]\n",
    "xenb=-1\n",
    "yenk=n\n",
    "for i in range(n):\n",
    "    for j in range(n):\n",
    "        if(i!=j) and (A[j]>A[i]) and (j<i) and (j>xenb):\n",
    "            xenb=j\n",
    "        if(i!=j) and (A[j]>A[i]) and (j<i) and (j>xenb):\n",
    "            yenk=j\n",
    "    if xenb!=-1:\n",
    "        xenb+=1\n",
    "        \n",
    "    if yenk==n:\n",
    "        yenk=-1\n",
    "    else:\n",
    "        yenk+=1\n",
    "        \n",
    "    print(xenb+yenk)\n",
    "            \n",
    "            \n",
    "    "
   ]
  },
  {
   "cell_type": "code",
   "execution_count": null,
   "id": "41b1f010-fb7e-4f83-9daa-36562379c722",
   "metadata": {},
   "outputs": [],
   "source": [
    "            if xtop==-1:\n",
    "                xtop=xtop+1\n",
    "                xStack[xtop]=j\n",
    "            else:\n",
    "                if xStack[xtop]<j:\n",
    "                    xStack[xtop]=j\n",
    "    \n",
    "    \n",
    "            if ytop==-1:\n",
    "                ytop=ytop+1\n",
    "                yStack[ytop]=j\n",
    "            else:\n",
    "                if yStack[ytop]<j:\n",
    "                    yStack[ytop]=j  "
   ]
  }
 ],
 "metadata": {
  "kernelspec": {
   "display_name": "Python 3",
   "language": "python",
   "name": "python3"
  },
  "language_info": {
   "codemirror_mode": {
    "name": "ipython",
    "version": 3
   },
   "file_extension": ".py",
   "mimetype": "text/x-python",
   "name": "python",
   "nbconvert_exporter": "python",
   "pygments_lexer": "ipython3",
   "version": "3.8.8"
  }
 },
 "nbformat": 4,
 "nbformat_minor": 5
}
