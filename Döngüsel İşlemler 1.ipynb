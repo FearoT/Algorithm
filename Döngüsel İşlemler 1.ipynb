{
 "cells": [
  {
   "cell_type": "code",
   "execution_count": 1,
   "id": "ffeb33dd",
   "metadata": {},
   "outputs": [
    {
     "name": "stdout",
     "output_type": "stream",
     "text": [
      "0 1 2 3 4 5 6 7 8 9 "
     ]
    }
   ],
   "source": [
    "for x in range(10):\n",
    "    print(x, end=' ')"
   ]
  },
  {
   "cell_type": "code",
   "execution_count": 2,
   "id": "f7f10958",
   "metadata": {},
   "outputs": [
    {
     "name": "stdout",
     "output_type": "stream",
     "text": [
      "0 1 2 3 4 5 6 7 8 9 "
     ]
    }
   ],
   "source": [
    "x=0\n",
    "while x<10:\n",
    "    print(x, end=' ')\n",
    "    x= x + 1"
   ]
  },
  {
   "cell_type": "code",
   "execution_count": 3,
   "id": "061c9461",
   "metadata": {},
   "outputs": [
    {
     "name": "stdout",
     "output_type": "stream",
     "text": [
      "Element  Value\n",
      "0          2\n",
      "1          4\n",
      "2          6\n",
      "3          8\n",
      "4          10\n",
      "5          12\n",
      "6          14\n",
      "7          16\n",
      "8          18\n",
      "9          20\n"
     ]
    }
   ],
   "source": [
    "print('Element  Value')\n",
    "\n",
    "for x in range(10):\n",
    "    print(x,'        ', 2+x*2)"
   ]
  },
  {
   "cell_type": "markdown",
   "id": "ed78b1a1",
   "metadata": {},
   "source": [
    "# Döngüsel İşlemlerin Problemleri"
   ]
  },
  {
   "cell_type": "code",
   "execution_count": 4,
   "id": "18122c4a",
   "metadata": {},
   "outputs": [
    {
     "name": "stdout",
     "output_type": "stream",
     "text": [
      "sayı: 5\n",
      "sayı: 1\n",
      "sayı: 2\n",
      "sayı: 3\n",
      "sayı: 6\n",
      "3.4\n"
     ]
    }
   ],
   "source": [
    "#liste kullanmadan 5 sayının ortalamasını bulan program\n",
    "b=0\n",
    "for x in range(5):\n",
    "    a = int(input('sayı: '))\n",
    "    b+=a\n",
    "print(b/5)"
   ]
  },
  {
   "cell_type": "code",
   "execution_count": 5,
   "id": "e38051f8",
   "metadata": {},
   "outputs": [
    {
     "name": "stdout",
     "output_type": "stream",
     "text": [
      "sayı: -5\n",
      "sayı: 45\n",
      "sayı: 3\n",
      "sayı: 5\n",
      "sayı: 0\n",
      "Maksimum=  45 Minimum=  -5\n"
     ]
    }
   ],
   "source": [
    "#liste kullanmadan 5 sayı içerisindeki minimum ve maksimum değerlerini bulan program\n",
    "a= int(input('sayı: '))\n",
    "Min=a\n",
    "Mak=a\n",
    "for x in range(4):\n",
    "    a = int(input('sayı: '))\n",
    "    if a<Min:\n",
    "        Min=a\n",
    "    if a>Mak:\n",
    "        Mak=a\n",
    "print('Maksimum= ', Mak, 'Minimum= ', Min)\n"
   ]
  },
  {
   "cell_type": "code",
   "execution_count": 1,
   "id": "e83195e2",
   "metadata": {},
   "outputs": [
    {
     "name": "stdout",
     "output_type": "stream",
     "text": [
      "N= 9\n",
      "1\n",
      "3\n",
      "5\n",
      "7\n",
      "9\n"
     ]
    }
   ],
   "source": [
    "# N'e kadar tek sayıları yazdıran program\n",
    "N= int(input('N= '))\n",
    "for x in range(1,N+1):\n",
    "    if x%2==1:\n",
    "        print(x)"
   ]
  },
  {
   "cell_type": "code",
   "execution_count": 7,
   "id": "dafbc02d",
   "metadata": {},
   "outputs": [
    {
     "name": "stdout",
     "output_type": "stream",
     "text": [
      "N= 9\n",
      "1\n",
      "3\n",
      "9\n"
     ]
    }
   ],
   "source": [
    "#Girilen sayının tam bölenlerini bulan program\n",
    "N= int(input('N= '))\n",
    "for x in range(1,N+1):\n",
    "    if N%x==0:\n",
    "        print(x)"
   ]
  },
  {
   "cell_type": "code",
   "execution_count": 8,
   "id": "20fb0c6b",
   "metadata": {},
   "outputs": [
    {
     "name": "stdout",
     "output_type": "stream",
     "text": [
      "P\n",
      "y\n",
      "h\n",
      "t\n",
      "o\n",
      "n\n"
     ]
    }
   ],
   "source": [
    "for harf in'Pyhton':\n",
    "    print(harf)\n",
    "    "
   ]
  },
  {
   "cell_type": "code",
   "execution_count": 9,
   "id": "2d7c91a4",
   "metadata": {},
   "outputs": [
    {
     "name": "stdout",
     "output_type": "stream",
     "text": [
      "P\n",
      "y\n"
     ]
    }
   ],
   "source": [
    "for harf in'Pyhton':\n",
    "    if harf=='h':\n",
    "        break    #döngüden çık\n",
    "    print(harf)"
   ]
  },
  {
   "cell_type": "code",
   "execution_count": 10,
   "id": "61644f65",
   "metadata": {},
   "outputs": [
    {
     "name": "stdout",
     "output_type": "stream",
     "text": [
      "P\n",
      "y\n",
      "t\n",
      "o\n",
      "n\n"
     ]
    }
   ],
   "source": [
    "for harf in'Pyhton':\n",
    "    if harf=='h':\n",
    "        continue    #devam et\n",
    "    print(harf)"
   ]
  },
  {
   "cell_type": "code",
   "execution_count": 4,
   "id": "6d2925f0",
   "metadata": {},
   "outputs": [
    {
     "name": "stdout",
     "output_type": "stream",
     "text": [
      "a= 5\n",
      "b= 3\n",
      "5\n",
      "25\n",
      "125\n"
     ]
    }
   ],
   "source": [
    "#a^b yi açık hesaplayan program\n",
    "a= int(input('a= '))\n",
    "b= int(input('b= '))\n",
    "sonuc= 1\n",
    "for x in range(b):\n",
    "    sonuc*=a\n",
    "    print(sonuc)"
   ]
  },
  {
   "cell_type": "code",
   "execution_count": 3,
   "id": "82e3c0e9",
   "metadata": {},
   "outputs": [
    {
     "name": "stdout",
     "output_type": "stream",
     "text": [
      "n= 6\n",
      "Tek Sayıların Toplamı:  9 Çift Sayıların Çarpımı:  48\n"
     ]
    }
   ],
   "source": [
    "#n’e kadar ki tek sayıların toplamı, çift sayıların çarpımını hesaplayan program?\n",
    "n=int(input(\"n= \"))\n",
    "ciftcarp=1\n",
    "tektop=0\n",
    "for i in range(1,n+1,1):\n",
    "    if i%2==0:\n",
    "        ciftcarp*=i\n",
    "    else:\n",
    "        tektop+=i\n",
    "print(\"Tek Sayıların Toplamı: \", tektop, \"Çift Sayıların Çarpımı: \", ciftcarp)\n",
    "    "
   ]
  },
  {
   "cell_type": "code",
   "execution_count": 12,
   "id": "93fb16cc",
   "metadata": {},
   "outputs": [
    {
     "name": "stdout",
     "output_type": "stream",
     "text": [
      "Bir Sayı Giriniz: 4\n",
      "24\n"
     ]
    }
   ],
   "source": [
    "#Girilen sayının faktöriyelini hesaplayan program?\n",
    "n=int(input(\"Bir Sayı Giriniz: \"))\n",
    "fak=1\n",
    "for i in range(1,n+1,1):\n",
    "    fak*=i\n",
    "print(fak)"
   ]
  },
  {
   "cell_type": "code",
   "execution_count": 3,
   "id": "be0afad0",
   "metadata": {
    "scrolled": true
   },
   "outputs": [
    {
     "name": "stdout",
     "output_type": "stream",
     "text": [
      "N= 8\n",
      "1 1 2 3 5 8 13 21 "
     ]
    }
   ],
   "source": [
    "# Girilen n değerine göre Fibonacci serisinin ilk n terimini hesaplayınız\n",
    "n= int(input('N= '))\n",
    "A=0\n",
    "B=1\n",
    "print(B, end=' ')\n",
    "for i in range(n-1):\n",
    "    F= A+B\n",
    "    print(F, end=' ')\n",
    "    A=B\n",
    "    B=F"
   ]
  },
  {
   "cell_type": "code",
   "execution_count": 19,
   "id": "a3a49d51",
   "metadata": {},
   "outputs": [
    {
     "name": "stdout",
     "output_type": "stream",
     "text": [
      "A adet sayı kadar girmek için: 5\n",
      "Sayı Giriniz: 2\n",
      "Sayı Giriniz: -1\n",
      "Sayı Giriniz: 0\n",
      "Sayı Giriniz: 0\n",
      "Sayı Giriniz: 3\n",
      "P=  2\n",
      "n=  1\n",
      "s=  2\n"
     ]
    }
   ],
   "source": [
    "# Girilen a adet sayının pozitif negatif ve sıfırın kaç defa tekrarlandığını bulan program\n",
    "a=int(input(\"A adet sayı kadar girmek için: \"))\n",
    "p=0\n",
    "n=0\n",
    "s=0\n",
    "for i in range(a):\n",
    "    sayı= int(input('Sayı Giriniz: '))\n",
    "    if sayı>0:\n",
    "        p= p+1\n",
    "    else:\n",
    "        if sayı<0:\n",
    "            n= n+1\n",
    "        else:\n",
    "            s= s+1\n",
    "print('P= ',p)\n",
    "print('n= ',n)\n",
    "print('s= ',s)"
   ]
  },
  {
   "cell_type": "code",
   "execution_count": 6,
   "id": "3ae9894f",
   "metadata": {
    "scrolled": true
   },
   "outputs": [
    {
     "name": "stdout",
     "output_type": "stream",
     "text": [
      "Serinin İlk Elemanı: 2\n",
      "Toplam Eleman Sayısı: 3\n",
      "Artış Değeri: 6\n",
      "2+8+14=24\n"
     ]
    }
   ],
   "source": [
    "# Serinin ilk elemanı, toplam eleman sayısı ve artış miktarı girildiğinde seri sonucu hesaplayan program\n",
    "se= int(input('Serinin İlk Elemanı: '))\n",
    "te= int(input('Toplam Eleman Sayısı: '))\n",
    "ad= int(input('Artış Değeri: '))\n",
    "\n",
    "ss=se\n",
    "top=se\n",
    "print(top, end='+')\n",
    "for i in range(te-1):\n",
    "    top=top+ad\n",
    "    ss=ss+top\n",
    "    if i==te-2:\n",
    "        print(top, end='=')\n",
    "    else:\n",
    "        print(top, end='+')\n",
    "print(ss)"
   ]
  },
  {
   "cell_type": "code",
   "execution_count": 11,
   "id": "4411b2d9",
   "metadata": {},
   "outputs": [
    {
     "name": "stdout",
     "output_type": "stream",
     "text": [
      "x katsayısı: 1\n",
      "y katsayısı:-2\n",
      "z sayısı-3\n",
      "Denklem:  1 x² -2 x -3\n",
      "Kök sayısı:  2\n"
     ]
    }
   ],
   "source": [
    "#f(x)=x²-2x-3 fonksiyonunun x eksenini kestiği nokta sayısını bulunuz?\n",
    "\n",
    "a=int(input(\"x katsayısı: \"))\n",
    "b=int(input(\"y katsayısı:\"))\n",
    "c=int(input(\"z sayısı\"))\n",
    "   \n",
    "print(\"Denklem: \",a,\"x²\",b,\"x\",c)\n",
    "\n",
    "koks=0\n",
    "\n",
    "if ((b**2)-(4*a*c))<0:\n",
    "    koks=0\n",
    "if ((b**2)-(4*a*c))== 0:\n",
    "    koks= 1\n",
    "if ((b**2)-(4*a*c)) > 0:\n",
    "    koks= 2\n",
    "print(\"Kök sayısı: \",koks)    \n",
    "    \n"
   ]
  },
  {
   "cell_type": "code",
   "execution_count": 11,
   "id": "2e622619",
   "metadata": {},
   "outputs": [
    {
     "name": "stdout",
     "output_type": "stream",
     "text": [
      "Sayıyı Girin : 2\n",
      "2 Asal Sayıdır\n"
     ]
    }
   ],
   "source": [
    "# Girilen bir sayının asal olup olmadığını bulunuz\n",
    "sayi=int(input(\"Sayıyı Girin : \"))\n",
    "if sayi > 1:\n",
    "    for i in range(2,sayi):\n",
    "        if sayi%i==0:\n",
    "            print(sayi, \"Asal Sayı Değilidir\")\n",
    "            break\n",
    "    else:\n",
    "        print(sayi, \"Asal Sayıdır\")\n",
    "else:\n",
    "    print(sayi, \"Asal Sayı Değildir\")"
   ]
  },
  {
   "cell_type": "code",
   "execution_count": 12,
   "id": "951f0d87",
   "metadata": {},
   "outputs": [
    {
     "name": "stdout",
     "output_type": "stream",
     "text": [
      "n= 48\n",
      "Asal Çarpanları:  2\n",
      "Asal Çarpanları:  3\n"
     ]
    }
   ],
   "source": [
    "# Girilen bir sayının asal çarpanlarını bulan program\n",
    "n= int(input('n= '))\n",
    "Acarpan=2\n",
    "ct=0\n",
    "while n>1:\n",
    "    if n%Acarpan ==0:\n",
    "        n=n/Acarpan\n",
    "        ct+=1\n",
    "        if ct==1:\n",
    "            print(\"Asal Çarpanları: \", Acarpan)\n",
    "    else:\n",
    "        Acarpan= Acarpan+1\n",
    "        ct=0\n",
    "       "
   ]
  },
  {
   "cell_type": "code",
   "execution_count": 13,
   "id": "54172a5a",
   "metadata": {},
   "outputs": [
    {
     "name": "stdout",
     "output_type": "stream",
     "text": [
      "sayı: 251\n",
      "1 5 2 carpim 10\n"
     ]
    }
   ],
   "source": [
    "#Girilen sayının basamak değerleri çarpımını bulunuz?\n",
    "n=int(input(\"sayı: \"))\n",
    "while n>9:\n",
    "    carpim = 1\n",
    "    while n>0:\n",
    "        sonhane=int(n%10)\n",
    "        carpim=carpim*sonhane\n",
    "        print(int(sonhane),end=\" \")\n",
    "        n=(n-sonhane)/10\n",
    "    print(\"carpim\",carpim)\n"
   ]
  },
  {
   "cell_type": "code",
   "execution_count": 14,
   "id": "5290b446",
   "metadata": {},
   "outputs": [
    {
     "name": "stdout",
     "output_type": "stream",
     "text": [
      "n=635\n",
      "90.0\n"
     ]
    }
   ],
   "source": [
    "#Girilen sayının basamak değerleri çarpımını bulunuz?\n",
    "sonuc=1\n",
    "n=int(input(\"n=\"))\n",
    "while n>1:\n",
    "    sonrakam=n%10\n",
    "    sonuc*=sonrakam\n",
    "    k=n-sonrakam\n",
    "    n=k/10\n",
    "print(sonuc)"
   ]
  },
  {
   "cell_type": "code",
   "execution_count": 34,
   "id": "1ce8eb6c",
   "metadata": {},
   "outputs": [
    {
     "name": "stdin",
     "output_type": "stream",
     "text": [
      "N Sayısı Giriniz: 15\n",
      "K Sayısını Giriniz: 5\n"
     ]
    },
    {
     "name": "stdout",
     "output_type": "stream",
     "text": [
      "[0, 1, 2, 3, 4, 5, 5, 6, 7, 8, 9, 10, 11, 12, 13, 14, 15, 15]\n",
      "[0, 1, 2, 3, 4, 7, 8, 9, 10, 11, 12, 13, 14, 15]\n"
     ]
    }
   ],
   "source": [
    "#N’e kadar ki sayıların sayısal değer k rakamı olmayanları listeleyen program?\n",
    "def basamakDeğer(sayı):\n",
    "    basamak=[]    \n",
    "    while sayı>0:\n",
    "        sonbasamak=sayı%10\n",
    "        basamak.append(sonbasamak)\n",
    "        sayı=(sayı-sonbasamak)/10\n",
    "    return basamak \n",
    "\n",
    "n=int(input(\"N Sayısı Giriniz:\"))\n",
    "k=int(input(\"K Sayısını Giriniz:\"))\n",
    "basamakDeğer(n)\n",
    "rakam=[0,1,2,3,4,5,6,7,8,9]\n",
    "listeK=[]\n",
    "Sonuç=[]\n",
    "a=[]\n",
    "zaaa=[]\n",
    "for i in range(0,n+1):\n",
    "    Sonuç.append(i)\n",
    "    if k==i :\n",
    "        listeK.append(i)\n",
    "        k+=10        \n",
    "a=Sonuç+listeK         \n",
    "maks=a[0]\n",
    "for k in range(len(a)-1):\n",
    "    for j in range(len(a)-1):\n",
    "        if a[j]>a[j+1]:\n",
    "            ab=a[j+1]\n",
    "            a[j+1]=a[j]\n",
    "            a[j]=ab\n",
    "print(a)\n",
    "for z in range(len(a)-1):\n",
    "    if (not(a[z]==a[z+1]) and not(a[z]==a[z-1])):\n",
    "        zaaa.append(z)\n",
    "print(zaaa)\n",
    "#Tekrar Bak Ekiks ÇOOOOK ZOOOR \n",
    "       \n"
   ]
  },
  {
   "cell_type": "code",
   "execution_count": 15,
   "id": "16973e24",
   "metadata": {},
   "outputs": [
    {
     "name": "stdout",
     "output_type": "stream",
     "text": [
      "Sayı Giriniz: 1554562549320\n",
      "Girdiğiniz Sayının Basamak Sayısı: 13\n"
     ]
    }
   ],
   "source": [
    "#Girilen sayının basamak sayısını ekrana yazdıran program?\n",
    "# abs, mutlak değeri alır\n",
    "sayi_gir = abs(int(input(\"Sayı Giriniz: \")))\n",
    "sayac = 0\n",
    "while sayi_gir>0:\n",
    "    sayi_gir=sayi_gir//10\n",
    "    sayac+=1\n",
    "print (\"Girdiğiniz Sayının Basamak Sayısı:\", sayac)  "
   ]
  },
  {
   "cell_type": "code",
   "execution_count": 16,
   "id": "f9444ae3",
   "metadata": {},
   "outputs": [
    {
     "name": "stdout",
     "output_type": "stream",
     "text": [
      "tc no: 12345678995\n",
      "Türk kızı ananı sikti.\n"
     ]
    }
   ],
   "source": [
    "#TC kimlik noyu doğru girmeye zorlayınız? (11 karakter ve tamamı sayı)\n",
    "a=str(input(\"tc no: \"))\n",
    "b=len(a)\n",
    "liat1= [1,2,3,4,5,6,7,8,9,0]\n",
    "d=0\n",
    "s=0\n",
    "if b==11:\n",
    "    for i in range(len(a)):\n",
    "        s=a[i]\n",
    "        if s in liat1:\n",
    "            d+=1\n",
    "if d==11:\n",
    "    print(\"Türk kızı götten verir.\")\n",
    "else:\n",
    "    print(\"Türk kızı ananı sikti.\")\n"
   ]
  },
  {
   "cell_type": "code",
   "execution_count": 18,
   "id": "d135f932",
   "metadata": {},
   "outputs": [
    {
     "name": "stdout",
     "output_type": "stream",
     "text": [
      "Yazı yazınız: asd\n",
      "dsa\n",
      "cumle: asd\n",
      "dsa"
     ]
    }
   ],
   "source": [
    "#Girilen cümleyi tersten yazdırın? \n",
    "isim=str(input(\"Yazı yazınız: \"))\n",
    "uzunluk=len(isim)\n",
    "ters=\"\"\n",
    "for i in range(uzunluk-1,-1,-1):\n",
    "    ters+=isim[i]\n",
    "print(ters)\n",
    "#Yöntem 2\n",
    "c=0\n",
    "cumle=input(\"cumle: \")\n",
    "for i in cumle:\n",
    "    c+=1\n",
    "for i in range(c-1,-1,-1):\n",
    "    print(cumle[i],end='')"
   ]
  },
  {
   "cell_type": "code",
   "execution_count": 19,
   "id": "f77b9158",
   "metadata": {},
   "outputs": [
    {
     "name": "stdout",
     "output_type": "stream",
     "text": [
      "Yazı yazınız: Çok komik lan\n",
      "Sesli Harf Sayısı:  4 Sessiz Harf Sayısı:  9\n"
     ]
    }
   ],
   "source": [
    "#Girilen cümledeki sesli ve sessiz harf sayısını bulun?\n",
    "n=str(input(\"Yazı yazınız: \"))\n",
    "sesli_harf='AEIİOÖUÜaeıioöuü'\n",
    "sesli_sayac=0\n",
    "sessiz_sayac=0\n",
    "for i in n:\n",
    "    if i in sesli_harf:\n",
    "        sesli_sayac+=1\n",
    "    else:\n",
    "        sessiz_sayac+=1\n",
    "print(\"Sesli Harf Sayısı: \", sesli_sayac, \"Sessiz Harf Sayısı: \",sessiz_sayac)"
   ]
  },
  {
   "cell_type": "code",
   "execution_count": 20,
   "id": "96b2b0fd",
   "metadata": {},
   "outputs": [
    {
     "name": "stdout",
     "output_type": "stream",
     "text": [
      "Yazı yazınız: Sen ne kadar zekisin\n",
      "Harf Adedi:  17\n"
     ]
    }
   ],
   "source": [
    "#Girilen cümledeki harflerin adetlerini ekrana yazın?\n",
    "n=str(input(\"Yazı yazınız: \"))\n",
    "bosluk_sayac=0\n",
    "rakam='123456789'\n",
    "rakam_sayac=0\n",
    "for i in n:\n",
    "    if i in rakam:\n",
    "        rakam_sayac+=1\n",
    "for a in n:\n",
    "    if a==\" \":\n",
    "        bosluk_sayac+=1\n",
    "print(\"Harf Adedi: \" , len(n)-bosluk_sayac-rakam_sayac)"
   ]
  },
  {
   "cell_type": "code",
   "execution_count": 21,
   "id": "889a249e",
   "metadata": {},
   "outputs": [
    {
     "name": "stdout",
     "output_type": "stream",
     "text": [
      "n: 5379\n",
      "945\n"
     ]
    }
   ],
   "source": [
    "# Girilen sayının basamak değerlerinin çarpımı tek haneye düşene kadar çarpmaya devam et ve çıkan çarpımları yazan program\n",
    "n= int(input('n: '))\n",
    "\n",
    "while n>9:\n",
    "    çarpım=1\n",
    "    while n>0:\n",
    "        sonHane= int(n%10)\n",
    "        çarpım=çarpım*sonHane\n",
    "        n=(n-sonHane)/10\n",
    "print(çarpım)\n",
    "n=çarpım\n"
   ]
  },
  {
   "cell_type": "code",
   "execution_count": 22,
   "id": "f4bc752c",
   "metadata": {},
   "outputs": [
    {
     "name": "stdout",
     "output_type": "stream",
     "text": [
      "n= 1001110\n",
      "78\n"
     ]
    }
   ],
   "source": [
    "#Girilen ikilik sayıyı onluk sayıya dönüştürünüz\n",
    "n= int(input('n= '))\n",
    "top=0\n",
    "basamak=0\n",
    "while n>0:\n",
    "    sonHane= int(n%10)\n",
    "    n=(n-sonHane)/10\n",
    "    top+= sonHane*(2**basamak)\n",
    "    basamak+=1\n",
    "print(top)"
   ]
  },
  {
   "cell_type": "code",
   "execution_count": 23,
   "id": "a621f3ac",
   "metadata": {},
   "outputs": [
    {
     "name": "stdout",
     "output_type": "stream",
     "text": [
      "0   20\n",
      "20   18.0\n",
      "56.0   16.2\n",
      "88.4   14.58\n",
      "117.56   13.122\n",
      "143.804   11.809800000000001\n",
      "167.4236   10.628820000000001\n",
      "188.68124   9.565938000000001\n",
      "207.813116   8.6093442\n",
      "225.0318044   7.748409780000001\n",
      "240.52862396   6.973568802000001\n",
      "254.475761564   6.276211921800001\n",
      "267.0281854076   5.64859072962\n",
      "278.32536686684   5.083731656658\n",
      "288.492830180156   4.5753584909922\n",
      "297.64354716214035   4.11782264189298\n",
      "305.8791924459263   3.706040377703682\n",
      "313.2912732013337   3.3354363399333136\n",
      "319.96214588120034   3.0018927059399823\n",
      "325.9659312930803   2.701703435345984\n",
      "331.3693381637723   2.4315330918113855\n",
      "336.23240434739506   2.188379782630247\n",
      "340.60916391265556   1.9695418043672224\n",
      "344.54824752139   1.7725876239305\n",
      "348.093422769251   1.5953288615374501\n",
      "351.28408049232587   1.435795975383705\n",
      "354.1556724430933   1.2922163778453346\n",
      "356.74010519878397   1.1629947400608012\n",
      "359.0660946789056   1.046695266054721\n",
      "361.159485211015   0.9420257394492489\n"
     ]
    }
   ],
   "source": [
    "#20 metre yükseklikten bırakılan topun her yükselişte öncekinin %10'u kadar az yükseldğini düşünelim.\n",
    "#1cm sıçryana kadar aldığı yolu hesaplayınız.\n",
    "h=20\n",
    "yol=0\n",
    "print(yol, ' ', h)\n",
    "yol=yol+h\n",
    "h=h*0.9\n",
    "print(yol, ' ', h)\n",
    "while h>1:\n",
    "    yol=yol+2*h\n",
    "    h=h*0.9\n",
    "    print(yol, ' ', h)"
   ]
  },
  {
   "cell_type": "code",
   "execution_count": 24,
   "id": "05c9f214",
   "metadata": {},
   "outputs": [
    {
     "name": "stdout",
     "output_type": "stream",
     "text": [
      "Bir Sayı Giriniz: 20\n",
      "Pronic Sayıdır:  20\n"
     ]
    }
   ],
   "source": [
    "#Girilen sayının Pronic (ardışık iki sayının çarpımına eşit) olup olmadığını bulunuz?\n",
    "n=int(input(\"Bir Sayı Giriniz: \"))\n",
    "a=0\n",
    "for i in range(1,n+1,1):\n",
    "    if (i*(i+1)==n):\n",
    "        a=1\n",
    "        break\n",
    "if a==1:\n",
    "    print(\"Pronic Sayıdır: \",n )\n",
    "else:\n",
    "    print(\"Pronic Sayı Değildir:\", n)    "
   ]
  },
  {
   "cell_type": "code",
   "execution_count": 26,
   "id": "926ae39b",
   "metadata": {},
   "outputs": [
    {
     "name": "stdout",
     "output_type": "stream",
     "text": [
      "N= 20\n",
      "HARSHARD       i:  1   Basamaklar Toplamı: 1\n",
      "HARSHARD       i:  2   Basamaklar Toplamı: 2\n",
      "HARSHARD       i:  3   Basamaklar Toplamı: 3\n",
      "HARSHARD       i:  4   Basamaklar Toplamı: 4\n",
      "HARSHARD       i:  5   Basamaklar Toplamı: 5\n",
      "HARSHARD       i:  6   Basamaklar Toplamı: 6\n",
      "HARSHARD       i:  7   Basamaklar Toplamı: 7\n",
      "HARSHARD       i:  8   Basamaklar Toplamı: 8\n",
      "HARSHARD       i:  9   Basamaklar Toplamı: 9\n",
      "HARSHARD       i:  10   Basamaklar Toplamı: 1\n",
      "HARSHARD Değil       i:  11    Basamaklar Toplamı: 2\n",
      "HARSHARD       i:  12   Basamaklar Toplamı: 3\n",
      "HARSHARD Değil       i:  13    Basamaklar Toplamı: 4\n",
      "HARSHARD Değil       i:  14    Basamaklar Toplamı: 5\n",
      "HARSHARD Değil       i:  15    Basamaklar Toplamı: 6\n",
      "HARSHARD Değil       i:  16    Basamaklar Toplamı: 7\n",
      "HARSHARD Değil       i:  17    Basamaklar Toplamı: 8\n",
      "HARSHARD       i:  18   Basamaklar Toplamı: 9\n",
      "HARSHARD Değil       i:  19    Basamaklar Toplamı: 10\n",
      "HARSHARD       i:  20   Basamaklar Toplamı: 2\n",
      "Sayı Giriniz: 20\n",
      "Hashard\n"
     ]
    }
   ],
   "source": [
    "# N'e kadar ki Harshad(sayının kendisi rakamlar toplamına bölünüyor) olanları listele\n",
    "N=int(input('N= '))\n",
    "for i in range(1,N+1,1):\n",
    "    basamaklarToplamı=0\n",
    "    k=i\n",
    "    while k>0:\n",
    "        sonBasamak=k%10\n",
    "        basamaklarToplamı += sonBasamak\n",
    "        k= (k-sonBasamak)/10\n",
    "    if(i%basamaklarToplamı==0):\n",
    "        print('HARSHARD       i: ', i,'  Basamaklar Toplamı:', int(basamaklarToplamı))\n",
    "    else:\n",
    "        print('HARSHARD Değil       i: ', i,'   Basamaklar Toplamı:', int(basamaklarToplamı))\n",
    "#Yöntem 2\n",
    "top=0\n",
    "n=int(input(\"Sayı Giriniz: \"))\n",
    "while n>0:\n",
    "    kalan=n%10\n",
    "    top+=kalan\n",
    "    n=n//10\n",
    "if n%top==0:\n",
    "    print(\"Hashard\")\n",
    "else:\n",
    "    print(\"Hashard Değil\")\n",
    "#neden çalışmıyor bulamadım"
   ]
  },
  {
   "cell_type": "code",
   "execution_count": 27,
   "id": "0ac70fa4",
   "metadata": {},
   "outputs": [
    {
     "name": "stdout",
     "output_type": "stream",
     "text": [
      "n= 42\n",
      "Jumbled Sayıdır\n"
     ]
    }
   ],
   "source": [
    "#Girilen sayının Jumbled (komşu rakamlar arasındaki fark maksimum 1) olup olmadığını bulunuz?\n",
    "J=0\n",
    "K=1\n",
    "n=int(input(\"n= \"))\n",
    "while n>0:\n",
    "    basamak=n%10\n",
    "    n=n//10\n",
    "    if K>1:\n",
    "        if(ybasamak-basamak)>1:\n",
    "            J=1\n",
    "            break\n",
    "    else:\n",
    "        K+=1\n",
    "    ybasamak=basamak\n",
    "if J==1:\n",
    "    print(\"Jumbled Sayı Değildir\")\n",
    "else:\n",
    "    print(\"Jumbled Sayıdır\")"
   ]
  },
  {
   "cell_type": "code",
   "execution_count": 28,
   "id": "aab280f1",
   "metadata": {},
   "outputs": [
    {
     "name": "stdout",
     "output_type": "stream",
     "text": [
      "Birinci Sayıyı Giriniz : 5\n",
      "İkinci Sayıyı Giriniz : 6\n",
      "EBOB: 1\n",
      "EKOK: 30\n"
     ]
    }
   ],
   "source": [
    "#Girilen iki sayının OKEK (ortak katların en küçüğü) hesaplayan program?\n",
    "birinciSayi = int(input(\"Birinci Sayıyı Giriniz : \"))\n",
    "ikinciSayi = int(input(\"İkinci Sayıyı Giriniz : \"))\n",
    " \n",
    "if (birinciSayi > ikinciSayi):\n",
    "    kucuksayi = ikinciSayi\n",
    "else:\n",
    "    kucuksayi = birinciSayi\n",
    "for i in range(1,kucuksayi+1):\n",
    "    if (birinciSayi % i==0) and (ikinciSayi%i ==0):\n",
    "        ebob = i\n",
    "        ekok = (birinciSayi*ikinciSayi)//ebob\n",
    "        \n",
    "print (\"EBOB:\", ebob)\n",
    "print (\"EKOK:\", ekok)"
   ]
  },
  {
   "cell_type": "code",
   "execution_count": 29,
   "id": "214d38c9",
   "metadata": {},
   "outputs": [
    {
     "name": "stdout",
     "output_type": "stream",
     "text": [
      "a= 18\n",
      "b= 24\n",
      "Obeb:  6\n"
     ]
    }
   ],
   "source": [
    "#Girilen iki sayının OBEB (ortak bölenlerin en büyüğü) hesaplayan program?\n",
    "a=int(input('a= '))\n",
    "b=int(input('b= '))\n",
    "for i in range(1,a+1,1):\n",
    "    if (a%i==0) and (b%i==0):\n",
    "        obeb=i\n",
    "print('Obeb: ', obeb)"
   ]
  },
  {
   "cell_type": "code",
   "execution_count": 30,
   "id": "08da3b35",
   "metadata": {},
   "outputs": [
    {
     "name": "stdout",
     "output_type": "stream",
     "text": [
      "1 ile 100 arasında değer girin (0 Çıkış):60\n",
      "Daha Düşük Bir Sayı Girin.\n",
      "1 ile 100 arasında değer girin (0 Çıkış):50\n",
      "Daha Düşük Bir Sayı Girin.\n",
      "1 ile 100 arasında değer girin (0 Çıkış):30\n",
      "Daha Düşük Bir Sayı Girin.\n",
      "1 ile 100 arasında değer girin (0 Çıkış):10\n",
      "Daha Yüksek Bir Sayı Girin.\n",
      "1 ile 100 arasında değer girin (0 Çıkış):15\n",
      "Daha Yüksek Bir Sayı Girin.\n",
      "1 ile 100 arasında değer girin (0 Çıkış):20\n",
      "Daha Düşük Bir Sayı Girin.\n",
      "1 ile 100 arasında değer girin (0 Çıkış):19\n",
      "Rastele seçilen sayı 19!\n",
      "Tahmin sayınız 7\n",
      "1 ile 100 arasında değer girin (0 Çıkış):0\n",
      "Oyunu İptal Ettiniz\n"
     ]
    }
   ],
   "source": [
    "#Sayı tahmin oyunu\n",
    "from random import randint \n",
    "rand=randint(1, 100)\n",
    "sayac=0\n",
    "while True:\n",
    "    sayac+=1\n",
    "    sayi=int(input(\"1 ile 100 arasında değer girin (0 Çıkış):\"))\n",
    "    if(sayi==0):\n",
    "        print(\"Oyunu İptal Ettiniz\")\n",
    "        break\n",
    "    elif sayi < rand:\n",
    "        print(\"Daha Yüksek Bir Sayı Girin.\")\n",
    "        continue\n",
    "    elif sayi > rand:\n",
    "        print(\"Daha Düşük Bir Sayı Girin.\")\n",
    "        continue\n",
    "    else:\n",
    "        print(\"Rastele seçilen sayı {0}!\".format(rand))\n",
    "        print(\"Tahmin sayınız {0}\".format(sayac))"
   ]
  },
  {
   "cell_type": "code",
   "execution_count": 4,
   "id": "bf2bf7cc",
   "metadata": {},
   "outputs": [
    {
     "name": "stdout",
     "output_type": "stream",
     "text": [
      "ğ\n"
     ]
    },
    {
     "name": "stdin",
     "output_type": "stream",
     "text": [
      "Küçük Harf Giriniz: a\n"
     ]
    },
    {
     "name": "stdout",
     "output_type": "stream",
     "text": [
      "Tekrar Deneyin\n"
     ]
    },
    {
     "name": "stdin",
     "output_type": "stream",
     "text": [
      "Küçük Harf Giriniz: s\n"
     ]
    },
    {
     "name": "stdout",
     "output_type": "stream",
     "text": [
      "Tekrar Deneyin\n"
     ]
    },
    {
     "name": "stdin",
     "output_type": "stream",
     "text": [
      "Küçük Harf Giriniz: ğ\n"
     ]
    },
    {
     "name": "stdout",
     "output_type": "stream",
     "text": [
      "Tebrikler!!!   Sayaç: 3\n"
     ]
    }
   ],
   "source": [
    "#Harf tahmin oyunu\n",
    "import random\n",
    "harf=[\"a\",\"b\",\"c\",\"ç\",\"d\",\"e\",\"f\",\"g\",\"ğ\",\"h\",\"i\",\"ı\",\"j\",\"k\",\"l\",\"m\",\"n\",\"o\",\"ö\",\"p\",\"r\",\"s\",\"ş\",\"t\",\"u\",\"ü\",\"v\",\"y\",\"z\"]\n",
    "b=random.choice(harf)\n",
    "sayaç=1\n",
    "while 1:\n",
    "    a=str(input(\"Küçük Harf Giriniz:\"))\n",
    "    if a!=b:\n",
    "        sayaç+=1\n",
    "        print(\"Tekrar Deneyin\")\n",
    "    else:\n",
    "        print(\"Tebrikler!!!   Sayaç:\",sayaç)\n",
    "        break"
   ]
  },
  {
   "cell_type": "code",
   "execution_count": 31,
   "id": "b2aadffd",
   "metadata": {},
   "outputs": [
    {
     "name": "stdout",
     "output_type": "stream",
     "text": [
      "Topun bırakılacağı yüksekliği giriniz: 20\n",
      "Aldığı Toplam Yol:  191.203906977792\n",
      "Sıçrama Sayısı:  14\n"
     ]
    }
   ],
   "source": [
    "#Bir top X metre yükseklikten bırakılıyor. Her sıçrayışta  önceki yüksekliğini %20 kaybediyor.\n",
    "#1 metreden daha az olana kadar aldığı toplam yolu ve sıçrama sayısını hesaplayınız?\n",
    "h=int(input(\"Topun bırakılacağı yüksekliği giriniz: \"))\n",
    "yol=0\n",
    "sıçramasayısı=0\n",
    "while h>1:\n",
    "    yol=yol+2*h\n",
    "    h=h*0.8\n",
    "    sıçramasayısı+=1\n",
    "print(\"Aldığı Toplam Yol: \", yol)\n",
    "print(\"Sıçrama Sayısı: \", sıçramasayısı)"
   ]
  },
  {
   "cell_type": "code",
   "execution_count": 32,
   "id": "2b035456",
   "metadata": {},
   "outputs": [
    {
     "name": "stdout",
     "output_type": "stream",
     "text": [
      "a= 5\n",
      "b= 5\n",
      "c= 5\n",
      "Eşkenar\n",
      "Alan:  74.11588266019639 Çevre:  15\n"
     ]
    }
   ],
   "source": [
    "#Klavyeden 3 adet kenar uzunluğu giriliyor. Girilen kenar uzunlukları göz önüne alındığında üçgenin çizilip çizilmeyeceği\n",
    "# çizilebilir ise türünü(ikiz kenar, çeşit kenar, eşit kenar), alanını ve çevresini hesaplayan program\n",
    "a=int(input('a= '))\n",
    "b=int(input('b= '))\n",
    "c=int(input('c= '))\n",
    "if((a<b+c) and (abs(b-c)<a)):\n",
    "    if (a==b) and (b==c):\n",
    "        print('Eşkenar')\n",
    "    else:\n",
    "        if (a==b) or (b==c) or (a==c):\n",
    "            print('İkiz Kenar')\n",
    "        else:\n",
    "            print('Çeşit Kenar')\n",
    "    çevre= a+b+c\n",
    "    u=çevre/2\n",
    "    alan=(u*(u-a)*(u-b)*(u-c)**(1/2))\n",
    "    print('Alan: ', alan, 'Çevre: ', çevre)\n",
    "else:\n",
    "    print('Üçgen Çizilemez')"
   ]
  }
 ],
 "metadata": {
  "kernelspec": {
   "display_name": "Python 3",
   "language": "python",
   "name": "python3"
  },
  "language_info": {
   "codemirror_mode": {
    "name": "ipython",
    "version": 3
   },
   "file_extension": ".py",
   "mimetype": "text/x-python",
   "name": "python",
   "nbconvert_exporter": "python",
   "pygments_lexer": "ipython3",
   "version": "3.8.8"
  },
  "vscode": {
   "interpreter": {
    "hash": "3ad933181bd8a04b432d3370b9dc3b0662ad032c4dfaa4e4f1596c548f763858"
   }
  }
 },
 "nbformat": 4,
 "nbformat_minor": 5
}
