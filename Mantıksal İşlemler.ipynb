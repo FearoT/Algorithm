{
 "cells": [
  {
   "cell_type": "code",
   "execution_count": 1,
   "id": "c3822e3e",
   "metadata": {},
   "outputs": [
    {
     "name": "stdout",
     "output_type": "stream",
     "text": [
      "Değişken değeri 100 değildir\n"
     ]
    }
   ],
   "source": [
    "#Mantıksal işlem komutu (if) (else)\n",
    "var=110\n",
    "if(var==100):\n",
    "    print('Değişken değeri 100 dür')\n",
    "else:\n",
    "    print('Değişken değeri 100 değildir')"
   ]
  },
  {
   "cell_type": "code",
   "execution_count": 2,
   "id": "54969465",
   "metadata": {},
   "outputs": [
    {
     "name": "stdout",
     "output_type": "stream",
     "text": [
      "Değişken değeri 100 dür\n",
      "Görüşürüz\n"
     ]
    }
   ],
   "source": [
    "var=100\n",
    "if(var==100):\n",
    "    print('Değişken değeri 100 dür')\n",
    "print('Görüşürüz')"
   ]
  },
  {
   "cell_type": "code",
   "execution_count": 3,
   "id": "0c9d711e",
   "metadata": {},
   "outputs": [
    {
     "name": "stdout",
     "output_type": "stream",
     "text": [
      "True\n"
     ]
    }
   ],
   "source": [
    "x=5\n",
    "y= [10, 5, 12, 'abc']\n",
    "sonuc= x in y\n",
    "print(sonuc)"
   ]
  },
  {
   "cell_type": "code",
   "execution_count": 4,
   "id": "e59261bb",
   "metadata": {},
   "outputs": [
    {
     "name": "stdout",
     "output_type": "stream",
     "text": [
      "False\n"
     ]
    }
   ],
   "source": [
    "x=0\n",
    "y= [10, 5, 12, 'abc']\n",
    "sonuc= x in y\n",
    "print(sonuc)\n"
   ]
  },
  {
   "cell_type": "code",
   "execution_count": 5,
   "id": "a6886bae",
   "metadata": {},
   "outputs": [
    {
     "name": "stdout",
     "output_type": "stream",
     "text": [
      "False\n"
     ]
    }
   ],
   "source": [
    "x=5\n",
    "y=6\n",
    "sonuc= x is y\n",
    "print(sonuc)"
   ]
  },
  {
   "cell_type": "code",
   "execution_count": 6,
   "id": "0ab25fd0",
   "metadata": {},
   "outputs": [
    {
     "name": "stdout",
     "output_type": "stream",
     "text": [
      "True\n"
     ]
    }
   ],
   "source": [
    "x=6\n",
    "y=6\n",
    "sonuc= x is y\n",
    "print(sonuc)"
   ]
  },
  {
   "cell_type": "markdown",
   "id": "c956c571",
   "metadata": {},
   "source": [
    "# Mantıksal İşlemlerin Problemleri"
   ]
  },
  {
   "cell_type": "code",
   "execution_count": 7,
   "id": "2e0e25bb",
   "metadata": {},
   "outputs": [
    {
     "name": "stdout",
     "output_type": "stream",
     "text": [
      "Bir Sayı Giriniz= 5\n",
      "Pozitif\n"
     ]
    }
   ],
   "source": [
    "#Girilen sayının pozitif yada negatif olduğunu ekrana yazınız\n",
    "sayı= int(input('Bir Sayı Giriniz= '))\n",
    "if sayı>0:\n",
    "    print('Pozitif')\n",
    "else:\n",
    "    if sayı<0:\n",
    "        print('Negatif')\n",
    "    else:\n",
    "        print('Sıfır')"
   ]
  },
  {
   "cell_type": "code",
   "execution_count": 8,
   "id": "70fefe2c",
   "metadata": {},
   "outputs": [
    {
     "name": "stdout",
     "output_type": "stream",
     "text": [
      "Vize Notunu Giriniz= 50\n",
      "Final Notunu Giriniz= 80\n",
      "Not=  68.0 Geçti\n"
     ]
    }
   ],
   "source": [
    "# Vize ve Final notu girilen öğrencinin geçip geçmediğini hesaplayan program(vize %40 final %60 final en az 60 olmak zorunda)\n",
    "vize = int(input('Vize Notunu Giriniz= '))\n",
    "final = int(input('Final Notunu Giriniz= '))\n",
    "if final>=60:\n",
    "    Not=vize*0.4 + final*0.6\n",
    "else:\n",
    "    Not=vize*0.4\n",
    "if Not>=60:\n",
    "    print('Not= ', Not, 'Geçti')\n",
    "else:\n",
    "    print('Not= ', Not, 'Kaldı')"
   ]
  },
  {
   "cell_type": "code",
   "execution_count": 9,
   "id": "6dfd0605",
   "metadata": {},
   "outputs": [
    {
     "name": "stdout",
     "output_type": "stream",
     "text": [
      "Bir Sayı Giriniz: 4\n",
      "Bir Sayı Giriniz: 4\n",
      "Bir Sayı Giriniz: 4\n",
      "Eşit Sayı Seçtiniz:  4\n"
     ]
    }
   ],
   "source": [
    "#Kullanıcının girdiği üç sayıdan büyük olanını yazdıran program?\n",
    "a=int(input(\"Bir Sayı Giriniz: \"))\n",
    "b=int(input(\"Bir Sayı Giriniz: \"))\n",
    "c=int(input(\"Bir Sayı Giriniz: \"))\n",
    "if a>b and a>c:\n",
    "    print(\"En büyük Sayı: \", a)\n",
    "if b>a and b>c:\n",
    "    print(\"En büyük sayı: \", b)\n",
    "if c>a and c>b:\n",
    "    print(\"En büyük sayı: \", c)\n",
    "else:\n",
    "    print(\"Eşit Sayı Seçtiniz: \", a)"
   ]
  },
  {
   "cell_type": "code",
   "execution_count": 1,
   "id": "9a409f60",
   "metadata": {},
   "outputs": [
    {
     "name": "stdout",
     "output_type": "stream",
     "text": [
      "Bİr Sayı Giriniz= 56\n",
      "Sayı 6'nın katı değildir.\n"
     ]
    }
   ],
   "source": [
    "# Girilen sayının 6'nın katı olduğunu bulan program\n",
    "sayı= int(input('Bİr Sayı Giriniz= '))\n",
    "kalan = sayı%6\n",
    "if kalan==0:\n",
    "    print(\"Sayı 6'nın katıdır.\")\n",
    "else:\n",
    "    print(\"Sayı 6'nın katı değildir.\")"
   ]
  },
  {
   "cell_type": "code",
   "execution_count": 11,
   "id": "2d96f693",
   "metadata": {},
   "outputs": [
    {
     "name": "stdout",
     "output_type": "stream",
     "text": [
      "Notu Giriniz: -5\n",
      "Yanlış Sayı Girdiniz!!!\n"
     ]
    }
   ],
   "source": [
    "#Yüzlük notu harf notuna çeviriniz?\n",
    "notu=int(input(\"Notu Giriniz: \"))\n",
    "if notu>=90 and notu<=100:\n",
    "    print(\"Harf Notu: AA\")\n",
    "elif notu>=85 and notu<=89:\n",
    "    print(\"Harf Notu: BA\")\n",
    "elif notu>=80 and notu<=84:\n",
    "    print(\"Harf Notu: BB\")\n",
    "elif notu>=75 and notu<=79:\n",
    "    print(\"Harf Notu: CB\")\n",
    "elif notu>=70 and notu<=74:\n",
    "    print(\"Harf Notu: CC\")\n",
    "elif notu>=65 and notu<=69:\n",
    "    print(\"Harf Notu: DC\")\n",
    "elif notu>=60 and notu<=64:\n",
    "    print(\"Harf Notu: DD\")\n",
    "elif notu>=50 and notu<=59:\n",
    "    print(\"Harf Notu: FD\")\n",
    "elif notu>=0 and notu<=49:\n",
    "    print(\"Harf Notu: FF\")\n",
    "else:\n",
    "    notu<0 and notu>100\n",
    "    print(\"Yanlış Sayı Girdiniz!!!\")\n",
    "\n",
    "    "
   ]
  },
  {
   "cell_type": "code",
   "execution_count": 3,
   "id": "32afd87b",
   "metadata": {},
   "outputs": [
    {
     "name": "stdout",
     "output_type": "stream",
     "text": [
      "İşcinin Maaşını Giriniz= 5\n",
      "Çocuk Sayısını Giriniz= 1\n",
      "İşcinin Yeni Maaşı 5.25\n"
     ]
    }
   ],
   "source": [
    "# İşci maaşı ve çocuk sayısı verilmektedir. Çocuk sayısı bir ise %5 iki ise %10 üç veya daha fazla ise %15 zam yaparak yeni\n",
    "# maaşı hesaplayınız.\n",
    "İşcininEskiMaaşı = int(input('İşcinin Maaşını Giriniz= '))\n",
    "ÇocukSayısı= int(input('Çocuk Sayısını Giriniz= '))\n",
    "if (ÇocukSayısı ==1):\n",
    "    İşcininYeniMaaşı= İşcininEskiMaaşı*1.05\n",
    "else:\n",
    "    if (ÇocukSayısı ==2):\n",
    "        İşcininYeniMaaşı= İşcininEskiMaaşı*1.10\n",
    "    if (ÇocukSayısı==0):\n",
    "        İşcininYeniMaaşı= İşcininEskiMaaşı\n",
    "    else:\n",
    "        İşcininYeniMaaşı= İşcininEskiMaaşı*1.15\n",
    "print('İşcinin Yeni Maaşı', İşcininYeniMaaşı)"
   ]
  },
  {
   "cell_type": "code",
   "execution_count": 4,
   "id": "c127cd19",
   "metadata": {},
   "outputs": [
    {
     "name": "stdout",
     "output_type": "stream",
     "text": [
      "1:Toplama\n",
      "2:Çıkarma\n",
      "3:Çarpma\n",
      "4:Bölme\n",
      "İşlem Seçiniz1\n",
      "Bir Değer Giriniz: 2\n",
      "Bir Değer Daha Giriniz: 4\n",
      "Toplama Sonucu:  6.0\n"
     ]
    }
   ],
   "source": [
    "# Ekrana 1:Toplama, 2:Çıkarma, yaz sonra kullanıcıdan iki sayı alıp işlemi seçerek sonucu ekrana yazdıran program\n",
    "print('1:Toplama\\n2:Çıkarma\\n3:Çarpma\\n4:Bölme')\n",
    "a= int(input('İşlem Seçiniz'))\n",
    "c= float(input('Bir Değer Giriniz: '))\n",
    "d= float(input('Bir Değer Daha Giriniz: '))\n",
    "if (a==1):\n",
    "    print('Toplama Sonucu: ', c+d)\n",
    "elif (a==2) :\n",
    "    print('Çıkartma Sonucu: ', c-d)\n",
    "elif (a==3) :\n",
    "    print('Çarpma Sonucu: ', c*d)\n",
    "elif (a==4):\n",
    "    print('Bölme Sonucu: ', c/d)\n",
    "else:\n",
    "    print('Hatalı Seçim')"
   ]
  },
  {
   "cell_type": "code",
   "execution_count": 1,
   "id": "bed49a92",
   "metadata": {},
   "outputs": [
    {
     "name": "stdout",
     "output_type": "stream",
     "text": [
      "a= 3\n",
      "b= 5\n",
      "c= 4\n",
      "cx= 1\n",
      "cy= 3\n",
      "r= 5\n",
      "Çizgi kesiyor\n"
     ]
    }
   ],
   "source": [
    "#Çizgi daireyi kesiyor mu, yoksa teğet mi sonucunu bulan program?  Çizgi: ax+by+c=0 Daire: (x,y,r)\n",
    "a=int(input(\"a= \"))\n",
    "b=int(input(\"b= \"))\n",
    "c=int(input(\"c= \"))\n",
    "cx=int(input(\"cx= \"))\n",
    "cy=int(input(\"cy= \"))\n",
    "r=int(input(\"r= \"))\n",
    "d=abs(a*c+b*cy+c)/(a**2+b**2)**0.5\n",
    "if d>r:\n",
    "    print(\"Çizgi kesiyor\")\n",
    "else:\n",
    "    if d==r:\n",
    "        print(\"Teğet\")\n",
    "    else:\n",
    "        print(\"Keser\")"
   ]
  },
  {
   "cell_type": "code",
   "execution_count": 6,
   "id": "15d24bca",
   "metadata": {},
   "outputs": [
    {
     "name": "stdin",
     "output_type": "stream",
     "text": [
      "Ax:  9\n",
      "Ay:  8\n",
      "Bx:  10\n",
      "By:  23\n",
      "Cx:  50\n",
      "Cy:  35\n",
      "Px:  65\n",
      "Py:  10\n"
     ]
    },
    {
     "name": "stdout",
     "output_type": "stream",
     "text": [
      "Nokta üçgenin dışında\n"
     ]
    }
   ],
   "source": [
    "#A(x1,y2), B(x2,y2), C(x3,y3) üçgene ait üç nokta olduğuna göre P(xp,yp) üçgenin içinde mi dışında mı bulan program?\n",
    "Ax=int(input(\"Ax: \"))\n",
    "Ay=int(input(\"Ay: \"))\n",
    "Bx=int(input(\"Bx: \"))\n",
    "By=int(input(\"By: \"))\n",
    "Cx=int(input(\"Cx: \"))\n",
    "Cy=int(input(\"Cy: \"))\n",
    "Px=int(input(\"Px: \"))\n",
    "Py=int(input(\"Py: \"))\n",
    "bx=Bx-Ax\n",
    "by=By-Ay\n",
    "cx=Cx-Ax\n",
    "cy=Cy-Ay\n",
    "x=Px-Ax\n",
    "y=Py-Ay\n",
    "d=bx*cy-cx*by\n",
    "wA=x*(by*cy)+y*(cx*bx)+(bx*cy)-(cx*by)/d\n",
    "wB=(x*cy-y*cx)/d\n",
    "wC=(y*bx-x*by)/d\n",
    "if 0<wA<1 and 0<wB<1 and 0<wC<1:\n",
    "    print(\"Nokta üçgenin içinde\")\n",
    "else:\n",
    "    print(\"Nokta üçgenin dışında\")"
   ]
  }
 ],
 "metadata": {
  "kernelspec": {
   "display_name": "Python 3",
   "language": "python",
   "name": "python3"
  },
  "language_info": {
   "codemirror_mode": {
    "name": "ipython",
    "version": 3
   },
   "file_extension": ".py",
   "mimetype": "text/x-python",
   "name": "python",
   "nbconvert_exporter": "python",
   "pygments_lexer": "ipython3",
   "version": "3.8.8"
  },
  "vscode": {
   "interpreter": {
    "hash": "3ad933181bd8a04b432d3370b9dc3b0662ad032c4dfaa4e4f1596c548f763858"
   }
  }
 },
 "nbformat": 4,
 "nbformat_minor": 5
}
