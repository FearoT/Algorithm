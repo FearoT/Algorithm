{
 "cells": [
  {
   "cell_type": "code",
   "execution_count": 1,
   "id": "588553b6-e6cc-4c22-abb0-f1cbf81711e0",
   "metadata": {},
   "outputs": [
    {
     "name": "stdout",
     "output_type": "stream",
     "text": [
      "Programlamada uzmanlaşmak isteyen bir kişinin çok sayida soru çözmesi gerekir Bu aşamayi sadece sebatkâr öğrenciler geçer İkinci problem sorunun anlaşilmasidir Dikkatini verenler bu aşamayi rahatlikla geçer Üçüncü aşamada anlaşilan sorunun çözüm basamaklarinin ortaya çikarilmasidir Bir kâğit ve bir kalem bu güçlüğü aşmak için yeterlidir Belirlenen çözüm basamaklarinin kod bloklarina dönüşümü en kolay aşama olarak görülür\n"
     ]
    }
   ],
   "source": [
    "s=\"Programlamada uzmanlaşmak isteyen bir kişinin çok sayida soru çözmesi gerekir! Bu aşamayi sadece sebatkâr öğrenciler geçer? İkinci problem sorunun anlaşilmasidir, Dikkatini verenler bu aşamayi rahatlikla geçer. Üçüncü aşamada anlaşilan sorunun çözüm basamaklarinin ortaya çikarilmasidir. Bir kâğit ve bir kalem bu güçlüğü aşmak için yeterlidir; Belirlenen çözüm basamaklarinin kod bloklarina dönüşümü en kolay aşama olarak görülür.\"\n",
    "ys=\"\"\n",
    "noktalama=['!','.',',','?',';']\n",
    "for i in range(len(s)-1):\n",
    "    if not(s[i] in noktalama):\n",
    "        ys+=s[i]\n",
    "print(ys)"
   ]
  },
  {
   "cell_type": "code",
   "execution_count": 11,
   "id": "1f2e655e-e7c8-41e8-825e-dbe7509fcb2f",
   "metadata": {},
   "outputs": [
    {
     "name": "stdout",
     "output_type": "stream",
     "text": [
      "['Programlamada', 'uzmanlaşmak', 'isteyen', 'bir', 'kişinin', 'çok', 'sayida', 'soru', 'çözmesi', 'gerekir', 'Bu', 'aşamayi', 'sadece', 'sebatkâr', 'öğrenciler', 'geçer', 'İkinci', 'problem', 'sorunun', 'anlaşilmasidir', 'Dikkatini', 'verenler', 'bu', 'aşamayi', 'rahatlikla', 'geçer', 'Üçüncü', 'aşamada', 'anlaşilan', 'sorunun', 'çözüm', 'basamaklarinin', 'ortaya', 'çikarilmasidir', 'Bir', 'kâğit', 've', 'bir', 'kalem', 'bu', 'güçlüğü', 'aşmak', 'için', 'yeterlidir', 'Belirlenen', 'çözüm', 'basamaklarinin', 'kod', 'bloklarina', 'dönüşümü', 'en', 'kolay', 'aşama', 'olarak', 'görülür ']\n"
     ]
    }
   ],
   "source": [
    "ys+=\" \"\n",
    "kelimeliste=[]\n",
    "info=[-1]\n",
    "for i in range(len(ys)-1):\n",
    "    if ys[i]==\" \" and ys[i+1]!=\" \":\n",
    "        kelime=ys[info[-1]+1:i]\n",
    "        kelimeliste.append(kelime)\n",
    "        info.append(i)\n",
    "    elif ys[i]==\" \" and ys[i+1]==\" \":\n",
    "        kelime=ys[info[-1]+1:-1]\n",
    "        kelimeliste.append(kelime)\n",
    "        break\n",
    "print(kelimeliste)"
   ]
  },
  {
   "cell_type": "code",
   "execution_count": 19,
   "id": "cc7c542e-453e-4fe5-87fc-50523a06c74f",
   "metadata": {},
   "outputs": [
    {
     "name": "stdout",
     "output_type": "stream",
     "text": [
      "['Programlamada', 'uzmanlaşmak', 'isteyen', 'bir', 'kişinin', 'çok', 'sayida', 'soru', 'çözmesi', 'gerekir', 'Bu', 'aşamayi', 'sadece', 'sebatkâr', 'öğrenciler', 'geçer', 'İkinci', 'problem', 'sorunun', 'anlaşilmasidir', 'Dikkatini', 'verenler', 'bu', 'aşamayi', 'rahatlikla', 'geçer', 'Üçüncü', 'aşamada', 'anlaşilan', 'sorunun', 'çözüm', 'basamaklarinin', 'ortaya', 'çikarilmasidir', 'Bir', 'kâğit', 've', 'bir', 'kalem', 'bu', 'güçlüğü', 'aşmak', 'için', 'yeterlidir', 'Belirlenen', 'çözüm', 'basamaklarinin', 'kod', 'bloklarina', 'dönüşümü', 'en', 'kolay', 'aşama', 'olarak']\n"
     ]
    }
   ],
   "source": [
    "kelimeliste=[]\n",
    "info=[-1]\n",
    "for i in range(len(ys)-1):\n",
    "    if ys[i]==\" \" and ys[i+1]!=\" \":\n",
    "        kelime=ys[info[-1]+1:i]\n",
    "        kelimeliste.append(kelime)\n",
    "        info.append(i)\n",
    "print(kelimeliste)"
   ]
  },
  {
   "cell_type": "code",
   "execution_count": 21,
   "id": "9860edf5-a3df-43e8-95ba-cc9aa3d846ef",
   "metadata": {},
   "outputs": [
    {
     "name": "stdout",
     "output_type": "stream",
     "text": [
      "[1336, 1424, 769, 317, 993, 449, 635, 457, 1029, 745, 183, 977, 613, 974, 1385, 650, 830, 753, 794, 1721, 920, 867, 215, 977, 1053, 650, 1164, 948, 1183, 794, 960, 1469, 656, 1612, 285, 841, 219, 317, 522, 215, 1485, 761, 551, 1085, 1024, 960, 1469, 318, 1055, 1672, 211, 544, 751, 634]\n"
     ]
    }
   ],
   "source": [
    "def dönüştür(str):\n",
    "    toplam=0\n",
    "    for i in str:\n",
    "        toplam+=ord(i)\n",
    "    return toplam\n",
    "asciiListe=[]\n",
    "for i in range(len(kelimeliste)):\n",
    "    asciiListe.append(dönüştür(kelimeliste[i]))\n",
    "print(asciiListe)"
   ]
  },
  {
   "cell_type": "code",
   "execution_count": 22,
   "id": "5cbd8a8a-b7e3-40d3-88a3-65bce0f05bcc",
   "metadata": {},
   "outputs": [
    {
     "name": "stdout",
     "output_type": "stream",
     "text": [
      "[3, 1, 2, 3, 3, 1, 2, 2, 2, 2, 2, 3, 2, 2, 3, 1, 1, 3, 2, 3, 1, 1, 2, 3, 3, 1, 2, 1, 3, 2, 1, 2, 1, 2, 1, 1, 2, 3, 1, 2, 2, 2, 3, 2, 1, 1, 2, 2, 3, 2, 2, 1, 3, 1]\n"
     ]
    }
   ],
   "source": [
    "def kaçteksayıvar(Sayi,TekSayiAdet):\n",
    "    sondeğer=Sayi%10\n",
    "    if sondeğer%2==1:\n",
    "        TekSayiAdet+=1\n",
    "    if Sayi<10:\n",
    "        return TekSayiAdet\n",
    "    else:\n",
    "        return kaçteksayıvar(Sayi//10,TekSayiAdet)\n",
    "TekSayiListe=[]\n",
    "for i in range(len(asciiListe)):\n",
    "    TekSayiListe.append(kaçteksayıvar(asciiListe[i],0))\n",
    "print(TekSayiListe)"
   ]
  }
 ],
 "metadata": {
  "kernelspec": {
   "display_name": "Python 3",
   "language": "python",
   "name": "python3"
  },
  "language_info": {
   "codemirror_mode": {
    "name": "ipython",
    "version": 3
   },
   "file_extension": ".py",
   "mimetype": "text/x-python",
   "name": "python",
   "nbconvert_exporter": "python",
   "pygments_lexer": "ipython3",
   "version": "3.8.8"
  }
 },
 "nbformat": 4,
 "nbformat_minor": 5
}
