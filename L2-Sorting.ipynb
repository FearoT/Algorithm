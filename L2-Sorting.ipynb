{
 "cells": [
  {
   "cell_type": "code",
   "execution_count": 2,
   "id": "3f7b28d4-baa9-4960-9496-59fd677af640",
   "metadata": {
    "tags": []
   },
   "outputs": [
    {
     "name": "stdout",
     "output_type": "stream",
     "text": [
      "[1, 1, 2, 3, 12, 12, 21, 51, 55, 65, 421, 32121, 512512]\n"
     ]
    }
   ],
   "source": [
    "L=[2,3,1,55,12,21,32121,1,51,421,512512,65,12]\n",
    "for i in range(len(L)):\n",
    "    j=i\n",
    "    tmp=L[i]\n",
    "    while tmp<L[j-1] and j>0:\n",
    "        L[j]=L[j-1]\n",
    "        j-=1\n",
    "    L[j]=tmp    \n",
    "print(L)"
   ]
  },
  {
   "cell_type": "code",
   "execution_count": null,
   "id": "7a335a2f-c69c-4941-a900-c6ee6d3d4731",
   "metadata": {},
   "outputs": [],
   "source": [
    "#Ants on a circle\n"
   ]
  },
  {
   "cell_type": "code",
   "execution_count": null,
   "id": "1f49efd2-61d5-4cba-a16b-4014ef75e1bc",
   "metadata": {},
   "outputs": [],
   "source": [
    "#Monk being monitor\n",
    "T= int(input())\n",
    "for iT in range(T):\n",
    "    N= int(input())\n",
    "    L=list(map(int,input().split()))\n",
    "    L.sort()\n",
    "    L1=[],L2=[];\n",
    "    i=0;\n",
    "    while i<N:\n",
    "        L1.append(L[i])\n",
    "        L2.append(1);\n",
    "        j=i+1;\n",
    "        if i==0: h1=L2[0];h2=L2[0]\n",
    "        while j<N:\n",
    "            if L[i]==L[j]:\n",
    "                L2[len(L2)-1]+=1\n",
    "                j+=1\n",
    "            else:\n",
    "                break\n",
    "        ts=L2[len(L2)-1]\n",
    "        if ts>h1:\n",
    "            h1=ts\n",
    "        else:\n",
    "            if ts<h2:\n",
    "                h2=ts\n",
    "        i=j\n",
    "        \n",
    "    if h1-h2>0:\n",
    "        print(h1,h2)\n",
    "            \n",
    "    else:\n",
    "        print(-1)\n",
    "    \n",
    "    \n",
    "\n",
    "    K=[]\n",
    "    #txt= (input())\n",
    "    #L=txt.split()              üstteki kodun uzun hali L ile başlayan\n",
    "    #L=[int(i) for i in L]\n",
    "    for i in L:\n",
    "        ci=0\n",
    "        for j in L:\n",
    "            if i==j:\n",
    "                ci+=1\n",
    "        K.append(ci)\n",
    "    print(K)\n"
   ]
  },
  {
   "cell_type": "code",
   "execution_count": null,
   "id": "bb3f8cd4-f52b-4210-92ca-334d5c56da5a",
   "metadata": {},
   "outputs": [],
   "source": [
    "#Monk and Nice Strings\n",
    "def f(s1,s2):\n",
    "    L1=len(s1)\n",
    "    L2=len(s2)\n",
    "    if L1>L2: k=L2;\n",
    "    else: k=L1;                #str sıralama büyük küçük bulma\n",
    "    for i in range(k):\n",
    "        if ord(s1[i])>ord(s2[i]):\n",
    "            return \"büyük\"\n",
    "            break\n",
    "        else:\n",
    "            if ord(s1[i])<ord(s2[i]):\n",
    "                return \"küçük\"\n",
    "                break\n",
    "\n",
    "#Asıl kod                \n",
    "N=int(input())\n",
    "A=[]\n",
    "for i in range(N):\n",
    "    A.append(input())\n",
    "for i in range(N):\n",
    "    j=i\n",
    "    tmp=A[i]\n",
    "    while(j>0 and A[j-1]>=tmp):\n",
    "        A[j]=A[j-1]\n",
    "        j-=1\n",
    "    A[j]=tmp        \n",
    "    print(j)"
   ]
  },
  {
   "cell_type": "code",
   "execution_count": null,
   "id": "bf6393fb-2bc5-4a44-a3c3-5a0be7db02c1",
   "metadata": {},
   "outputs": [],
   "source": [
    "#Monk and Nice Strings çözüm2\n",
    "N=int(input())\n",
    "A=[]\n",
    "for i in range(N):\n",
    "    harfal=str(input(\"Harf Gir:\").lower())\n",
    "    A.append(harfal)\n",
    "    nice=0\n",
    "    for j in range(len(A)):\n",
    "        if ord(A[-1])>ord(A[j]):\n",
    "            nice+=1\n",
    "    print(nice)\n",
    "    j+1"
   ]
  },
  {
   "cell_type": "code",
   "execution_count": null,
   "id": "c24382bb-9735-4f61-a2ca-c6cde85cf241",
   "metadata": {},
   "outputs": [],
   "source": [
    "#Monk and Suffix Sort\n",
    "TXT= input().split()\n",
    "txt=TXT[0]\n",
    "k=int(TXT[1])\n",
    "arr=[]\n",
    "for i in range(len(txt)):\n",
    "    arr.append(txt[i:])  #sort algoritması\n",
    "print(arr)\n",
    "arr.sort()    \n",
    "print(arr[k-1])"
   ]
  },
  {
   "cell_type": "code",
   "execution_count": null,
   "id": "c5531bc9-6dfa-4745-836f-2392b75d21c2",
   "metadata": {},
   "outputs": [],
   "source": [
    "#Monk and Sorting Algorithm\n",
    "N=int(input())\n",
    "L=input().split()\n",
    "L=[int(i) for i in L]\n",
    "weight= L\n",
    "i=1\n",
    "while sum(weight)>0:\n",
    "    \n",
    "    start=5*i\n",
    "    stop=1+5*(i-1)\n",
    "\n",
    "\n",
    "print(L)\n",
    "#Eksik hoca çözmedi"
   ]
  }
 ],
 "metadata": {
  "kernelspec": {
   "display_name": "Python 3",
   "language": "python",
   "name": "python3"
  },
  "language_info": {
   "codemirror_mode": {
    "name": "ipython",
    "version": 3
   },
   "file_extension": ".py",
   "mimetype": "text/x-python",
   "name": "python",
   "nbconvert_exporter": "python",
   "pygments_lexer": "ipython3",
   "version": "3.8.8"
  }
 },
 "nbformat": 4,
 "nbformat_minor": 5
}
