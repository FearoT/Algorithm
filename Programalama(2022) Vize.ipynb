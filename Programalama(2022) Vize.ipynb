{
 "cells": [
  {
   "cell_type": "code",
   "execution_count": 2,
   "id": "de2d3ca5-7024-4030-bcf7-1348dc82aa1f",
   "metadata": {},
   "outputs": [
    {
     "name": "stdin",
     "output_type": "stream",
     "text": [
      "boy(cm)= 180\n",
      "kilo(kg)= 75\n"
     ]
    },
    {
     "name": "stdout",
     "output_type": "stream",
     "text": [
      "Vki=  23.14814814814815  Normal\n"
     ]
    }
   ],
   "source": [
    "boy=int(input(\"boy(cm)=\"))\n",
    "kilo=int(input(\"kilo(kg)=\"))\n",
    "vki=100*kilo/((boy/10)**2)\n",
    "if vki<18:\n",
    "    print(\"Vki= \",vki,\" zayıf\")\n",
    "elif vki<25:\n",
    "    print(\"Vki= \",vki, \" Normal\" )\n",
    "elif vki<30:\n",
    "    print(\"Vki= \",vki, \" Fazla\")\n",
    "else:\n",
    "    print(\"Vki= \",vki, \" Obez\")"
   ]
  },
  {
   "cell_type": "code",
   "execution_count": 3,
   "id": "99d1ab2e-f56a-4ec4-b090-4aa73282d4f3",
   "metadata": {},
   "outputs": [
    {
     "name": "stdin",
     "output_type": "stream",
     "text": [
      "sayi=  1543\n"
     ]
    },
    {
     "name": "stdout",
     "output_type": "stream",
     "text": [
      "3 * * *  \n",
      "4 * * * *  \n",
      "5 * * * * *  \n",
      "1 *  \n"
     ]
    }
   ],
   "source": [
    "sayi=int(input(\"sayi= \"))\n",
    "while sayi>0:\n",
    "    sonRakam=sayi%10\n",
    "    sayi=sayi//10\n",
    "    print(sonRakam, end=\" \")\n",
    "    for i in range(sonRakam):\n",
    "        print(\"*\",end=\" \")\n",
    "    print(\" \")"
   ]
  },
  {
   "cell_type": "code",
   "execution_count": 6,
   "id": "3e7e5052-3bd2-4176-b6f1-0558e2379108",
   "metadata": {},
   "outputs": [
    {
     "name": "stdin",
     "output_type": "stream",
     "text": [
      "a=  7\n",
      "a=  7\n",
      "a=  1\n",
      "a=  q\n"
     ]
    },
    {
     "name": "stdout",
     "output_type": "stream",
     "text": [
      "Liste=  [7, 7, 1] Sayı=  177 KareKökü=  13.30413469565007\n"
     ]
    }
   ],
   "source": [
    "liste=[]\n",
    "while 1:\n",
    "    a=input(\"a= \")\n",
    "    if a==\"q\":\n",
    "        break\n",
    "    liste.append(int(a))\n",
    "sayi=0\n",
    "for i in range(len(liste)):\n",
    "    sayi+=liste[i]*(10**i)\n",
    "print(\"Liste= \",liste,\"Sayı= \",sayi,\"KareKökü= \",sayi**0.5)"
   ]
  },
  {
   "cell_type": "code",
   "execution_count": 8,
   "id": "23c67519-0899-43c7-825c-d7f71ff2984d",
   "metadata": {},
   "outputs": [
    {
     "name": "stdin",
     "output_type": "stream",
     "text": [
      "n=  5\n",
      "taban=  2\n",
      "ust=  3\n",
      "taban=  2\n",
      "ust=  3\n",
      "taban=  4\n",
      "ust=  5\n",
      "taban=  6\n",
      "ust=  5\n",
      "taban=  7\n",
      "ust=  6\n"
     ]
    },
    {
     "name": "stdout",
     "output_type": "stream",
     "text": [
      "Sayı=  1024 İndeks=  2\n",
      "Sayı=  7776 İndeks=  3\n",
      "Sayı=  117649 İndeks=  4\n"
     ]
    }
   ],
   "source": [
    "n=int(input(\"n= \"))\n",
    "liste=[]\n",
    "for i in range(n):\n",
    "    taban=int(input(\"taban= \"))\n",
    "    ust=int(input(\"ust= \"))\n",
    "    liste.append(taban**ust)\n",
    "for i in range(n):\n",
    "    c=0\n",
    "    for j in range(n):\n",
    "        if liste[i]==liste[j]:\n",
    "            c+=1\n",
    "    if c==1:\n",
    "        print(\"Sayı= \",liste[i],\"İndeks= \",i)"
   ]
  }
 ],
 "metadata": {
  "kernelspec": {
   "display_name": "Python 3",
   "language": "python",
   "name": "python3"
  },
  "language_info": {
   "codemirror_mode": {
    "name": "ipython",
    "version": 3
   },
   "file_extension": ".py",
   "mimetype": "text/x-python",
   "name": "python",
   "nbconvert_exporter": "python",
   "pygments_lexer": "ipython3",
   "version": "3.8.8"
  }
 },
 "nbformat": 4,
 "nbformat_minor": 5
}
