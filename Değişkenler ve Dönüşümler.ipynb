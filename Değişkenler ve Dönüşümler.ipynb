{
 "cells": [
  {
   "cell_type": "markdown",
   "id": "981fe4a8",
   "metadata": {},
   "source": [
    "# Temel Komutlar"
   ]
  },
  {
   "cell_type": "code",
   "execution_count": 1,
   "id": "3a452ad8",
   "metadata": {},
   "outputs": [
    {
     "name": "stdout",
     "output_type": "stream",
     "text": [
      "Hello World!\n"
     ]
    }
   ],
   "source": [
    "print('Hello World!')"
   ]
  },
  {
   "cell_type": "code",
   "execution_count": 43,
   "id": "8d341745",
   "metadata": {},
   "outputs": [
    {
     "name": "stdout",
     "output_type": "stream",
     "text": [
      "Hello World!\n"
     ]
    }
   ],
   "source": [
    "print('Hello'+' World!')"
   ]
  },
  {
   "cell_type": "code",
   "execution_count": 48,
   "id": "2aee1b3a",
   "metadata": {},
   "outputs": [
    {
     "name": "stdout",
     "output_type": "stream",
     "text": [
      "Hello World!\n"
     ]
    }
   ],
   "source": [
    "print('Hello','World!') "
   ]
  },
  {
   "cell_type": "code",
   "execution_count": 1,
   "id": "a46bb199",
   "metadata": {},
   "outputs": [
    {
     "name": "stdout",
     "output_type": "stream",
     "text": [
      "Adınızı Giriniz: Fatih Enes Altınay\n"
     ]
    }
   ],
   "source": [
    "x = input('Adınızı Giriniz: ')"
   ]
  },
  {
   "cell_type": "code",
   "execution_count": 3,
   "id": "f4037d13",
   "metadata": {},
   "outputs": [
    {
     "name": "stdout",
     "output_type": "stream",
     "text": [
      "Fatih Enes Altınay\n"
     ]
    }
   ],
   "source": [
    "print(x)"
   ]
  },
  {
   "cell_type": "code",
   "execution_count": 5,
   "id": "fc1331c5",
   "metadata": {},
   "outputs": [
    {
     "name": "stdout",
     "output_type": "stream",
     "text": [
      "10.65\n",
      "11\n"
     ]
    }
   ],
   "source": [
    "x=10.65;\n",
    "y = round(x);\n",
    "print(x);\n",
    "print(y);"
   ]
  },
  {
   "cell_type": "code",
   "execution_count": 6,
   "id": "da338272",
   "metadata": {},
   "outputs": [
    {
     "name": "stdout",
     "output_type": "stream",
     "text": [
      "10.65\n",
      "10.7\n"
     ]
    }
   ],
   "source": [
    "x=10.65;\n",
    "y = round(x,1);\n",
    "print(x);\n",
    "print(y);"
   ]
  },
  {
   "cell_type": "code",
   "execution_count": 7,
   "id": "80b5baa8",
   "metadata": {},
   "outputs": [
    {
     "data": {
      "text/plain": [
       "float"
      ]
     },
     "execution_count": 7,
     "metadata": {},
     "output_type": "execute_result"
    }
   ],
   "source": [
    "type(x)"
   ]
  },
  {
   "cell_type": "code",
   "execution_count": 8,
   "id": "660dcbb2",
   "metadata": {},
   "outputs": [
    {
     "name": "stdout",
     "output_type": "stream",
     "text": [
      "2\n"
     ]
    }
   ],
   "source": [
    "# % Kalanı veriyor.\n",
    "x=14\n",
    "y=3\n",
    "print(x%y)"
   ]
  },
  {
   "cell_type": "code",
   "execution_count": 9,
   "id": "28991e63",
   "metadata": {},
   "outputs": [
    {
     "name": "stdout",
     "output_type": "stream",
     "text": [
      "9\n"
     ]
    }
   ],
   "source": [
    "# ** = x**y = x üzeri y\n",
    "x=3\n",
    "y=2\n",
    "print(x**y)"
   ]
  },
  {
   "cell_type": "code",
   "execution_count": 2,
   "id": "a15dc6c4",
   "metadata": {},
   "outputs": [
    {
     "name": "stdout",
     "output_type": "stream",
     "text": [
      "Sayı Gir: 56\n",
      "56\n"
     ]
    }
   ],
   "source": [
    "x = input(\"Sayı Gir: \")\n",
    "print(x)"
   ]
  },
  {
   "cell_type": "markdown",
   "id": "d2dbbf54",
   "metadata": {},
   "source": [
    "# DEĞİŞKENLER"
   ]
  },
  {
   "cell_type": "code",
   "execution_count": 4,
   "id": "6dd4c8a2",
   "metadata": {},
   "outputs": [
    {
     "name": "stdout",
     "output_type": "stream",
     "text": [
      "100\n",
      "1000.0\n",
      "John\n"
     ]
    }
   ],
   "source": [
    "counter=100       #Tam Sayı\n",
    "miles=1000.0      #Reel Sayı\n",
    "name=\"John\"       #Yazı\n",
    "print(counter)\n",
    "print(miles)\n",
    "print(name)       "
   ]
  },
  {
   "cell_type": "code",
   "execution_count": 10,
   "id": "392b10ed",
   "metadata": {},
   "outputs": [],
   "source": [
    "# Yazı(string) = str\n",
    "str = 'Hello World!'"
   ]
  },
  {
   "cell_type": "code",
   "execution_count": 5,
   "id": "52086420",
   "metadata": {},
   "outputs": [
    {
     "name": "stdout",
     "output_type": "stream",
     "text": [
      "Hello World!\n",
      "H\n",
      "llo\n",
      "llo World!\n",
      "Hello World!Hello World!\n",
      "Hello World! Fatih\n"
     ]
    }
   ],
   "source": [
    "# Yazı(string) = str\n",
    "str = 'Hello World!'\n",
    "print(str)\n",
    "print(str[0])\n",
    "print(str[2:5])\n",
    "print(str[2:])\n",
    "print(str*2)\n",
    "print(str+' Fatih')"
   ]
  },
  {
   "cell_type": "code",
   "execution_count": 7,
   "id": "6c354904",
   "metadata": {},
   "outputs": [
    {
     "name": "stdout",
     "output_type": "stream",
     "text": [
      "['abcd', 736, 5.8, 'fatih', 70.2]\n",
      "abcd\n",
      "[736, 5.8]\n",
      "[5.8, 'fatih', 70.2]\n",
      "[5, 'john', 5, 'john']\n",
      "['abcd', 736, 5.8, 'fatih', 70.2, 5, 'john']\n",
      "['abcd', 736, 5.8, 'fatih', 70.2, 8]\n",
      "['abcd', 736, 'fatih', 70.2, 8]\n",
      "[736, 'fatih', 70.2, 8]\n"
     ]
    }
   ],
   "source": [
    "#Liste (List)\n",
    "list = ['abcd', 736, 5.8, 'fatih', 70.2]\n",
    "tinylist = [5, \"john\"]\n",
    "print(list)\n",
    "print(list[0])\n",
    "print(list[1:3])\n",
    "print(list[2:])\n",
    "print(tinylist*2)\n",
    "print(list+ tinylist)\n",
    "list.append(8)\n",
    "print(list)\n",
    "list.remove(5.8)\n",
    "print(list)\n",
    "del list[0]\n",
    "print(list)"
   ]
  },
  {
   "cell_type": "code",
   "execution_count": 10,
   "id": "5c2ad778",
   "metadata": {},
   "outputs": [
    {
     "name": "stdout",
     "output_type": "stream",
     "text": [
      "('abcd', 736, 58, 2.23, 'fatih', 70.2)\n",
      "abcd\n",
      "(736, 58)\n",
      "(58, 2.23, 'fatih', 70.2)\n",
      "(5, 'john', 5, 'john')\n",
      "('abcd', 736, 58, 2.23, 'fatih', 70.2, 5, 'john')\n"
     ]
    }
   ],
   "source": [
    "#Demet (Tuple) Güncellenemez\n",
    "tuple = ('abcd', 736, 58, 2.23, 'fatih', 70.2)\n",
    "tinytuple = (5, \"john\")\n",
    "print(tuple)\n",
    "print(tuple[0])\n",
    "print(tuple[1:3])\n",
    "print(tuple[2:])\n",
    "print(tinytuple*2)\n",
    "print(tuple + tinytuple)"
   ]
  },
  {
   "cell_type": "code",
   "execution_count": 24,
   "id": "f54e41ee",
   "metadata": {},
   "outputs": [
    {
     "name": "stdout",
     "output_type": "stream",
     "text": [
      "I like bananas\n",
      "I like apples\n"
     ]
    }
   ],
   "source": [
    "txt = 'I like bananas'\n",
    "x = txt.replace('bananas', 'apples')\n",
    "print(txt)\n",
    "print(x)"
   ]
  },
  {
   "cell_type": "code",
   "execution_count": 29,
   "id": "72dfe13c",
   "metadata": {},
   "outputs": [
    {
     "name": "stdout",
     "output_type": "stream",
     "text": [
      "This is one\n"
     ]
    }
   ],
   "source": [
    "# Sözlük (Dictionary) = dict\n",
    "dict= {}\n",
    "dict[1] =\"This is one\"\n",
    "dict[2]= \"This is two\"\n",
    "print(dict[1])"
   ]
  },
  {
   "cell_type": "code",
   "execution_count": 60,
   "id": "acf12881",
   "metadata": {},
   "outputs": [
    {
     "name": "stdout",
     "output_type": "stream",
     "text": [
      "3213\n"
     ]
    }
   ],
   "source": [
    "dictVal= {'a' : 3213, 'kkk': 1365}\n",
    "print(dictVal['a'])"
   ]
  },
  {
   "cell_type": "code",
   "execution_count": 61,
   "id": "f075a9cf",
   "metadata": {},
   "outputs": [
    {
     "name": "stdout",
     "output_type": "stream",
     "text": [
      "{'a': 3213, 'kkk': 1365, 'ccc': 2323}\n"
     ]
    }
   ],
   "source": [
    "dictVal['ccc'] =2323\n",
    "print(dictVal)"
   ]
  },
  {
   "cell_type": "code",
   "execution_count": 62,
   "id": "b2d551ce",
   "metadata": {},
   "outputs": [
    {
     "name": "stdout",
     "output_type": "stream",
     "text": [
      "{'a': 3213, 'kkk': 1365}\n"
     ]
    }
   ],
   "source": [
    "del dictVal['ccc']\n",
    "print(dictVal)"
   ]
  },
  {
   "cell_type": "markdown",
   "id": "879d2ce5",
   "metadata": {},
   "source": [
    "# Dönüşümler\n"
   ]
  },
  {
   "cell_type": "code",
   "execution_count": 31,
   "id": "32bc8a98",
   "metadata": {},
   "outputs": [
    {
     "name": "stdout",
     "output_type": "stream",
     "text": [
      "7\n",
      "4\n",
      "7\n",
      "72\n"
     ]
    }
   ],
   "source": [
    "#int tam sayıya dönüştür\n",
    "print(int(7.2))\n",
    "#x string ise tabana göre dönüşüm yapar\n",
    "print(int('100',2))\n",
    "print(int('111',2))\n",
    "print(int('1001000',2))"
   ]
  },
  {
   "cell_type": "code",
   "execution_count": 32,
   "id": "b10576f8",
   "metadata": {},
   "outputs": [
    {
     "name": "stdout",
     "output_type": "stream",
     "text": [
      "['__doc__', '__loader__', '__name__', '__package__', '__spec__', 'acos', 'acosh', 'asin', 'asinh', 'atan', 'atan2', 'atanh', 'ceil', 'comb', 'copysign', 'cos', 'cosh', 'degrees', 'dist', 'e', 'erf', 'erfc', 'exp', 'expm1', 'fabs', 'factorial', 'floor', 'fmod', 'frexp', 'fsum', 'gamma', 'gcd', 'hypot', 'inf', 'isclose', 'isfinite', 'isinf', 'isnan', 'isqrt', 'ldexp', 'lgamma', 'log', 'log10', 'log1p', 'log2', 'modf', 'nan', 'perm', 'pi', 'pow', 'prod', 'radians', 'remainder', 'sin', 'sinh', 'sqrt', 'tan', 'tanh', 'tau', 'trunc']\n"
     ]
    }
   ],
   "source": [
    "import math\n",
    "content= dir(math)\n",
    "print(content)"
   ]
  },
  {
   "cell_type": "code",
   "execution_count": 2,
   "id": "bd5755b6",
   "metadata": {},
   "outputs": [
    {
     "name": "stdout",
     "output_type": "stream",
     "text": [
      "0.5584613316633129\n"
     ]
    }
   ],
   "source": [
    "#random 0-1 arasında rastgele sayı seçer kullanmak için importlamalısın\n",
    "import random\n",
    "print(random.random())"
   ]
  },
  {
   "cell_type": "code",
   "execution_count": 42,
   "id": "b64dc0dd",
   "metadata": {},
   "outputs": [
    {
     "name": "stdout",
     "output_type": "stream",
     "text": [
      "Değer :  66\n",
      "Eleman :  2\n",
      "Karakter :  H\n"
     ]
    }
   ],
   "source": [
    "print('Değer : ',random.choice(range(100)))\n",
    "print('Eleman : ',random.choice([1, 2, 3, 4]))\n",
    "print('Karakter : ',random.choice('Hello World!'))"
   ]
  },
  {
   "cell_type": "code",
   "execution_count": 9,
   "id": "08d6a4bf",
   "metadata": {},
   "outputs": [
    {
     "data": {
      "text/plain": [
       "938"
      ]
     },
     "execution_count": 9,
     "metadata": {},
     "output_type": "execute_result"
    }
   ],
   "source": [
    "import random\n",
    "random.randint(100, 1000)"
   ]
  },
  {
   "cell_type": "code",
   "execution_count": 18,
   "id": "6bf663a8",
   "metadata": {
    "scrolled": true
   },
   "outputs": [
    {
     "data": {
      "text/plain": [
       "820"
      ]
     },
     "execution_count": 18,
     "metadata": {},
     "output_type": "execute_result"
    }
   ],
   "source": [
    "random.randrange(100, 1000, 10)"
   ]
  },
  {
   "cell_type": "code",
   "execution_count": 21,
   "id": "a96c2db4",
   "metadata": {},
   "outputs": [
    {
     "data": {
      "text/plain": [
       "[33, 80, 21, 55, 16]"
      ]
     },
     "execution_count": 21,
     "metadata": {},
     "output_type": "execute_result"
    }
   ],
   "source": [
    "numbers= [33, 55, 16, 80, 21]\n",
    "random.shuffle(numbers)\n",
    "numbers"
   ]
  }
 ],
 "metadata": {
  "kernelspec": {
   "display_name": "Python 3",
   "language": "python",
   "name": "python3"
  },
  "language_info": {
   "codemirror_mode": {
    "name": "ipython",
    "version": 3
   },
   "file_extension": ".py",
   "mimetype": "text/x-python",
   "name": "python",
   "nbconvert_exporter": "python",
   "pygments_lexer": "ipython3",
   "version": "3.8.8"
  },
  "vscode": {
   "interpreter": {
    "hash": "3ad933181bd8a04b432d3370b9dc3b0662ad032c4dfaa4e4f1596c548f763858"
   }
  }
 },
 "nbformat": 4,
 "nbformat_minor": 5
}
